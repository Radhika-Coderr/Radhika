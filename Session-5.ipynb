{
 "cells": [
  {
   "cell_type": "markdown",
   "id": "0e70cbbe-0cce-432c-aaad-ce69a244e5a7",
   "metadata": {},
   "source": [
    "# Q1. Join Tuples if similar initial elements\n",
    "While working with python tuples, we can have a problem in which we need to perform concatenation of records from the similarilty of initial elements. THis problem can have applications in data domains such as Data Science"
   ]
  },
  {
   "cell_type": "code",
   "execution_count": 2,
   "id": "273b4677-b0d1-46e3-95d1-be8218b892fe",
   "metadata": {},
   "outputs": [
    {
     "name": "stdout",
     "output_type": "stream",
     "text": [
      "Initially the list is : [(5, 6), (5, 7), (5, 8), (6, 10), (7, 13)]\n",
      "Joined list : [(5, 6, 7, 8), (6, 10), (7, 13)]\n"
     ]
    }
   ],
   "source": [
    "myList = [(5, 6), (5, 7), (5, 8), (6, 10), (7, 13)]\n",
    "print(\"Initially the list is : \" + str(myList))\n",
    "\n",
    "joinList = []\n",
    "for val in myList:\t\t\t\t\t\t\t\t\t\t\n",
    "\tif joinList and joinList[-1][0] == val[0]:\t\t\t\n",
    "\t\tjoinList[-1].extend(val[1:])\t\t\t\t\t\t\n",
    "\telse:\n",
    "\t\tjoinList.append([ele for ele in val])\t\n",
    "joinList = list(map(tuple, joinList))\n",
    "\n",
    "print(\"Joined list : \" + str(joinList))"
   ]
  },
  {
   "cell_type": "markdown",
   "id": "18cf310d-c5e0-4683-938c-46b11e40fbbf",
   "metadata": {},
   "source": [
    "## Q2. Multiply Adjacent elements (both side)and taken sum of right and lest side multiplication result."
   ]
  },
  {
   "cell_type": "code",
   "execution_count": 4,
   "id": "ae556c01-4b48-46ca-9134-d8e0608d13c6",
   "metadata": {},
   "outputs": [
    {
     "name": "stdout",
     "output_type": "stream",
     "text": [
      "The Original tuple:(1, 5, 7, 8, 10)\n",
      "Resultant tuple after multiplicatio:(5, 35, 56, 80)\n"
     ]
    }
   ],
   "source": [
    "test_tup=(1,5,7,8,10)\n",
    "\n",
    "print (\"The Original tuple:\"+str(test_tup))\n",
    "\n",
    "res= tuple (i*j for i, j in zip(test_tup, test_tup[1:]))\n",
    "\n",
    "print (\"Resultant tuple after multiplicatio:\"+str(res))"
   ]
  },
  {
   "cell_type": "markdown",
   "id": "9c9d9a40-2baa-4bac-b3bf-ccabcd254780",
   "metadata": {},
   "source": [
    "## Q3. Check is tuple are same or not?\n",
    "Two tuples would be same if both tuples have same elements at same index"
   ]
  },
  {
   "cell_type": "code",
   "execution_count": 1,
   "id": "534108a0-66d5-4b4a-a261-c1801ec6df33",
   "metadata": {},
   "outputs": [
    {
     "name": "stdout",
     "output_type": "stream",
     "text": [
      "The original list 1 : (1, 2, 3, 4, 5)\n",
      "The original list 2 : (1, 2, 3, 4, 5)\n",
      "Is tuples are same or not ? : True\n"
     ]
    }
   ],
   "source": [
    "t1 = (1,2,3,4,5)\n",
    "\n",
    "t2 = (1,2,3,4,5)  \n",
    " \n",
    "\n",
    "print(\"The original list 1 : \" + str(t1)) \n",
    "\n",
    "print(\"The original list 2 : \" + str(t2)) \n",
    " \n",
    "res = t1 == t2 \n",
    "print(\"Is tuples are same or not ? : \" + str(res))"
   ]
  },
  {
   "cell_type": "markdown",
   "id": "f7c02ce7-90e7-450e-8890-5c1725c02fd8",
   "metadata": {},
   "source": [
    "## Q4. Count no. of tuples, list and set from list.\n",
    "list1=[{'hi','bye'},{'How are you', 'good'},('Arun', 'karan'),[1,2,3],[4,5,6]]"
   ]
  },
  {
   "cell_type": "code",
   "execution_count": 8,
   "id": "3a739a62-c3ae-4ab7-b2a4-ffb1aad7940a",
   "metadata": {},
   "outputs": [
    {
     "name": "stdout",
     "output_type": "stream",
     "text": [
      "List-2\n",
      "Set-2\n",
      "Tuples-1\n"
     ]
    }
   ],
   "source": [
    "list1 = [{'hi','bye'},{'How are you', 'good'},('Arun', 'karan'),[1,2,3],[4,5,6]]\n",
    "tuple_count = 0\n",
    "list_count = 0\n",
    "set_count = 0\n",
    "\n",
    "for item in list1:\n",
    "    if isinstance(item, tuple):\n",
    "        tuple_count += 1\n",
    "    elif isinstance(item, list):\n",
    "        list_count += 1\n",
    "    elif isinstance(item, set):\n",
    "        set_count += 1\n",
    "        \n",
    "print(f\"List-{list_count}\")\n",
    "print(f\"Set-{set_count}\")\n",
    "print(f\"Tuples-{tuple_count}\")"
   ]
  },
  {
   "cell_type": "markdown",
   "id": "dc3b773b-f253-4e63-a9a8-0e3e874e244a",
   "metadata": {},
   "source": [
    "## Q5. Shortlist Students for a job role.\n",
    "Ask user to input students record and store in tuples for each record. Then Ask user to input three things he wants in the candidate- Primary Skill, Higher Education, Year of Graduation.Show every students record in form of tuples if matches all required criteria. It is assumed that there will be only one primry skill.If no such candidate found, print No such candidate.\n",
    "\n",
    "Input : Enter No of records- 2 Enter Details of student-1 Enter Student name- Manohar Enter Higher Education- B.Tech Enter Primary Skill- Python Enter Year of Graduation- 2022 Enter Details of student-2 Enter Student name- Ponian Enter Higher Education- B.Sc. Enter Primary Skill- C++ Enter Year of Graduation- 2020\n",
    "\n",
    "Enter Job Role Requirement Enter Skill- Python Enter Higher Education- B.Tech Enter Year of Graduation- 2"
   ]
  },
  {
   "cell_type": "code",
   "execution_count": 4,
   "id": "13467026-766e-488b-b9c7-686b71204f47",
   "metadata": {},
   "outputs": [
    {
     "name": "stdin",
     "output_type": "stream",
     "text": [
      "Enter No of records:  2\n"
     ]
    },
    {
     "name": "stdout",
     "output_type": "stream",
     "text": [
      "Enter Details of student-1\n"
     ]
    },
    {
     "name": "stdin",
     "output_type": "stream",
     "text": [
      "Enter Student name:  Radhika\n",
      "Enter Higher Education:  bcs\n",
      "Enter Primary Skill:  data science\n",
      "Enter Year of Graduation:  2024\n"
     ]
    },
    {
     "name": "stdout",
     "output_type": "stream",
     "text": [
      "Enter Details of student-2\n"
     ]
    },
    {
     "name": "stdin",
     "output_type": "stream",
     "text": [
      "Enter Student name:  Pallavi\n",
      "Enter Higher Education:  bca\n",
      "Enter Primary Skill:  cpp\n",
      "Enter Year of Graduation:  2022\n"
     ]
    },
    {
     "name": "stdout",
     "output_type": "stream",
     "text": [
      "\n",
      "Enter Job Role Requirement\n"
     ]
    },
    {
     "name": "stdin",
     "output_type": "stream",
     "text": [
      "Enter Skill:  data science\n",
      "Enter Higher Education:  bcs\n",
      "Enter Year of Graduation:  2024\n"
     ]
    },
    {
     "name": "stdout",
     "output_type": "stream",
     "text": [
      "('Radhika', 'bcs', 'data science', '2024')\n"
     ]
    }
   ],
   "source": [
    "def shortlist_students(records, skill_required, education_required, graduation_year_required):\n",
    "    shortlisted = []\n",
    "    for record in records:\n",
    "        name, education, skill, graduation_year = record\n",
    "        if skill == skill_required and education == education_required and graduation_year == graduation_year_required:\n",
    "            shortlisted.append(record)\n",
    "    return shortlisted if shortlisted else [\"No such candidate\"]\n",
    "\n",
    "num_records = int(input(\"Enter No of records: \"))\n",
    "records = []\n",
    "\n",
    "\n",
    "for i in range(1, num_records + 1):\n",
    "    print(f\"Enter Details of student-{i}\")\n",
    "    name = input(\"Enter Student name: \")\n",
    "    education = input(\"Enter Higher Education: \")\n",
    "    skill = input(\"Enter Primary Skill: \")\n",
    "    graduation_year = input(\"Enter Year of Graduation: \")\n",
    "    records.append((name, education, skill, graduation_year))\n",
    "\n",
    "print(\"\\nEnter Job Role Requirement\")\n",
    "skill_required = input(\"Enter Skill: \")\n",
    "education_required = input(\"Enter Higher Education: \")\n",
    "graduation_year_required = input(\"Enter Year of Graduation: \")\n",
    "\n",
    "shortlisted_candidates = shortlist_students(records, skill_required, education_required, graduation_year_required)\n",
    "\n",
    "for candidate in shortlisted_candidates:\n",
    "    print(candidate)"
   ]
  },
  {
   "cell_type": "markdown",
   "id": "e9ab9fd6-1701-48bf-bc34-c481015252ce",
   "metadata": {},
   "source": [
    "# SET"
   ]
  },
  {
   "cell_type": "markdown",
   "id": "439e2f44-b254-4780-9af4-61b902ac9ab9",
   "metadata": {},
   "source": [
    "## Q1. Write a program to find a set of common elements in three lists using sets.\n",
    "Input: ar1=[1,5,10,20,40,80] ar2=[6,7,20,80,100] ar3=[3,4,15,20,30,70,80,120]"
   ]
  },
  {
   "cell_type": "code",
   "execution_count": 3,
   "id": "5c1318f2-00cc-441e-aa7e-f14b17a11760",
   "metadata": {},
   "outputs": [
    {
     "name": "stdout",
     "output_type": "stream",
     "text": [
      "Common elements: [80, 20]\n"
     ]
    }
   ],
   "source": [
    "def find_common_elements(ar1, ar2, ar3):\n",
    "    \n",
    "    set1 = set(ar1)\n",
    "    set2 = set(ar2)\n",
    "    set3 = set(ar3)\n",
    "    \n",
    "    common_elements = set1.intersection(set2, set3)\n",
    "    \n",
    "    result = list(common_elements)\n",
    "    \n",
    "    return result\n",
    "ar1 = [1, 5, 10, 20, 40, 80]\n",
    "ar2 = [6, 7, 20, 80, 100]\n",
    "ar3 = [3, 4, 15, 20, 30, 70, 80, 120]\n",
    "\n",
    "common_elements = find_common_elements(ar1, ar2, ar3)\n",
    "print(\"Common elements:\", common_elements)"
   ]
  },
  {
   "cell_type": "markdown",
   "id": "095005ee-ac1d-4304-894a-9d92d448fbfd",
   "metadata": {},
   "source": [
    "## Q2. Write a program to count unique number of vowels using sets in a given string. Lowercase and upercase vowels will be taken as different.\n",
    "Input: Str1 = \"hands-on data science mentorship pro"
   ]
  },
  {
   "cell_type": "code",
   "execution_count": 6,
   "id": "38ea8e16-e973-4eb1-8bf9-a05c6bf164c5",
   "metadata": {},
   "outputs": [
    {
     "name": "stdout",
     "output_type": "stream",
     "text": [
      "Number of unique vowels: 4\n"
     ]
    }
   ],
   "source": [
    "def count_unique_vowels(input_str):\n",
    "    vowels = {'a', 'e', 'i', 'o', 'u', 'A', 'E', 'I', 'O', 'U'}  # Set of vowels including both cases\n",
    "    \n",
    "    unique_vowels = set()\n",
    "    \n",
    "    for char in input_str:\n",
    "        if char in vowels:\n",
    "            unique_vowels.add(char)\n",
    "    \n",
    "    return len(unique_vowels)\n",
    "\n",
    "Str1 = \"hands-on data science mentorship pro\"\n",
    "unique_vowels_count = count_unique_vowels(Str1)\n",
    "print(\"Number of unique vowels:\", unique_vowels_count)"
   ]
  },
  {
   "cell_type": "markdown",
   "id": "862510f6-98a1-432c-8788-f31e46df7d9d",
   "metadata": {},
   "source": [
    "## Q3.Write a program to Check if a given string is binary string of or not.\n",
    "A string is said to be binary if it's consists of only two unique characters. Take string input from user. Input: str = \"01010101010\""
   ]
  },
  {
   "cell_type": "code",
   "execution_count": 11,
   "id": "6eb1c0ae-407c-4e92-b45e-f5a315d2a8cb",
   "metadata": {},
   "outputs": [
    {
     "name": "stdin",
     "output_type": "stream",
     "text": [
      "Enter a string to check if it's a binary string:  012154654352435\n"
     ]
    },
    {
     "name": "stdout",
     "output_type": "stream",
     "text": [
      "No, the string is not a binary string.\n"
     ]
    }
   ],
   "source": [
    "def is_binary_string(input_str):\n",
    "    \n",
    "    unique_chars = set(input_str)\n",
    "    \n",
    "    if len(unique_chars) == 2:\n",
    "        return True\n",
    "    else:\n",
    "        return False\n",
    "\n",
    "input_str = input(\"Enter a string to check if it's a binary string: \")\n",
    "\n",
    "if is_binary_string(input_str):\n",
    "    print(\"Yes, the string is a binary string.\")\n",
    "else:\n",
    "    print(\"No, the string is not a binary string.\")"
   ]
  },
  {
   "cell_type": "markdown",
   "id": "cb3c8801-a734-4af2-9b16-df153e177cbd",
   "metadata": {},
   "source": [
    "## Q4. Find Union of n Arrays.\n",
    "Input: [[1,2,2,4,3,6], [5,1,3,4], [9,5,7,1], [2,1,4,3]]"
   ]
  },
  {
   "cell_type": "code",
   "execution_count": 13,
   "id": "5d08e049-1d92-45d2-8bb7-12b08ccff0e3",
   "metadata": {},
   "outputs": [
    {
     "name": "stdout",
     "output_type": "stream",
     "text": [
      "Union of arrays: [1, 2, 3, 4, 5, 6, 7, 9]\n"
     ]
    }
   ],
   "source": [
    "def find_union(arrays):\n",
    "    union_set = set()\n",
    "    \n",
    "    for array in arrays:\n",
    "        union_set.update(array)\n",
    "    \n",
    "    union_list = sorted(list(union_set))\n",
    "    return union_list\n",
    "\n",
    "arrays = [\n",
    "    [1, 2, 2, 4, 3, 6],\n",
    "    [5, 1, 3, 4],\n",
    "    [9, 5, 7, 1],\n",
    "    [2, 4, 1, 3]\n",
    "]\n",
    "\n",
    "union_result = find_union(arrays)\n",
    "print(\"Union of arrays:\", union_result)"
   ]
  },
  {
   "cell_type": "markdown",
   "id": "3e033597-8220-4d67-955a-d7e16d52c659",
   "metadata": {},
   "source": [
    "## Q5. Intersection of two lists. Intersection of two list means we need to take all those elements which are common to both of the initial lists and store them into another list. Only use using list-comprehension.\n",
    "Input: lst1 = {15, 9, 10, 56, 23, 78, 5, 4, 9} lst2 = {9, 4, 5, 36, 47, 26, 10, 45, 87}"
   ]
  },
  {
   "cell_type": "code",
   "execution_count": 16,
   "id": "67eedc68-bcf6-4a4f-9186-f008d842152c",
   "metadata": {},
   "outputs": [
    {
     "name": "stdout",
     "output_type": "stream",
     "text": [
      "[9, 10, 5, 4, 9]\n"
     ]
    }
   ],
   "source": [
    "lst1 = [15, 9, 10, 56, 23, 78, 5, 4, 9]\n",
    "lst2 = [9, 4, 5, 36, 47, 26, 10, 45, 87]\n",
    "\n",
    "intersection = [item for item in lst1 if item in lst2]\n",
    "\n",
    "print(intersection)"
   ]
  },
  {
   "cell_type": "markdown",
   "id": "6044d185-aa12-4474-9dbd-ecb1e3273d3e",
   "metadata": {},
   "source": [
    "# DICTIONARY"
   ]
  },
  {
   "cell_type": "markdown",
   "id": "a718dd22-6bc6-444c-8df1-d38bc92fdd90",
   "metadata": {},
   "source": [
    "## Q1. Key with maximum unique values\n",
    "Given a dictionary with values list, extract key whose value has most unique values. Input : test_ dict= {\"CampusX\": [5,7,9,4,0], \"is\": [6,7,4,3,3],\" Best\": [9,9,6,5,5]}"
   ]
  },
  {
   "cell_type": "code",
   "execution_count": 20,
   "id": "56ea2ad2-d72c-4ea3-991c-8e164616a608",
   "metadata": {},
   "outputs": [
    {
     "name": "stdout",
     "output_type": "stream",
     "text": [
      "CampusX\n"
     ]
    }
   ],
   "source": [
    "test_dict = {\"CampusX\": [5, 7, 9, 4, 0], \"is\": [6, 7, 4, 3, 3], \"Best\": [9, 9, 6, 5, 5]}\n",
    "\n",
    "max_unique_key = max(test_dict, key=lambda k: len(set(test_dict[k])))\n",
    "\n",
    "print(max_unique_key)"
   ]
  },
  {
   "cell_type": "code",
   "execution_count": 22,
   "id": "2faa4e7f-acb8-45b2-a138-ecc27ae20389",
   "metadata": {},
   "outputs": [
    {
     "name": "stdout",
     "output_type": "stream",
     "text": [
      "Best\n"
     ]
    }
   ],
   "source": [
    "test_dict = {\"CampusX\": [5, 7, 7,7, 7], \"is\": [6, 7, 7, 7], \"Best\": [9, 9, 6, 5, 5]}\n",
    "\n",
    "max_unique_key = max(test_dict, key=lambda k: len(set(test_dict[k])))\n",
    "\n",
    "print(max_unique_key)"
   ]
  },
  {
   "cell_type": "markdown",
   "id": "c3952d06-6817-47ea-acf7-58155f850478",
   "metadata": {},
   "source": [
    "## Q2. Replace words from Dictionary. Given String, replace it’s words from lookup dictionary.\n",
    "Input:\n",
    "\n",
    "test_str = 'CampusX best for DS students.' repl_dict = {\"best\" : \"is the best channel\", \"DS\" : \"Data-Science\"}"
   ]
  },
  {
   "cell_type": "code",
   "execution_count": 25,
   "id": "aeeab410-1f7f-4ae9-9868-0b38a8e020ea",
   "metadata": {},
   "outputs": [
    {
     "name": "stdout",
     "output_type": "stream",
     "text": [
      "CampusX is the best channel for Data-Science students.\n"
     ]
    }
   ],
   "source": [
    "test_str = 'CampusX best for DS students.'\n",
    "repl_dict = {\"best\": \"is the best channel\", \"DS\": \"Data-Science\"}\n",
    "\n",
    "words = test_str.split()\n",
    "\n",
    "replaced_words = [repl_dict.get(word, word) for word in words]\n",
    "\n",
    "result_str = ' '.join(replaced_words)\n",
    "\n",
    "print(result_str)"
   ]
  },
  {
   "cell_type": "code",
   "execution_count": 27,
   "id": "fac9e847-06e9-4f71-8053-955a296d3e07",
   "metadata": {},
   "outputs": [
    {
     "name": "stdout",
     "output_type": "stream",
     "text": [
      "CampusX good for Data-Science students.\n"
     ]
    }
   ],
   "source": [
    "test_str = 'CampusX good for DS students.'\n",
    "repl_dict = {\"Good\": \"is the best channel\", \"DS\": \"Data-Science\"}\n",
    "\n",
    "words = test_str.split()\n",
    "\n",
    "replaced_words = [repl_dict.get(word, word) for word in words]\n",
    "\n",
    "result_str = ' '.join(replaced_words)\n",
    "\n",
    "print(result_str)"
   ]
  },
  {
   "cell_type": "markdown",
   "id": "0d12e049-a8a9-45e9-ae90-1eff67e29f34",
   "metadata": {},
   "source": [
    "## Q3. Convert List to List of dictionaries. Given list values and keys list, convert these values to key value pairs in form of list of dictionaries.\n",
    "Input: test_list = [\"DataScience\", 3, \"is\", 8] key_list = [\"name\", \"id\"]"
   ]
  },
  {
   "cell_type": "code",
   "execution_count": 30,
   "id": "c2e29cf5-3a12-4240-a243-ecfd1108f1fa",
   "metadata": {},
   "outputs": [
    {
     "name": "stdout",
     "output_type": "stream",
     "text": [
      "[{'name': 'DataScience', 'id': 3}, {'name': 'is', 'id': 8}]\n"
     ]
    }
   ],
   "source": [
    "test_list = [\"DataScience\", 3, \"is\", 8]\n",
    "key_list = [\"name\", \"id\"]\n",
    "\n",
    "result = [{key_list[0]: test_list[i], key_list[1]: test_list[i + 1]} for i in range(0, len(test_list), 2)]\n",
    "\n",
    "print(result)"
   ]
  },
  {
   "cell_type": "markdown",
   "id": "2be4a09f-9af7-47ef-a92e-5bca9a1ea319",
   "metadata": {},
   "source": [
    "## Q4. Convert a list of Tuples into Dictionary.\n",
    "Input: [(\"akash\", 10), (\"gaurav\", 12), (\"anand\", 14), (\"suraj\", 20), (\"akhil\", 25), (\"ashish\", 30)]"
   ]
  },
  {
   "cell_type": "code",
   "execution_count": 33,
   "id": "ec82875f-578a-46ef-8d73-aa96c3b53961",
   "metadata": {},
   "outputs": [
    {
     "name": "stdout",
     "output_type": "stream",
     "text": [
      "[{'name': 'DataScience', 'id': 3}, {'name': 'is', 'id': 8}]\n"
     ]
    }
   ],
   "source": [
    "test_list = [\"DataScience\", 3, \"is\", 8]\n",
    "key_list = [\"name\", \"id\"]\n",
    "\n",
    "result = [{key_list[0]: test_list[i], key_list[1]: test_list[i + 1]} for i in range(0, len(test_list), 2)]\n",
    "\n",
    "print(result)"
   ]
  },
  {
   "cell_type": "markdown",
   "id": "ad340219-4bc3-4f19-aa04-1eea52af8ade",
   "metadata": {},
   "source": [
    "## Q5. Sort Dictionary key and values List.\n",
    "Input: {'c': [3], 'b': [12, 10], 'a': [19, 4]}"
   ]
  },
  {
   "cell_type": "code",
   "execution_count": 36,
   "id": "e94dc106-f0eb-4de0-ab66-b6bb019fb9b2",
   "metadata": {},
   "outputs": [
    {
     "name": "stdout",
     "output_type": "stream",
     "text": [
      "{'a': [4, 19], 'b': [10, 12], 'c': [3]}\n"
     ]
    }
   ],
   "source": [
    "input_dict = {'c': [3], 'b': [12, 10], 'a': [19, 4]}\n",
    "              \n",
    "sorted_dict = {key: sorted(values) for key, values in sorted(input_dict.items())}\n",
    "\n",
    "print(sorted_dict)"
   ]
  },
  {
   "cell_type": "code",
   "execution_count": null,
   "id": "eacb05a8-1618-4d6d-88d4-1dbc8040d372",
   "metadata": {},
   "outputs": [],
   "source": []
  }
 ],
 "metadata": {
  "kernelspec": {
   "display_name": "Python 3 (ipykernel)",
   "language": "python",
   "name": "python3"
  },
  "language_info": {
   "codemirror_mode": {
    "name": "ipython",
    "version": 3
   },
   "file_extension": ".py",
   "mimetype": "text/x-python",
   "name": "python",
   "nbconvert_exporter": "python",
   "pygments_lexer": "ipython3",
   "version": "3.11.7"
  }
 },
 "nbformat": 4,
 "nbformat_minor": 5
}
