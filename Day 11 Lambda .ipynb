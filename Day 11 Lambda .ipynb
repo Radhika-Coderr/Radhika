{
 "cells": [
  {
   "cell_type": "markdown",
   "id": "d6c8eb10-01f0-4abe-af3e-abbdfa74d5fa",
   "metadata": {},
   "source": [
    "# LAMBDA"
   ]
  },
  {
   "cell_type": "markdown",
   "id": "243570b9-a007-479b-a0d4-4a77ff8bc1b4",
   "metadata": {},
   "source": [
    "##### Lambda function is small anonymous fuction \n",
    "\n",
    "#### A lambda function can take any number arguments but can only have one expreation ."
   ]
  },
  {
   "cell_type": "markdown",
   "id": "c4745c4f-41b3-4807-9be2-ba1077ea51df",
   "metadata": {},
   "source": [
    "### SYNTAX:- Lambda (keyboard) a,b (parameters) : a+b (Expression) "
   ]
  },
  {
   "cell_type": "code",
   "execution_count": 8,
   "id": "66a2a450-51ba-4b2d-9f74-7adec1e3634a",
   "metadata": {},
   "outputs": [
    {
     "data": {
      "text/plain": [
       "25"
      ]
     },
     "execution_count": 8,
     "metadata": {},
     "output_type": "execute_result"
    }
   ],
   "source": [
    "a = lambda x : x**2\n",
    "a(5)"
   ]
  },
  {
   "cell_type": "code",
   "execution_count": 12,
   "id": "00b3913c-3a43-44c4-ab04-6aaef21a3256",
   "metadata": {},
   "outputs": [
    {
     "data": {
      "text/plain": [
       "False"
      ]
     },
     "execution_count": 12,
     "metadata": {},
     "output_type": "execute_result"
    }
   ],
   "source": [
    "a = lambda x : x %2 == 0\n",
    "a(3)"
   ]
  },
  {
   "cell_type": "code",
   "execution_count": 14,
   "id": "1bb7e6b1-6276-4de5-aebd-b0975a589628",
   "metadata": {},
   "outputs": [
    {
     "data": {
      "text/plain": [
       "'even'"
      ]
     },
     "execution_count": 14,
     "metadata": {},
     "output_type": "execute_result"
    }
   ],
   "source": [
    "a = lambda x : \"even\" if x%2 == 0 else \"odd\"\n",
    "a(2)"
   ]
  },
  {
   "cell_type": "code",
   "execution_count": 39,
   "id": "52bec967-d356-4a63-8e84-be768e61d4a6",
   "metadata": {},
   "outputs": [],
   "source": [
    "L = [1,2,3,4,5]\n",
    "\n",
    "def cube(l):\n",
    "    for i in l:\n",
    "        i = i**3\n",
    "        print(i)\n"
   ]
  },
  {
   "cell_type": "code",
   "execution_count": 43,
   "id": "321f7ce0-5c37-449e-993d-16843489f5eb",
   "metadata": {},
   "outputs": [
    {
     "name": "stdout",
     "output_type": "stream",
     "text": [
      "1\n",
      "8\n",
      "27\n",
      "64\n",
      "125\n"
     ]
    }
   ],
   "source": [
    "l = [1,2,3,4,5]\n",
    "cube(l)"
   ]
  },
  {
   "cell_type": "code",
   "execution_count": 32,
   "id": "ae9dc3be-54b3-41a8-ae09-5de1f60986b2",
   "metadata": {},
   "outputs": [
    {
     "name": "stdout",
     "output_type": "stream",
     "text": [
      "[1, 8, 27, 64, 125]\n"
     ]
    }
   ],
   "source": [
    "#hof \n",
    "def transform (f,l):\n",
    "    output = []\n",
    "    for i in l:\n",
    "        output.append(f(i))\n",
    "    print(output)\n",
    "\n",
    "L = [1,2,3,4,5]\n",
    "transform (lambda x:x**3,L)"
   ]
  },
  {
   "cell_type": "markdown",
   "id": "e579ac7b-9f62-41aa-aa30-db8103a1e4bc",
   "metadata": {},
   "source": [
    "## MAP"
   ]
  },
  {
   "cell_type": "code",
   "execution_count": 41,
   "id": "94636574-f7bd-4c56-a081-1f2f17c36c57",
   "metadata": {},
   "outputs": [
    {
     "data": {
      "text/plain": [
       "[1, 4, 9, 16, 25]"
      ]
     },
     "execution_count": 41,
     "metadata": {},
     "output_type": "execute_result"
    }
   ],
   "source": [
    "### Squer the items of list \n",
    "\n",
    "list(map(lambda x:x**2,[1,2,3,4,5]))"
   ]
  },
  {
   "cell_type": "code",
   "execution_count": 49,
   "id": "2358eb84-c5a0-4e8c-ba73-9c15488b0866",
   "metadata": {},
   "outputs": [
    {
     "data": {
      "text/plain": [
       "<map at 0x178428817e0>"
      ]
     },
     "execution_count": 49,
     "metadata": {},
     "output_type": "execute_result"
    }
   ],
   "source": [
    "L = [1,2,3,4,5]\n",
    "map(lambda x : \"even\" if x%2 == 0 else \"odd\",l)\n"
   ]
  },
  {
   "cell_type": "code",
   "execution_count": 51,
   "id": "33a871a9-7f01-45e0-9eb8-d304805eb773",
   "metadata": {},
   "outputs": [
    {
     "data": {
      "text/plain": [
       "['odd', 'even', 'odd', 'even', 'odd']"
      ]
     },
     "execution_count": 51,
     "metadata": {},
     "output_type": "execute_result"
    }
   ],
   "source": [
    "L = [1,2,3,4,5]\n",
    "list(map(lambda x : \"even\" if x%2 == 0 else \"odd\",l))"
   ]
  },
  {
   "cell_type": "code",
   "execution_count": 53,
   "id": "044c5cad-b6b7-44d6-9fb1-f2586f3bde78",
   "metadata": {},
   "outputs": [],
   "source": [
    "### fetch the name of all users from the dict\n",
    "\n",
    "users = [\n",
    "    {\n",
    "        \"name\":\"rahul\",\n",
    "        \"age\":23,\n",
    "        \"gender\":\"male\"\n",
    "    },\n",
    "    {\n",
    "        \"name\":\"nitish\",\n",
    "        \"age\":20,\n",
    "        \"gender\":\"male\"\n",
    "    },\n",
    "    {\n",
    "        \"name\":\"swamini\",\n",
    "        \"age\":25,\n",
    "        \"gender\":\"female\"\n",
    "    }\n",
    "]"
   ]
  },
  {
   "cell_type": "code",
   "execution_count": 57,
   "id": "897da376-b861-4f23-92cc-32b58096dba4",
   "metadata": {},
   "outputs": [
    {
     "data": {
      "text/plain": [
       "[23, 20, 25]"
      ]
     },
     "execution_count": 57,
     "metadata": {},
     "output_type": "execute_result"
    }
   ],
   "source": [
    "list(map(lambda x : x[\"gender\"],users))\n",
    "list(map(lambda x : x[\"name\"],users))\n",
    "list(map(lambda x : x[\"age\"],users))"
   ]
  },
  {
   "cell_type": "markdown",
   "id": "a78d954c-362c-472b-8441-161079b91616",
   "metadata": {},
   "source": [
    "# FILTER FUNCTION"
   ]
  },
  {
   "cell_type": "code",
   "execution_count": 62,
   "id": "ba262948-10b7-4024-9f48-9fa234c39602",
   "metadata": {},
   "outputs": [
    {
     "data": {
      "text/plain": [
       "[6, 7, 8, 9, 9, 6]"
      ]
     },
     "execution_count": 62,
     "metadata": {},
     "output_type": "execute_result"
    }
   ],
   "source": [
    "# numbers greater than 5\n",
    "L = [1,4,6,5,3,7,8,9,4,5,9,6]\n",
    "\n",
    "list(filter(lambda x :x>5,L))"
   ]
  },
  {
   "cell_type": "code",
   "execution_count": 66,
   "id": "ec8623fa-e214-49c9-b6f7-e9188bef6b57",
   "metadata": {},
   "outputs": [
    {
     "data": {
      "text/plain": [
       "['apple', 'aamm']"
      ]
     },
     "execution_count": 66,
     "metadata": {},
     "output_type": "execute_result"
    }
   ],
   "source": [
    "# fetch fruits stratin with \"a\"\n",
    "\n",
    "fruits = [\"apple\",\"cherry\",\"banana\",\"kiwi\",\"aamm\"]\n",
    "\n",
    "list(filter(lambda x:x.startswith(\"a\"),fruits))"
   ]
  },
  {
   "cell_type": "code",
   "execution_count": 68,
   "id": "d55cd8dc-675d-47f9-ad2d-0b68a0a7f543",
   "metadata": {},
   "outputs": [
    {
     "data": {
      "text/plain": [
       "15"
      ]
     },
     "execution_count": 68,
     "metadata": {},
     "output_type": "execute_result"
    }
   ],
   "source": [
    "# reduce function\n",
    "\n",
    "# sum of all items \n",
    "import functools\n",
    "\n",
    "functools.reduce(lambda x,y : x+y, [1,2,3,4,5])"
   ]
  },
  {
   "cell_type": "code",
   "execution_count": 80,
   "id": "928f17f2-8bfb-4a0d-b2cd-478b270953c1",
   "metadata": {},
   "outputs": [
    {
     "data": {
      "text/plain": [
       "90"
      ]
     },
     "execution_count": 80,
     "metadata": {},
     "output_type": "execute_result"
    }
   ],
   "source": [
    "# find the min\n",
    "\n",
    "L = {12,45,67,89,90,78,50}\n",
    "\n",
    "functools.reduce(lambda x,y : x if x>y else y,L)"
   ]
  },
  {
   "cell_type": "code",
   "execution_count": null,
   "id": "2c58d04d-a41b-47ed-bcc2-a42564654bf0",
   "metadata": {},
   "outputs": [],
   "source": []
  }
 ],
 "metadata": {
  "kernelspec": {
   "display_name": "Python 3 (ipykernel)",
   "language": "python",
   "name": "python3"
  },
  "language_info": {
   "codemirror_mode": {
    "name": "ipython",
    "version": 3
   },
   "file_extension": ".py",
   "mimetype": "text/x-python",
   "name": "python",
   "nbconvert_exporter": "python",
   "pygments_lexer": "ipython3",
   "version": "3.11.7"
  }
 },
 "nbformat": 4,
 "nbformat_minor": 5
}
