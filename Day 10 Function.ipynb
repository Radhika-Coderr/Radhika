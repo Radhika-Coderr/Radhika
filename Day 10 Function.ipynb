{
 "cells": [
  {
   "cell_type": "code",
   "execution_count": null,
   "id": "1368d023-7ad5-4d11-a5b0-13f337651ae2",
   "metadata": {},
   "outputs": [],
   "source": []
  },
  {
   "cell_type": "code",
   "execution_count": 18,
   "id": "6217f64a-006b-4216-8f85-2377c8598854",
   "metadata": {},
   "outputs": [],
   "source": [
    "def is_even(num):                 #num working as parameter\n",
    "    \"\"\"this function returns if a given number is odd or even input - any valid integer\n",
    "    output - odd/even\n",
    "    \"\"\"\n",
    "    if type(num) == int:\n",
    "       if num % 2 == 0:\n",
    "        return \"num is even\"\n",
    "    else:\n",
    "        return \"invalid input\""
   ]
  },
  {
   "cell_type": "code",
   "execution_count": 20,
   "id": "910e4dae-a5a5-4d9c-a1bb-7a69e1e1685b",
   "metadata": {},
   "outputs": [
    {
     "data": {
      "text/plain": [
       "'invalid input'"
      ]
     },
     "execution_count": 20,
     "metadata": {},
     "output_type": "execute_result"
    }
   ],
   "source": [
    "is_even(\"string\")"
   ]
  },
  {
   "cell_type": "code",
   "execution_count": 26,
   "id": "e068da1f-dccd-4edf-9a3c-af6eb9078517",
   "metadata": {},
   "outputs": [
    {
     "name": "stdout",
     "output_type": "stream",
     "text": [
      "None\n",
      "num is even\n",
      "None\n",
      "num is even\n",
      "None\n",
      "num is even\n",
      "None\n",
      "num is even\n",
      "None\n",
      "num is even\n"
     ]
    }
   ],
   "source": [
    "for i in range (1,11):\n",
    "   x= is_even(i)\n",
    "   print(x)"
   ]
  },
  {
   "cell_type": "code",
   "execution_count": 28,
   "id": "2ef7d232-57b3-4f15-b53a-5577e83098c5",
   "metadata": {},
   "outputs": [
    {
     "name": "stdout",
     "output_type": "stream",
     "text": [
      "None\n"
     ]
    }
   ],
   "source": [
    "print(is_even.__doc__)"
   ]
  },
  {
   "cell_type": "markdown",
   "id": "70390251-8b74-42db-a491-4eb0b7afc0c5",
   "metadata": {},
   "source": [
    "# Types of Argument\n",
    "#### 1. Default Argument \n",
    "#### 2. Positional Argument\n",
    "#### 3. Keyword Argument"
   ]
  },
  {
   "cell_type": "code",
   "execution_count": 43,
   "id": "675273b4-58c7-4759-bd77-eb5e1926d571",
   "metadata": {},
   "outputs": [],
   "source": [
    "#default argument\n",
    "\n",
    "def power (a=1,b=1):              #add default value in parameter\n",
    "    return a**b"
   ]
  },
  {
   "cell_type": "code",
   "execution_count": 45,
   "id": "6440011b-5b7d-4949-8621-6c0ddecd1805",
   "metadata": {},
   "outputs": [
    {
     "data": {
      "text/plain": [
       "1"
      ]
     },
     "execution_count": 45,
     "metadata": {},
     "output_type": "execute_result"
    }
   ],
   "source": [
    "power(1)"
   ]
  },
  {
   "cell_type": "code",
   "execution_count": 47,
   "id": "c1e0d1a6-a6e0-4a09-a59d-3d4533132e02",
   "metadata": {},
   "outputs": [
    {
     "data": {
      "text/plain": [
       "8"
      ]
     },
     "execution_count": 47,
     "metadata": {},
     "output_type": "execute_result"
    }
   ],
   "source": [
    "power (2,3)"
   ]
  },
  {
   "cell_type": "code",
   "execution_count": 49,
   "id": "77f97619-7c52-4688-8679-de592833270d",
   "metadata": {},
   "outputs": [
    {
     "data": {
      "text/plain": [
       "8"
      ]
     },
     "execution_count": 49,
     "metadata": {},
     "output_type": "execute_result"
    }
   ],
   "source": [
    "#keyword argument\n",
    "\n",
    "power(b=3,a=2)        "
   ]
  },
  {
   "cell_type": "code",
   "execution_count": 51,
   "id": "6eeecbe6-82bd-4f84-87cc-798b213d8169",
   "metadata": {},
   "outputs": [],
   "source": [
    "def power (a=1,b=3):\n",
    "    return a+b"
   ]
  },
  {
   "cell_type": "code",
   "execution_count": 53,
   "id": "5e84f095-8d8b-419e-8cef-b85c81c6725c",
   "metadata": {},
   "outputs": [
    {
     "data": {
      "text/plain": [
       "4"
      ]
     },
     "execution_count": 53,
     "metadata": {},
     "output_type": "execute_result"
    }
   ],
   "source": [
    "power(a=1,b=3)"
   ]
  },
  {
   "cell_type": "code",
   "execution_count": 71,
   "id": "4cc1a0c6-55ad-4590-b9f7-262f1852da7f",
   "metadata": {},
   "outputs": [
    {
     "ename": "NameError",
     "evalue": "name 'args' is not defined",
     "output_type": "error",
     "traceback": [
      "\u001b[1;31m---------------------------------------------------------------------------\u001b[0m",
      "\u001b[1;31mNameError\u001b[0m                                 Traceback (most recent call last)",
      "Cell \u001b[1;32mIn[71], line 4\u001b[0m\n\u001b[0;32m      1\u001b[0m \u001b[38;5;28;01mdef\u001b[39;00m \u001b[38;5;21mmultiply\u001b[39m (\u001b[38;5;241m*\u001b[39margs):\n\u001b[0;32m      2\u001b[0m     product \u001b[38;5;241m=\u001b[39m \u001b[38;5;241m1\u001b[39m\n\u001b[1;32m----> 4\u001b[0m \u001b[38;5;28;01mfor\u001b[39;00m i \u001b[38;5;129;01min\u001b[39;00m args:\n\u001b[0;32m      5\u001b[0m     product \u001b[38;5;241m=\u001b[39m product \u001b[38;5;241m*\u001b[39mi\n\u001b[0;32m      7\u001b[0m \u001b[38;5;28mprint\u001b[39m(args)\n",
      "\u001b[1;31mNameError\u001b[0m: name 'args' is not defined"
     ]
    }
   ],
   "source": [
    "def multiply (*args):\n",
    "    product = 1\n",
    "\n",
    "for i in args:\n",
    "    product = product *i\n",
    "    \n",
    "print(args)\n",
    "  return product"
   ]
  },
  {
   "cell_type": "code",
   "execution_count": 75,
   "id": "3eacd014-d93e-402e-96e2-57142e8a0443",
   "metadata": {},
   "outputs": [],
   "source": [
    "def display (**kwargs):\n",
    "    for(key,value)in kwargs.items():\n",
    "        print(key,\"--->\",value)"
   ]
  },
  {
   "cell_type": "code",
   "execution_count": 79,
   "id": "7bfff0d5-3982-47fe-8e3e-e4e6477488d8",
   "metadata": {},
   "outputs": [
    {
     "name": "stdout",
     "output_type": "stream",
     "text": [
      "India ---> Delhi\n",
      "Srilanka ---> Colombo\n",
      "Nepal ---> Kathymandu\n",
      "Pakishtan ---> Karachi\n"
     ]
    }
   ],
   "source": [
    "display(India=\"Delhi\",Srilanka=\"Colombo\",Nepal=\"Kathymandu\",Pakishtan=\"Karachi\")"
   ]
  },
  {
   "cell_type": "markdown",
   "id": "6962da2a-1098-4923-811e-dc469780b90d",
   "metadata": {},
   "source": [
    "# Function Without Return Statement"
   ]
  },
  {
   "cell_type": "code",
   "execution_count": 84,
   "id": "96dfdf70-2101-4de7-a349-7e40820e8ede",
   "metadata": {},
   "outputs": [
    {
     "name": "stdout",
     "output_type": "stream",
     "text": [
      "None\n"
     ]
    }
   ],
   "source": [
    "l = [1,2,3,4]\n",
    "print(l.append(5))"
   ]
  },
  {
   "cell_type": "code",
   "execution_count": 89,
   "id": "3fc8ca0a-4b3d-42fe-897c-674ee91a4048",
   "metadata": {},
   "outputs": [
    {
     "data": {
      "text/plain": [
       "[1, 2, 3, 4, 5]"
      ]
     },
     "execution_count": 89,
     "metadata": {},
     "output_type": "execute_result"
    }
   ],
   "source": [
    "l"
   ]
  },
  {
   "cell_type": "markdown",
   "id": "4a1bf72a-dea0-4f89-a7ca-88b6031ae7ce",
   "metadata": {},
   "source": [
    "# How functions works on memory "
   ]
  },
  {
   "cell_type": "code",
   "execution_count": null,
   "id": "f437c044-9650-47aa-acd7-33051c98abb3",
   "metadata": {},
   "outputs": [],
   "source": []
  }
 ],
 "metadata": {
  "kernelspec": {
   "display_name": "Python 3 (ipykernel)",
   "language": "python",
   "name": "python3"
  },
  "language_info": {
   "codemirror_mode": {
    "name": "ipython",
    "version": 3
   },
   "file_extension": ".py",
   "mimetype": "text/x-python",
   "name": "python",
   "nbconvert_exporter": "python",
   "pygments_lexer": "ipython3",
   "version": "3.11.7"
  }
 },
 "nbformat": 4,
 "nbformat_minor": 5
}
