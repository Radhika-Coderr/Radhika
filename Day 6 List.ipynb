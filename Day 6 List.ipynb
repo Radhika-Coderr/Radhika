{
 "cells": [
  {
   "cell_type": "markdown",
   "id": "da81b70c-86d5-45a3-9282-0e8bb8f849e5",
   "metadata": {},
   "source": [
    "# LIST"
   ]
  },
  {
   "cell_type": "code",
   "execution_count": 2,
   "id": "ea4ef613-af79-4f7d-8c3d-8b1d9bc3730d",
   "metadata": {},
   "outputs": [
    {
     "data": {
      "text/plain": [
       "140714701013800"
      ]
     },
     "execution_count": 2,
     "metadata": {},
     "output_type": "execute_result"
    }
   ],
   "source": [
    "L = [1,2,3]\n",
    "\n",
    "id(L)\n",
    "id(L[0])"
   ]
  },
  {
   "cell_type": "code",
   "execution_count": 4,
   "id": "14e2cef9-eee8-468b-b1a2-a030c0e8ff99",
   "metadata": {},
   "outputs": [
    {
     "data": {
      "text/plain": [
       "140714701013800"
      ]
     },
     "execution_count": 4,
     "metadata": {},
     "output_type": "execute_result"
    }
   ],
   "source": [
    "id (1)"
   ]
  },
  {
   "cell_type": "code",
   "execution_count": 6,
   "id": "bd303aba-0662-4a4b-94bd-2f49cd275e44",
   "metadata": {},
   "outputs": [
    {
     "data": {
      "text/plain": [
       "140714701013800"
      ]
     },
     "execution_count": 6,
     "metadata": {},
     "output_type": "execute_result"
    }
   ],
   "source": [
    "id (2)\n",
    "\n",
    "id(L)\n",
    "id(L[0])"
   ]
  },
  {
   "cell_type": "code",
   "execution_count": 8,
   "id": "78f8cb20-ca37-4faa-997b-2a2cdf1a459d",
   "metadata": {},
   "outputs": [
    {
     "data": {
      "text/plain": [
       "140714701013800"
      ]
     },
     "execution_count": 8,
     "metadata": {},
     "output_type": "execute_result"
    }
   ],
   "source": [
    "id (3)\n",
    "\n",
    "id(L)\n",
    "id(L[0])"
   ]
  },
  {
   "cell_type": "markdown",
   "id": "d4177fad-5eb5-4d7c-b7da-cd7a7b73539a",
   "metadata": {},
   "source": [
    "# CREATING LIST"
   ]
  },
  {
   "cell_type": "code",
   "execution_count": 11,
   "id": "c489042e-290c-4438-93d5-791325ed3fa1",
   "metadata": {},
   "outputs": [
    {
     "name": "stdout",
     "output_type": "stream",
     "text": [
      "[]\n",
      "[1, 2, 3, 4, 5]\n"
     ]
    }
   ],
   "source": [
    "#empty list \n",
    "print([])\n",
    "\n",
    "# 1D list  ----> homo\n",
    "L =[1,2,3,4,5]\n",
    "print(L)"
   ]
  },
  {
   "cell_type": "code",
   "execution_count": 13,
   "id": "0c2c8f79-7f20-4318-b2aa-4798e1052fcb",
   "metadata": {},
   "outputs": [
    {
     "name": "stdout",
     "output_type": "stream",
     "text": [
      "[1, 2, 3, 4, [5, 6]]\n"
     ]
    }
   ],
   "source": [
    "#2D list \n",
    "\n",
    "L1 = [1,2,3,4,[5,6]]\n",
    "print(L1)"
   ]
  },
  {
   "cell_type": "code",
   "execution_count": 15,
   "id": "0d91a21c-c754-4bed-946a-36330e03b854",
   "metadata": {},
   "outputs": [
    {
     "name": "stdout",
     "output_type": "stream",
     "text": [
      "[[[1, 2], [3, 4]], [[5, 6], [7, 8]]]\n"
     ]
    }
   ],
   "source": [
    "# 3D list \n",
    "L2 = [[[1,2],[3,4]],[[5,6],[7,8]]]\n",
    "print(L2)"
   ]
  },
  {
   "cell_type": "code",
   "execution_count": 17,
   "id": "830c0517-33dc-487f-8d3c-193e5a21117e",
   "metadata": {},
   "outputs": [
    {
     "name": "stdout",
     "output_type": "stream",
     "text": [
      "[]\n",
      "[1, 2, 3, 4, 5]\n",
      "[1, 2, 3, 4, [5, 6]]\n",
      "[[[1, 2], [3, 4]], [[5, 6], [7, 8]]]\n",
      "[1, 5.0, True, 'string', [5, 6.8]]\n",
      "['h', 'e', 'l', 'l', 'o']\n"
     ]
    }
   ],
   "source": [
    "# ALL LIST COMBINE\n",
    "\n",
    "\n",
    "#empty list      \n",
    "print([])\n",
    "\n",
    "# 1D list  ----> homo\n",
    "L =[1,2,3,4,5]\n",
    "print(L)\n",
    "\n",
    "#2D list \n",
    "\n",
    "L1 = [1,2,3,4,[5,6]]\n",
    "print(L1)\n",
    "\n",
    "\n",
    "# 3D list \n",
    "L2 = [[[1,2],[3,4]],[[5,6],[7,8]]]\n",
    "print(L2)\n",
    "\n",
    "\n",
    "#  Hetro list\n",
    "L3 = [1,5.0,True,\"string\",[5,6.8]]\n",
    "print(L3)\n",
    "\n",
    "\n",
    "# using type conversation \n",
    "print(list(\"hello\"))"
   ]
  },
  {
   "cell_type": "markdown",
   "id": "185a2455-9dba-44c2-a691-8bb20c1b192c",
   "metadata": {},
   "source": [
    "# Accessing a List : using index"
   ]
  },
  {
   "cell_type": "code",
   "execution_count": 20,
   "id": "b2abd296-b24a-40a0-b81e-53b47aa7d999",
   "metadata": {},
   "outputs": [
    {
     "data": {
      "text/plain": [
       "8"
      ]
     },
     "execution_count": 20,
     "metadata": {},
     "output_type": "execute_result"
    }
   ],
   "source": [
    "# +ve indexing \n",
    "\n",
    "L =[1,2,3,4,5]\n",
    "L[4]\n",
    "\n",
    "L1 = [1,2,3,4,[5,6]]\n",
    "L1[4][1]\n",
    "\n",
    "\n",
    "L2 = [[[1,2],[3,4]],[[5,6],[7,8]]]\n",
    "L2[1][0][1]\n",
    "\n",
    "\n",
    "L2 = [[[1,2],[3,4]],[[5,6],[7,8]]]\n",
    "L2[1][1][1]"
   ]
  },
  {
   "cell_type": "markdown",
   "id": "cc037151-48e4-4cb6-aa0b-f29b4e26c3d2",
   "metadata": {},
   "source": [
    "# Slicing"
   ]
  },
  {
   "cell_type": "code",
   "execution_count": 23,
   "id": "2fdf2992-be9e-419a-b575-91159762c763",
   "metadata": {},
   "outputs": [
    {
     "data": {
      "text/plain": [
       "[5, 6, 7, 8, 9, 10]"
      ]
     },
     "execution_count": 23,
     "metadata": {},
     "output_type": "execute_result"
    }
   ],
   "source": [
    "L = [1,2,3,4,5,6,7,8,9,10]\n",
    "L[4:10]\n",
    "\n",
    "# - VE \n",
    "L[-6:]"
   ]
  },
  {
   "cell_type": "markdown",
   "id": "60a870d6-da43-4814-8b37-4280ab10b1af",
   "metadata": {},
   "source": [
    "#  Adding elements in the list \n",
    "##### 1. Append function\n",
    "##### 2. Extend Function \n",
    "##### 3. Insert function"
   ]
  },
  {
   "cell_type": "code",
   "execution_count": 31,
   "id": "570d8238-f53c-4363-a618-b68f40a8cedb",
   "metadata": {},
   "outputs": [
    {
     "data": {
      "text/plain": [
       "[1, 2, 3, 4, 5, 6]"
      ]
     },
     "execution_count": 31,
     "metadata": {},
     "output_type": "execute_result"
    }
   ],
   "source": [
    "# Append is used for adding single function \n",
    "\n",
    "L = [1,2,3,4,5]\n",
    "L.append(6)\n",
    "L"
   ]
  },
  {
   "cell_type": "code",
   "execution_count": 33,
   "id": "ad381b55-97d9-4652-9fee-0d5668f2eca0",
   "metadata": {},
   "outputs": [
    {
     "data": {
      "text/plain": [
       "[1, 2, 3, 4, 5, 6, 7, 8, 9, 10]"
      ]
     },
     "execution_count": 33,
     "metadata": {},
     "output_type": "execute_result"
    }
   ],
   "source": [
    "# Extend is used for multiple elements function \n",
    "\n",
    "L.extend([7,8,9,10])\n",
    "L"
   ]
  },
  {
   "cell_type": "code",
   "execution_count": 35,
   "id": "991061e9-ec7d-4ce0-b03b-764b45d5ef29",
   "metadata": {},
   "outputs": [
    {
     "data": {
      "text/plain": [
       "[1, 2, 3, [4, 5, 6]]"
      ]
     },
     "execution_count": 35,
     "metadata": {},
     "output_type": "execute_result"
    }
   ],
   "source": [
    "L1 = [1,2,3]\n",
    "L1.append([4,5,6])\n",
    "L1"
   ]
  },
  {
   "cell_type": "code",
   "execution_count": 37,
   "id": "df120a42-5dc6-4fa4-8665-6d12a21c30ab",
   "metadata": {},
   "outputs": [
    {
     "data": {
      "text/plain": [
       "[1, 2, 2.5, 3, 4, 5]"
      ]
     },
     "execution_count": 37,
     "metadata": {},
     "output_type": "execute_result"
    }
   ],
   "source": [
    "# insert \n",
    "\n",
    "L = [1,2,3,4,5]\n",
    "\n",
    "L.insert (2,2.5)\n",
    "L"
   ]
  },
  {
   "cell_type": "code",
   "execution_count": null,
   "id": "7aaccf05-9a5f-4b60-89f3-160b80100c0c",
   "metadata": {},
   "outputs": [],
   "source": []
  }
 ],
 "metadata": {
  "kernelspec": {
   "display_name": "Python 3 (ipykernel)",
   "language": "python",
   "name": "python3"
  },
  "language_info": {
   "codemirror_mode": {
    "name": "ipython",
    "version": 3
   },
   "file_extension": ".py",
   "mimetype": "text/x-python",
   "name": "python",
   "nbconvert_exporter": "python",
   "pygments_lexer": "ipython3",
   "version": "3.11.7"
  }
 },
 "nbformat": 4,
 "nbformat_minor": 5
}
