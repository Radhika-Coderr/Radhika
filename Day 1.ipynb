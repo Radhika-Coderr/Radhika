{
 "cells": [
  {
   "cell_type": "code",
   "execution_count": 1,
   "id": "addc2c61-70b7-4669-ab0f-0b3c77872a5a",
   "metadata": {},
   "outputs": [
    {
     "name": "stdout",
     "output_type": "stream",
     "text": [
      "10\n",
      "10 5\n"
     ]
    }
   ],
   "source": [
    "# int \n",
    "print (10)\n",
    "\n",
    "#float\n",
    "print(10,5)"
   ]
  },
  {
   "cell_type": "code",
   "execution_count": 5,
   "id": "e5a257d9-7f43-4353-85fa-2485ff5b0617",
   "metadata": {},
   "outputs": [
    {
     "name": "stdout",
     "output_type": "stream",
     "text": [
      "string A 10 A 10.5\n"
     ]
    }
   ],
   "source": [
    "print(\"string\",10,10.5,sep=\" A \")"
   ]
  },
  {
   "cell_type": "code",
   "execution_count": 7,
   "id": "bdc6ccce-3bb7-4a12-93f2-29ee857a730b",
   "metadata": {},
   "outputs": [
    {
     "name": "stdout",
     "output_type": "stream",
     "text": [
      "hello world\n"
     ]
    }
   ],
   "source": [
    "print(\"hello\",end=\" \")\n",
    "print(\"world\")"
   ]
  },
  {
   "cell_type": "code",
   "execution_count": 11,
   "id": "72b29741-b110-49dd-88aa-aa5b26f279b3",
   "metadata": {},
   "outputs": [
    {
     "name": "stdout",
     "output_type": "stream",
     "text": [
      "5\n",
      "5\n"
     ]
    }
   ],
   "source": [
    "#variable\n",
    "\n",
    "a = 5\n",
    "b = 5\n",
    "print (a)\n",
    "print (b)"
   ]
  },
  {
   "cell_type": "code",
   "execution_count": 13,
   "id": "f9445864-f7b6-4f0b-9d50-8c0cb837de0c",
   "metadata": {},
   "outputs": [
    {
     "data": {
      "text/plain": [
       "140714708157352"
      ]
     },
     "execution_count": 13,
     "metadata": {},
     "output_type": "execute_result"
    }
   ],
   "source": [
    "id (a)"
   ]
  },
  {
   "cell_type": "code",
   "execution_count": 15,
   "id": "5fecc86b-6921-464c-8734-a26dc93b1bbf",
   "metadata": {},
   "outputs": [
    {
     "data": {
      "text/plain": [
       "140714708157352"
      ]
     },
     "execution_count": 15,
     "metadata": {},
     "output_type": "execute_result"
    }
   ],
   "source": [
    "id (b)"
   ]
  },
  {
   "cell_type": "code",
   "execution_count": 17,
   "id": "5438d15f-5bb0-44c4-b5ba-252c2ae79b7d",
   "metadata": {},
   "outputs": [],
   "source": [
    "a,b,c = 10,10,10"
   ]
  },
  {
   "cell_type": "code",
   "execution_count": 19,
   "id": "389993c7-af3b-4232-962d-882695443f01",
   "metadata": {},
   "outputs": [
    {
     "data": {
      "text/plain": [
       "10"
      ]
     },
     "execution_count": 19,
     "metadata": {},
     "output_type": "execute_result"
    }
   ],
   "source": [
    "a"
   ]
  },
  {
   "cell_type": "code",
   "execution_count": 21,
   "id": "fd54bbe6-e844-4c0d-ab7c-337178472b9c",
   "metadata": {},
   "outputs": [
    {
     "data": {
      "text/plain": [
       "10"
      ]
     },
     "execution_count": 21,
     "metadata": {},
     "output_type": "execute_result"
    }
   ],
   "source": [
    "b"
   ]
  },
  {
   "cell_type": "code",
   "execution_count": 23,
   "id": "dc914995-9285-4e16-936c-068d6f9cf345",
   "metadata": {},
   "outputs": [
    {
     "data": {
      "text/plain": [
       "10"
      ]
     },
     "execution_count": 23,
     "metadata": {},
     "output_type": "execute_result"
    }
   ],
   "source": [
    "c"
   ]
  },
  {
   "cell_type": "code",
   "execution_count": 25,
   "id": "5fc12252-2c0f-43dd-9944-f06728a59b87",
   "metadata": {},
   "outputs": [],
   "source": [
    "_ = 5"
   ]
  },
  {
   "cell_type": "code",
   "execution_count": 27,
   "id": "bf41919f-2aa0-4be3-9ef1-76f934582501",
   "metadata": {},
   "outputs": [
    {
     "name": "stdout",
     "output_type": "stream",
     "text": [
      "5\n"
     ]
    }
   ],
   "source": [
    "print(_)"
   ]
  },
  {
   "cell_type": "code",
   "execution_count": 29,
   "id": "cfb70f77-8678-4f84-aa2e-8ded13d8b055",
   "metadata": {},
   "outputs": [
    {
     "name": "stdin",
     "output_type": "stream",
     "text": [
      " 10\n"
     ]
    },
    {
     "name": "stdout",
     "output_type": "stream",
     "text": [
      "10\n"
     ]
    }
   ],
   "source": [
    "Num1 = input()\n",
    "\n",
    "print(Num1)"
   ]
  },
  {
   "cell_type": "code",
   "execution_count": 31,
   "id": "6518af1e-f9a0-4032-9f3e-e81f0c2a9c72",
   "metadata": {},
   "outputs": [
    {
     "data": {
      "text/plain": [
       "10"
      ]
     },
     "execution_count": 31,
     "metadata": {},
     "output_type": "execute_result"
    }
   ],
   "source": [
    "int(10)"
   ]
  },
  {
   "cell_type": "code",
   "execution_count": 33,
   "id": "3dbdd496-2bfe-442d-9cf3-4bf6ecb9ff8e",
   "metadata": {},
   "outputs": [
    {
     "data": {
      "text/plain": [
       "10"
      ]
     },
     "execution_count": 33,
     "metadata": {},
     "output_type": "execute_result"
    }
   ],
   "source": [
    "int(10.5)"
   ]
  },
  {
   "cell_type": "code",
   "execution_count": 35,
   "id": "686102e2-dab7-4fa5-8ef3-72649c28a2ed",
   "metadata": {},
   "outputs": [
    {
     "data": {
      "text/plain": [
       "10.0"
      ]
     },
     "execution_count": 35,
     "metadata": {},
     "output_type": "execute_result"
    }
   ],
   "source": [
    "float(10)"
   ]
  },
  {
   "cell_type": "code",
   "execution_count": 37,
   "id": "688365e0-9f12-4b31-80e2-16352425da24",
   "metadata": {},
   "outputs": [
    {
     "data": {
      "text/plain": [
       "'10'"
      ]
     },
     "execution_count": 37,
     "metadata": {},
     "output_type": "execute_result"
    }
   ],
   "source": [
    "str(10)"
   ]
  },
  {
   "cell_type": "code",
   "execution_count": 39,
   "id": "cce2a6eb-dfc4-4626-b64e-96f5439237dc",
   "metadata": {},
   "outputs": [
    {
     "data": {
      "text/plain": [
       "'(3+5j)'"
      ]
     },
     "execution_count": 39,
     "metadata": {},
     "output_type": "execute_result"
    }
   ],
   "source": [
    "str(3+5j)"
   ]
  },
  {
   "cell_type": "code",
   "execution_count": 41,
   "id": "3d05811e-15d3-4168-acc5-a4cfc6183b7f",
   "metadata": {},
   "outputs": [
    {
     "data": {
      "text/plain": [
       "True"
      ]
     },
     "execution_count": 41,
     "metadata": {},
     "output_type": "execute_result"
    }
   ],
   "source": [
    "bool(\"0\")"
   ]
  },
  {
   "cell_type": "code",
   "execution_count": 43,
   "id": "28ec9278-33b9-4588-a20c-c4c92e43097e",
   "metadata": {},
   "outputs": [
    {
     "name": "stdout",
     "output_type": "stream",
     "text": [
      "Additin of three no. is = 18\n"
     ]
    }
   ],
   "source": [
    "a = 3\n",
    "b = 10\n",
    "c = 5\n",
    "d = a+b+c\n",
    "print(\"Additin of three no. is =\",d)"
   ]
  },
  {
   "cell_type": "markdown",
   "id": "af83f187-233e-4d46-be01-86ea74f27e2a",
   "metadata": {},
   "source": [
    "# OPERATORS"
   ]
  },
  {
   "cell_type": "code",
   "execution_count": 48,
   "id": "8a4f84b9-2e99-4eed-96f5-98c2f7cad287",
   "metadata": {},
   "outputs": [
    {
     "name": "stdout",
     "output_type": "stream",
     "text": [
      "12\n",
      "8\n",
      "20\n",
      "5.0\n",
      "0\n",
      "5\n",
      "78125\n"
     ]
    }
   ],
   "source": [
    "# arthmatical operator \n",
    "\n",
    "print(10+2)      #addition\n",
    "\n",
    "print(10-2)      #substraction\n",
    "\n",
    "print(10*2)      #multiplication\n",
    "\n",
    "print(10/2)      #division\n",
    "\n",
    "print(10%2)      #modulus\n",
    "\n",
    "print(10//2)     #floar division\n",
    "\n",
    "print(5**7)      #exponaont"
   ]
  },
  {
   "cell_type": "code",
   "execution_count": 52,
   "id": "f30e3bd9-deca-4068-bdca-338e8fed00b3",
   "metadata": {},
   "outputs": [
    {
     "name": "stdout",
     "output_type": "stream",
     "text": [
      "12\n",
      "24\n"
     ]
    }
   ],
   "source": [
    "#operators \n",
    "#arithmatical operators\n",
    "\n",
    "345\n",
    "\n",
    "print(3+4+5)  #addition \n",
    "\n",
    "\n",
    "789\n",
    "\n",
    "print(7+8+9)  #addition"
   ]
  },
  {
   "cell_type": "code",
   "execution_count": null,
   "id": "d0cda4f5-e92d-46fc-a48c-3f36ed5a9061",
   "metadata": {},
   "outputs": [],
   "source": []
  }
 ],
 "metadata": {
  "kernelspec": {
   "display_name": "Python 3 (ipykernel)",
   "language": "python",
   "name": "python3"
  },
  "language_info": {
   "codemirror_mode": {
    "name": "ipython",
    "version": 3
   },
   "file_extension": ".py",
   "mimetype": "text/x-python",
   "name": "python",
   "nbconvert_exporter": "python",
   "pygments_lexer": "ipython3",
   "version": "3.11.7"
  }
 },
 "nbformat": 4,
 "nbformat_minor": 5
}
