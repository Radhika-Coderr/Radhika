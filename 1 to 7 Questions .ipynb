{
 "cells": [
  {
   "cell_type": "markdown",
   "id": "ec6dd088-7cf6-4f16-8616-31405e3b9234",
   "metadata": {},
   "source": [
    "# Q1. Create 2 lists from a given list where ,\n",
    "1st list will contain all the odd numbers from the original list and the 2nd one will contain all the even numbers\n",
    "L=[1,2,3,4,5,6]"
   ]
  },
  {
   "cell_type": "code",
   "execution_count": 2,
   "id": "d3fff4a8-405a-408e-80fc-184fa3318cb6",
   "metadata": {},
   "outputs": [
    {
     "name": "stdout",
     "output_type": "stream",
     "text": [
      "Odd numbers: [1, 3, 5]\n",
      "Even numbers: [2, 4, 6]\n"
     ]
    }
   ],
   "source": [
    "L = [1, 2, 3, 4, 5, 6]\n",
    "\n",
    "odd_numbers = [x for x in L if x % 2 != 0]\n",
    "\n",
    "even_numbers = [x for x in L if x % 2 == 0]\n",
    "\n",
    "print(\"Odd numbers:\", odd_numbers)\n",
    "print(\"Even numbers:\", even_numbers)"
   ]
  },
  {
   "cell_type": "markdown",
   "id": "fdf5cf3a-2a94-45a6-a52c-9953791d8f1f",
   "metadata": {},
   "source": [
    "# Q2. How to take list as input from user"
   ]
  },
  {
   "cell_type": "code",
   "execution_count": 6,
   "id": "d0366e8e-547b-463a-9620-92bd5d0cfbd9",
   "metadata": {},
   "outputs": [
    {
     "name": "stdin",
     "output_type": "stream",
     "text": [
      "Enter the list items:  5\n"
     ]
    },
    {
     "name": "stdout",
     "output_type": "stream",
     "text": [
      "[5]\n"
     ]
    }
   ],
   "source": [
    "list_1=[]\n",
    "list_1= [int (item) for item in input (\"Enter the list items: \").split()]\n",
    "print(list_1)"
   ]
  },
  {
   "cell_type": "markdown",
   "id": "4b6a8a5c-bda0-4fe6-90e8-e13f1866025f",
   "metadata": {},
   "source": [
    "# Q3. Write a program to merge 2 list without using the + operator\n",
    "## L1 = [1,2,3,4]\n",
    "##  L2 = [5,6,7,8]"
   ]
  },
  {
   "cell_type": "code",
   "execution_count": 10,
   "id": "471fd483-02be-4d47-b522-6e998fe20673",
   "metadata": {},
   "outputs": [
    {
     "name": "stdout",
     "output_type": "stream",
     "text": [
      "[1, 2, 3, 4, 5, 6, 7, 8]\n"
     ]
    }
   ],
   "source": [
    "L1 = [1,2,3,4]\n",
    "L2 = [5,6,7,8]\n",
    "\n",
    "for item in L2:\n",
    "    L1.append(item)\n",
    "print(L1)\n"
   ]
  },
  {
   "cell_type": "markdown",
   "id": "2f0d79e2-185f-4f84-a71d-2ca34dbf6a9d",
   "metadata": {},
   "source": [
    "# Q4. Write a program to replace an item with a different item if found in the list\n",
    "##  L = [1,2,3,4,5,3]\n",
    "##  replace 3 with 300"
   ]
  },
  {
   "cell_type": "code",
   "execution_count": 16,
   "id": "6d3af105-d73c-4c62-abab-2dd15eaf9561",
   "metadata": {},
   "outputs": [
    {
     "name": "stdout",
     "output_type": "stream",
     "text": [
      "[1, 2, 300, 4, 5, 300]\n"
     ]
    }
   ],
   "source": [
    "L = [1,2,3,4,5,3]\n",
    "\n",
    "for i in range(len(L)):\n",
    "    if L[i] == 3:\n",
    "        L[i] = 300\n",
    "print(L)"
   ]
  },
  {
   "cell_type": "markdown",
   "id": "a4301b1b-ad56-4fe9-b7c8-d07985d9acfe",
   "metadata": {},
   "source": [
    "# Q5. Write a program that can convert a 2D list to 1D list"
   ]
  },
  {
   "cell_type": "code",
   "execution_count": 20,
   "id": "050e3ea3-d056-4d51-82eb-da2252fbf8d2",
   "metadata": {},
   "outputs": [
    {
     "name": "stdout",
     "output_type": "stream",
     "text": [
      "Original 2D list: [[1, 2, 3], [4, 5], [6, 7, 8, 9]]\n",
      "Flattened 1D list: [1, 2, 3, 4, 5, 6, 7, 8, 9]\n"
     ]
    }
   ],
   "source": [
    "def flatten_2d_list(input_list):\n",
    "    flattened_list = []\n",
    "    for sublist in input_list:\n",
    "        for item in sublist:\n",
    "            flattened_list.append(item)\n",
    "    return flattened_list\n",
    "\n",
    "two_dimensional_list = [[1, 2, 3], [4, 5], [6, 7, 8, 9]]\n",
    "one_dimensional_list = flatten_2d_list(two_dimensional_list)\n",
    "print(\"Original 2D list:\", two_dimensional_list)\n",
    "print(\"Flattened 1D list:\", one_dimensional_list)"
   ]
  },
  {
   "cell_type": "markdown",
   "id": "490c9de8-7732-4abf-9bbb-b300ecc864ff",
   "metadata": {},
   "source": [
    "# Q6. Write a program to remove duplicate items from a list\n",
    "   L = [1,2,1,2,3,4,5,3,4]"
   ]
  },
  {
   "cell_type": "code",
   "execution_count": 24,
   "id": "00f6b0eb-8f21-403c-8466-a8097a8c5129",
   "metadata": {},
   "outputs": [
    {
     "name": "stdout",
     "output_type": "stream",
     "text": [
      "Original list: [1, 2, 1, 2, 3, 4, 5, 3, 4]\n",
      "List with duplicates removed: [1, 2, 3, 4, 5]\n"
     ]
    }
   ],
   "source": [
    "L = [1, 2, 1, 2, 3, 4, 5, 3, 4]\n",
    "unique_items = list(set(L))\n",
    "\n",
    "print(\"Original list:\", L)\n",
    "print(\"List with duplicates removed:\", unique_items)"
   ]
  },
  {
   "cell_type": "markdown",
   "id": "414285b7-b362-48a4-b3a8-daa23c88c1e2",
   "metadata": {},
   "source": [
    "# Q7. Write a program to check if a list is in ascending order or not"
   ]
  },
  {
   "cell_type": "code",
   "execution_count": 28,
   "id": "c6670a45-2c35-4c76-a682-ddb27fdf8567",
   "metadata": {},
   "outputs": [
    {
     "name": "stdout",
     "output_type": "stream",
     "text": [
      "List 1 is ascending: True\n",
      "List 2 is ascending: False\n"
     ]
    }
   ],
   "source": [
    "def is_ascending(input_list):\n",
    "    return all(input_list[i] <= input_list[i + 1] for i in range(len(input_list) - 1))\n",
    "\n",
    "list1 = [1, 2, 3, 4, 5]\n",
    "list2 = [1, 3, 2, 4, 5]\n",
    "\n",
    "print(\"List 1 is ascending:\", is_ascending(list1))\n",
    "print(\"List 2 is ascending:\", is_ascending(list2))"
   ]
  },
  {
   "cell_type": "code",
   "execution_count": null,
   "id": "27488dda-ce1e-4ae6-9762-e778aadeace4",
   "metadata": {},
   "outputs": [],
   "source": []
  }
 ],
 "metadata": {
  "kernelspec": {
   "display_name": "Python 3 (ipykernel)",
   "language": "python",
   "name": "python3"
  },
  "language_info": {
   "codemirror_mode": {
    "name": "ipython",
    "version": 3
   },
   "file_extension": ".py",
   "mimetype": "text/x-python",
   "name": "python",
   "nbconvert_exporter": "python",
   "pygments_lexer": "ipython3",
   "version": "3.11.7"
  }
 },
 "nbformat": 4,
 "nbformat_minor": 5
}
