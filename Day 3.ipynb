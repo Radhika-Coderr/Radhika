{
 "cells": [
  {
   "cell_type": "code",
   "execution_count": 1,
   "id": "410b68cf-64d4-49b3-b658-5bf3ca04dc30",
   "metadata": {},
   "outputs": [
    {
     "name": "stdout",
     "output_type": "stream",
     "text": [
      "1010\n",
      "1011\n"
     ]
    }
   ],
   "source": [
    "a= 10\n",
    "b= 11\n",
    "print(format(a,'b'))\n",
    "print(format(b,'b'))"
   ]
  },
  {
   "cell_type": "code",
   "execution_count": 3,
   "id": "6375f532-b3ec-47ca-b604-191d431ba3be",
   "metadata": {},
   "outputs": [
    {
     "name": "stdout",
     "output_type": "stream",
     "text": [
      "10\n"
     ]
    }
   ],
   "source": [
    "print(a&b)"
   ]
  },
  {
   "cell_type": "code",
   "execution_count": 5,
   "id": "4995e7c2-d6af-4e48-8d11-4f26cda022a6",
   "metadata": {},
   "outputs": [
    {
     "name": "stdout",
     "output_type": "stream",
     "text": [
      "11\n"
     ]
    }
   ],
   "source": [
    "print(a|b)"
   ]
  },
  {
   "cell_type": "markdown",
   "id": "03b0b755-e058-457c-b057-db21b075a6e8",
   "metadata": {},
   "source": [
    "# Rightshift & Leftshift"
   ]
  },
  {
   "cell_type": "code",
   "execution_count": 8,
   "id": "731dc5df-9353-4c58-a967-3881198d4bba",
   "metadata": {},
   "outputs": [
    {
     "name": "stdout",
     "output_type": "stream",
     "text": [
      "40\n"
     ]
    }
   ],
   "source": [
    "print(10<<2)"
   ]
  },
  {
   "cell_type": "code",
   "execution_count": 10,
   "id": "14b32eda-d553-4552-a939-81c7bf02a076",
   "metadata": {},
   "outputs": [
    {
     "data": {
      "text/plain": [
       "'0b101000'"
      ]
     },
     "execution_count": 10,
     "metadata": {},
     "output_type": "execute_result"
    }
   ],
   "source": [
    "bin(40)"
   ]
  },
  {
   "cell_type": "code",
   "execution_count": 12,
   "id": "40560093-2aa5-40b5-abd2-32dc9cff1760",
   "metadata": {},
   "outputs": [
    {
     "name": "stdout",
     "output_type": "stream",
     "text": [
      "2\n"
     ]
    }
   ],
   "source": [
    "print(10>>2)"
   ]
  },
  {
   "cell_type": "markdown",
   "id": "64942b68-99cf-49ee-b76f-592fee8314bd",
   "metadata": {},
   "source": [
    "# Membership Operator"
   ]
  },
  {
   "cell_type": "code",
   "execution_count": 15,
   "id": "6062eafd-1bba-4280-ae3d-2b19bc720cb5",
   "metadata": {},
   "outputs": [],
   "source": [
    "!"
   ]
  },
  {
   "cell_type": "code",
   "execution_count": 17,
   "id": "cbf83cfe-0bd7-4b7b-8f95-8b97ac455553",
   "metadata": {},
   "outputs": [
    {
     "name": "stdout",
     "output_type": "stream",
     "text": [
      "True\n"
     ]
    }
   ],
   "source": [
    "li=[10,20,30,40]\n",
    "print(10 in li)"
   ]
  },
  {
   "cell_type": "code",
   "execution_count": 19,
   "id": "e36c7fd5-b6fb-4f0b-afb1-2d1678a65829",
   "metadata": {},
   "outputs": [
    {
     "name": "stdout",
     "output_type": "stream",
     "text": [
      "True\n"
     ]
    }
   ],
   "source": [
    "print(50 not in li)"
   ]
  },
  {
   "cell_type": "markdown",
   "id": "687eb3e7-4220-49c4-9a2d-889d70434d6e",
   "metadata": {},
   "source": [
    "# IDENTITY OPERATOR\n",
    "##### 1. IS \n",
    "##### 2. IS NOT"
   ]
  },
  {
   "cell_type": "code",
   "execution_count": 2,
   "id": "9882d1d5-20c2-4803-97d9-fd406a7f68dc",
   "metadata": {},
   "outputs": [
    {
     "name": "stdout",
     "output_type": "stream",
     "text": [
      "140714383426632\n",
      "140714383426632\n",
      "True\n",
      "2877172998720\n",
      "2877173969920\n",
      "False\n"
     ]
    }
   ],
   "source": [
    "a=10\n",
    "b=10\n",
    "print(id(a))\n",
    "print(id(b))\n",
    "print(a is b)\n",
    "l1=[10,20,30]\n",
    "l2=[10,20,30]\n",
    "print(id(l1))\n",
    "print(id(l2))\n",
    "print(l1 is l2)"
   ]
  },
  {
   "cell_type": "markdown",
   "id": "e3189947-d1c9-4e30-9f82-0f07ca8b0ef5",
   "metadata": {},
   "source": [
    "# INPUT & OUTPUT\n",
    "#### The value of A is 10 B is 20 C is 30\n",
    "##### Format, f"
   ]
  },
  {
   "cell_type": "markdown",
   "id": "11e61c26-8f0f-4097-906b-b5b6f4bdaf1e",
   "metadata": {},
   "source": [
    "#### Write a code to take value from user and add the value and store in 3rd variable¶"
   ]
  },
  {
   "cell_type": "code",
   "execution_count": 8,
   "id": "ccb05dca-8167-420a-8c53-ad7fd7652b3c",
   "metadata": {},
   "outputs": [
    {
     "name": "stdin",
     "output_type": "stream",
     "text": [
      "Enter the value of A 10\n",
      "Enter the value of B 20\n"
     ]
    },
    {
     "name": "stdout",
     "output_type": "stream",
     "text": [
      "30\n"
     ]
    }
   ],
   "source": [
    "# addition \n",
    "\n",
    "a = int(input(\"Enter the value of A\"))\n",
    "b = int(input(\"Enter the value of B\"))\n",
    "c = a+b\n",
    "print(c)"
   ]
  },
  {
   "cell_type": "code",
   "execution_count": 10,
   "id": "51443935-efc9-4fa6-8acf-530dee5c25ba",
   "metadata": {},
   "outputs": [
    {
     "name": "stdin",
     "output_type": "stream",
     "text": [
      "Enter the value of A 10\n",
      "Enter the value of B 20\n"
     ]
    },
    {
     "name": "stdout",
     "output_type": "stream",
     "text": [
      "-10\n"
     ]
    }
   ],
   "source": [
    "# substraction\n",
    "\n",
    "a = int(input(\"Enter the value of A\"))\n",
    "b = int(input(\"Enter the value of B\"))\n",
    "c = a-b\n",
    "print(c)"
   ]
  },
  {
   "cell_type": "code",
   "execution_count": 12,
   "id": "3752924e-d72b-4735-8306-4813d34c59af",
   "metadata": {},
   "outputs": [
    {
     "name": "stdin",
     "output_type": "stream",
     "text": [
      "Enter the value of A 10\n",
      "Enter the value of B 20\n"
     ]
    },
    {
     "name": "stdout",
     "output_type": "stream",
     "text": [
      "200\n"
     ]
    }
   ],
   "source": [
    "# multiplication\n",
    "\n",
    "a = int(input(\"Enter the value of A\"))\n",
    "b = int(input(\"Enter the value of B\"))\n",
    "c = a*b\n",
    "print(c)"
   ]
  },
  {
   "cell_type": "code",
   "execution_count": 14,
   "id": "591e91da-1734-4a6d-b002-972ed5ef74ca",
   "metadata": {},
   "outputs": [
    {
     "name": "stdin",
     "output_type": "stream",
     "text": [
      "Enter the value of A 10\n",
      "Enter the value of B 20\n"
     ]
    },
    {
     "name": "stdout",
     "output_type": "stream",
     "text": [
      "0.5\n"
     ]
    }
   ],
   "source": [
    "# division\n",
    "\n",
    "a = int(input(\"Enter the value of A\"))\n",
    "b = int(input(\"Enter the value of B\"))\n",
    "c = a/b\n",
    "print(c)"
   ]
  },
  {
   "cell_type": "code",
   "execution_count": 16,
   "id": "f64bca52-9360-4b15-a5ff-122fb3ab53f0",
   "metadata": {},
   "outputs": [],
   "source": [
    "import calendar"
   ]
  },
  {
   "cell_type": "markdown",
   "id": "3516c77c-5f9e-4db7-94bc-4648f99182b2",
   "metadata": {},
   "source": [
    "# Control Statement\n",
    "##### 1. Statement\n",
    "##### 2. If else statment\n",
    "##### 3. If elif statement\n",
    "##### 4. While loop\n",
    "##### 5. For loop\n",
    "##### 6. Else Suite\n",
    "##### 7. Break statement\n",
    "##### 8. Continue Statement\n",
    "##### 9. Pass statement\n",
    "##### 10.Assert Statement\n",
    "##### 11.Return Statement"
   ]
  },
  {
   "cell_type": "code",
   "execution_count": 19,
   "id": "2d23e04c-a69c-41a1-8b93-d1c3a3d0ad67",
   "metadata": {},
   "outputs": [
    {
     "name": "stdin",
     "output_type": "stream",
     "text": [
      "Enter the age  10\n"
     ]
    }
   ],
   "source": [
    "age=int(input(\"Enter the age \"))\n",
    "if age>=18:\n",
    "    print(\"You can give vote\")\n",
    "    print(\"Out from the conditionbody\")"
   ]
  },
  {
   "cell_type": "code",
   "execution_count": 21,
   "id": "1f163fef-13d0-4242-bc67-27d754b88145",
   "metadata": {},
   "outputs": [
    {
     "name": "stdin",
     "output_type": "stream",
     "text": [
      "Enter the age  20\n"
     ]
    },
    {
     "name": "stdout",
     "output_type": "stream",
     "text": [
      "You can give vote\n",
      "Out from the condition body\n"
     ]
    }
   ],
   "source": [
    "age=int(input(\"Enter the age \"))\n",
    "if age>=18:\n",
    "    print(\"You can give vote\")\n",
    "    print(\"Out from the condition body\")\n",
    "else:\n",
    "    print(\"You are not eligiable for the voting \")\n",
    "    print(\"Out from the condition body\")"
   ]
  },
  {
   "cell_type": "code",
   "execution_count": 27,
   "id": "634e5ce9-a47b-4fb5-b00a-398539bc494a",
   "metadata": {},
   "outputs": [
    {
     "ename": "IndentationError",
     "evalue": "expected an indented block after 'if' statement on line 2 (914050656.py, line 3)",
     "output_type": "error",
     "traceback": [
      "\u001b[1;36m  Cell \u001b[1;32mIn[27], line 3\u001b[1;36m\u001b[0m\n\u001b[1;33m    print(\"number is 1\")\u001b[0m\n\u001b[1;37m    ^\u001b[0m\n\u001b[1;31mIndentationError\u001b[0m\u001b[1;31m:\u001b[0m expected an indented block after 'if' statement on line 2\n"
     ]
    }
   ],
   "source": [
    "number = int(input(\"Enter the number\"))\n",
    "if (number==1)\n",
    "print(\"number is 1\")\n",
    "elif(\"number is 2\")"
   ]
  },
  {
   "cell_type": "markdown",
   "id": "f507f33d-01f8-4ddc-8198-bbe1cd5bea8b",
   "metadata": {},
   "source": [
    "# WHILE LOOP\n",
    "#### The while loop in python is used to iterate over a block of code as long as he test expression is true "
   ]
  },
  {
   "cell_type": "code",
   "execution_count": 30,
   "id": "f59cec54-7afe-4f44-abae-72a1176a7eb6",
   "metadata": {},
   "outputs": [
    {
     "name": "stdout",
     "output_type": "stream",
     "text": [
      "1\n",
      "2\n",
      "3\n",
      "4\n",
      "5\n",
      "6\n",
      "7\n",
      "8\n",
      "9\n",
      "10\n",
      "Outside the loop body\n"
     ]
    }
   ],
   "source": [
    "n=1\n",
    "while(n<=10):\n",
    "    print(n)\n",
    "    n=n+1\n",
    "print (\"Outside the loop body\")"
   ]
  },
  {
   "cell_type": "code",
   "execution_count": 32,
   "id": "0c9dd6a5-9869-47fe-b57c-45bdb9eaf6ed",
   "metadata": {},
   "outputs": [
    {
     "name": "stdout",
     "output_type": "stream",
     "text": [
      "10\n",
      "9\n",
      "8\n",
      "7\n",
      "6\n",
      "5\n",
      "4\n",
      "3\n",
      "2\n",
      "1\n"
     ]
    }
   ],
   "source": [
    "n=10 \n",
    "while(n>=1):\n",
    "    print(n)\n",
    "    print\n",
    "    n=n-1"
   ]
  },
  {
   "cell_type": "code",
   "execution_count": 34,
   "id": "b014ee10-0331-49d0-a957-40efbf6bd87a",
   "metadata": {},
   "outputs": [
    {
     "name": "stdout",
     "output_type": "stream",
     "text": [
      "1\n",
      "2\n",
      "3\n",
      "4\n",
      "5\n",
      "6\n",
      "7\n",
      "8\n",
      "9\n",
      "10\n"
     ]
    }
   ],
   "source": [
    "for i in range (1,11): #n-1\n",
    "    print(i)"
   ]
  },
  {
   "cell_type": "code",
   "execution_count": 36,
   "id": "0e4b3f25-b078-47d1-ae51-7513ec2eb0d5",
   "metadata": {},
   "outputs": [
    {
     "name": "stdout",
     "output_type": "stream",
     "text": [
      "Arun\n",
      "vivek\n",
      "anurag\n",
      "swastik\n"
     ]
    }
   ],
   "source": [
    "names=['Arun','vivek','anurag','swastik']\n",
    "for name in names:\n",
    "    print(name)"
   ]
  },
  {
   "cell_type": "code",
   "execution_count": 38,
   "id": "db1e08ba-6210-44c3-96ba-64650136d13b",
   "metadata": {},
   "outputs": [
    {
     "name": "stdout",
     "output_type": "stream",
     "text": [
      "v\n",
      "a\n",
      "r\n",
      "u\n",
      "n\n"
     ]
    }
   ],
   "source": [
    "str1='varun'\n",
    "for i in str1:\n",
    "    print(i)"
   ]
  },
  {
   "cell_type": "markdown",
   "id": "81ceabcb-7a94-4b97-8b9d-74b8645d3f16",
   "metadata": {},
   "source": [
    "# Nesting for loop"
   ]
  },
  {
   "cell_type": "code",
   "execution_count": 41,
   "id": "7da1de3d-ca3c-4ead-8677-b7e7df9ebadf",
   "metadata": {},
   "outputs": [
    {
     "name": "stdout",
     "output_type": "stream",
     "text": [
      "Hip\n",
      "Hurray\n",
      "Hip\n",
      "Hurray\n",
      "Hip\n",
      "Hurray\n",
      "Hip\n",
      "Hurray\n",
      "Hip\n",
      "Hurray\n",
      "Hip\n",
      "Hurray\n"
     ]
    }
   ],
   "source": [
    "for i in range (1,4):\n",
    "    for j in range(1,3):\n",
    "        print('Hip')\n",
    "        print('Hurray')"
   ]
  },
  {
   "cell_type": "markdown",
   "id": "d291ce81-2d16-4049-acb4-c50405396bb0",
   "metadata": {},
   "source": [
    "# Break Statement is used to break the execuation of the program immediately when certain condition is true ."
   ]
  },
  {
   "cell_type": "code",
   "execution_count": null,
   "id": "ef341bfd-2a44-4d91-a62e-eac94e7905e9",
   "metadata": {},
   "outputs": [],
   "source": [
    "count = 5\n",
    "while (count >0):\n",
    "    if (count == 3):\n",
    "        break\n",
    "        print (count)\n",
    "        count=count-1"
   ]
  },
  {
   "cell_type": "code",
   "execution_count": 1,
   "id": "90146333-d980-45c4-bfd1-acc92c76a4aa",
   "metadata": {},
   "outputs": [
    {
     "name": "stdout",
     "output_type": "stream",
     "text": [
      "0\n",
      "1\n",
      "2\n",
      "3\n",
      "4\n",
      "6\n",
      "7\n",
      "8\n"
     ]
    }
   ],
   "source": [
    "for i in range (0,9):\n",
    "    if(i==5):\n",
    "        continue\n",
    "    print(i)"
   ]
  },
  {
   "cell_type": "markdown",
   "id": "00cf6877-1b42-49d1-a433-83ce164e58ec",
   "metadata": {},
   "source": [
    "# Assert Statement : The assert statement is useful to check if a particular condition is fullfilled or not it return as assersation error message ."
   ]
  },
  {
   "cell_type": "code",
   "execution_count": 8,
   "id": "7a08abfe-f93a-4ec6-8526-220c3376807a",
   "metadata": {},
   "outputs": [
    {
     "name": "stdin",
     "output_type": "stream",
     "text": [
      "Enter a number must be greater than 0  5\n"
     ]
    },
    {
     "name": "stdout",
     "output_type": "stream",
     "text": [
      "the given number is  5\n"
     ]
    }
   ],
   "source": [
    "x = int(input('Enter a number must be greater than 0 '))\n",
    "assert x>0,'please give valid number '\n",
    "print (\"the given number is \",x)"
   ]
  },
  {
   "cell_type": "code",
   "execution_count": 12,
   "id": "b89b4e51-cb51-4326-9812-c67cbccf08ed",
   "metadata": {},
   "outputs": [
    {
     "name": "stdout",
     "output_type": "stream",
     "text": [
      "Help on built-in function isinstance in module builtins:\n",
      "\n",
      "isinstance(obj, class_or_tuple, /)\n",
      "    Return whether an object is an instance of a class or of a subclass thereof.\n",
      "    \n",
      "    A tuple, as in ``isinstance(x, (A, B, ...))``, may be given as the target to\n",
      "    check against. This is equivalent to ``isinstance(x, A) or isinstance(x, B)\n",
      "    or ...`` etc.\n",
      "\n"
     ]
    }
   ],
   "source": [
    "help(isinstance)"
   ]
  },
  {
   "cell_type": "code",
   "execution_count": 16,
   "id": "a362e110-c798-48ac-b5d8-5bbe366b0d55",
   "metadata": {},
   "outputs": [
    {
     "name": "stdout",
     "output_type": "stream",
     "text": [
      "['Sachin', 'Dhoni', 'Virat', 180, 190, 200, 20.1, 22.5, 23.6]\n",
      "['Sachin', 'Dhoni', 'Virat']\n",
      "[180, 190, 200]\n",
      "[20.1, 22.5, 23.6]\n"
     ]
    }
   ],
   "source": [
    "lis = ['Sachin','Dhoni','Virat',180,190,200,20.1,22.5,23.6]\n",
    "listr=[]\n",
    "liint=[]\n",
    "lif1=[]\n",
    "for i in lis:\n",
    "    if isinstance(i,str):\n",
    "        listr.append(i)\n",
    "    elif isinstance (i,int):\n",
    "        liint.append(i)\n",
    "    else:\n",
    "        lif1.append(i)\n",
    "print(lis)\n",
    "print(listr)\n",
    "print(liint)\n",
    "print(lif1)"
   ]
  },
  {
   "cell_type": "code",
   "execution_count": 20,
   "id": "8c3f0b5a-dffd-490a-80cc-d81b5d2b1b6a",
   "metadata": {},
   "outputs": [
    {
     "ename": "NameError",
     "evalue": "name 'calendar' is not defined",
     "output_type": "error",
     "traceback": [
      "\u001b[1;31m---------------------------------------------------------------------------\u001b[0m",
      "\u001b[1;31mNameError\u001b[0m                                 Traceback (most recent call last)",
      "Cell \u001b[1;32mIn[20], line 3\u001b[0m\n\u001b[0;32m      1\u001b[0m year \u001b[38;5;241m=\u001b[39m \u001b[38;5;241m2024\u001b[39m\n\u001b[0;32m      2\u001b[0m month \u001b[38;5;241m=\u001b[39m \u001b[38;5;241m6\u001b[39m\n\u001b[1;32m----> 3\u001b[0m \u001b[38;5;28mprint\u001b[39m(calendar\u001b[38;5;241m.\u001b[39m month(year,month))\n",
      "\u001b[1;31mNameError\u001b[0m: name 'calendar' is not defined"
     ]
    }
   ],
   "source": [
    "year = 2024\n",
    "month = 6\n",
    "print(calendar. month(year,month))"
   ]
  },
  {
   "cell_type": "code",
   "execution_count": 22,
   "id": "5c481906-a9e7-4a7a-9697-94933ba5cac2",
   "metadata": {},
   "outputs": [],
   "source": [
    "import datetime"
   ]
  },
  {
   "cell_type": "code",
   "execution_count": 24,
   "id": "dfe1b3d2-d048-4f4a-b87f-7b56868dea3c",
   "metadata": {},
   "outputs": [
    {
     "name": "stdout",
     "output_type": "stream",
     "text": [
      "The current date is 27-6-2024\n",
      "The cureent time is 18:54-13\n"
     ]
    }
   ],
   "source": [
    "now = datetime. datetime.now()\n",
    "print (\"The current date is {0}-{1}-{2}\".format(now.day,now.month,now.year))\n",
    "print (\"The cureent time is {0}:{1}-{2}\".format(now.hour,now.minute,now.second))"
   ]
  },
  {
   "cell_type": "code",
   "execution_count": 26,
   "id": "34d81244-3098-481c-8b4e-5c73b70804fd",
   "metadata": {},
   "outputs": [
    {
     "name": "stdin",
     "output_type": "stream",
     "text": [
      "enter nyour 3 digit number 456\n"
     ]
    },
    {
     "name": "stdout",
     "output_type": "stream",
     "text": [
      "15\n",
      "45\n"
     ]
    }
   ],
   "source": [
    "number = int(input(\"enter nyour 3 digit number\"))\n",
    "\n",
    "a= number%10     #a = 5\n",
    "\n",
    "number = number //10\n",
    "b = number%10\n",
    "\n",
    "c = number //10\n",
    "\n",
    "print (a+b+c)\n",
    "print(number)"
   ]
  },
  {
   "cell_type": "code",
   "execution_count": null,
   "id": "27d2f5b2-4909-4c21-ba80-e1dcfcb3aaba",
   "metadata": {},
   "outputs": [],
   "source": []
  }
 ],
 "metadata": {
  "kernelspec": {
   "display_name": "Python 3 (ipykernel)",
   "language": "python",
   "name": "python3"
  },
  "language_info": {
   "codemirror_mode": {
    "name": "ipython",
    "version": 3
   },
   "file_extension": ".py",
   "mimetype": "text/x-python",
   "name": "python",
   "nbconvert_exporter": "python",
   "pygments_lexer": "ipython3",
   "version": "3.11.7"
  }
 },
 "nbformat": 4,
 "nbformat_minor": 5
}
