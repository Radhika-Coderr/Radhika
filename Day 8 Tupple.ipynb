{
 "cells": [
  {
   "cell_type": "markdown",
   "id": "be0e73ab-51be-4f00-a7c7-659fe8a22fd3",
   "metadata": {},
   "source": [
    "# CREATING A TUPPLE "
   ]
  },
  {
   "cell_type": "code",
   "execution_count": 10,
   "id": "41d83c89-5e03-4afd-ac13-21a3858a4ac0",
   "metadata": {},
   "outputs": [
    {
     "data": {
      "text/plain": [
       "tuple"
      ]
     },
     "execution_count": 10,
     "metadata": {},
     "output_type": "execute_result"
    }
   ],
   "source": [
    "#empty tupple\n",
    "\n",
    "t0 = ()\n",
    "type(t0)\n"
   ]
  },
  {
   "cell_type": "code",
   "execution_count": 8,
   "id": "5d73ca78-6f8d-4280-b0dd-a8780a491f8c",
   "metadata": {},
   "outputs": [
    {
     "data": {
      "text/plain": [
       "tuple"
      ]
     },
     "execution_count": 8,
     "metadata": {},
     "output_type": "execute_result"
    }
   ],
   "source": [
    "t1 = (\"string\",)\n",
    "type(t1)"
   ]
  },
  {
   "cell_type": "code",
   "execution_count": 12,
   "id": "0e2a5e77-3de6-42cc-b7e2-b3dde0193ecb",
   "metadata": {},
   "outputs": [
    {
     "data": {
      "text/plain": [
       "tuple"
      ]
     },
     "execution_count": 12,
     "metadata": {},
     "output_type": "execute_result"
    }
   ],
   "source": [
    "#homo\n",
    "t2 = (1,2,3,4,5,6)\n",
    "type(t2)"
   ]
  },
  {
   "cell_type": "code",
   "execution_count": 20,
   "id": "c3bcf032-5a68-45ac-a0fd-a79a24917b9d",
   "metadata": {},
   "outputs": [
    {
     "data": {
      "text/plain": [
       "tuple"
      ]
     },
     "execution_count": 20,
     "metadata": {},
     "output_type": "execute_result"
    }
   ],
   "source": [
    "#hetro\n",
    "t3 = (\"string\",1,5.0,True,(1,2,3),[1,2,3])\n",
    "type(t3)"
   ]
  },
  {
   "cell_type": "code",
   "execution_count": 22,
   "id": "f4b6435b-9590-4af4-8a8b-2fc594c93d5f",
   "metadata": {},
   "outputs": [
    {
     "data": {
      "text/plain": [
       "('h', 'e', 'l', 'l', 'o')"
      ]
     },
     "execution_count": 22,
     "metadata": {},
     "output_type": "execute_result"
    }
   ],
   "source": [
    "#type conversion\n",
    "t4 = tuple(\"hello\")\n",
    "t4"
   ]
  },
  {
   "cell_type": "markdown",
   "id": "05e87783-25e3-4331-96bc-4899366db90b",
   "metadata": {},
   "source": [
    "# ACCESSING THE ELEMENTS FROM TUPLE"
   ]
  },
  {
   "cell_type": "code",
   "execution_count": 25,
   "id": "5e26d912-c00a-4a09-a86d-ef2c65948bc1",
   "metadata": {},
   "outputs": [
    {
     "data": {
      "text/plain": [
       "2"
      ]
     },
     "execution_count": 25,
     "metadata": {},
     "output_type": "execute_result"
    }
   ],
   "source": [
    "#index\n",
    "#slicing\n",
    "\n",
    "t2 = (1,2,3,4,5,6)\n",
    "t2[-2]\n",
    "\n",
    "t3 = (\"string\",1,5.0,True,(1,2,3),[1,2,3])\n",
    "t3[-1][1]"
   ]
  },
  {
   "cell_type": "code",
   "execution_count": 27,
   "id": "54d3d722-c993-4633-a744-647ba79ef081",
   "metadata": {},
   "outputs": [
    {
     "data": {
      "text/plain": [
       "[1, 2, 3]"
      ]
     },
     "execution_count": 27,
     "metadata": {},
     "output_type": "execute_result"
    }
   ],
   "source": [
    "t2 = (1,2,3,4,5,6)\n",
    "t2[-2]\n",
    "\n",
    "t3 = (\"string\",1,5.0,True,(1,2,3),[1,2,3])\n",
    "t3[-1]"
   ]
  },
  {
   "cell_type": "code",
   "execution_count": 29,
   "id": "a779f5ed-501c-4c07-ab74-5a1f9f070359",
   "metadata": {},
   "outputs": [
    {
     "data": {
      "text/plain": [
       "[1, 2, 3]"
      ]
     },
     "execution_count": 29,
     "metadata": {},
     "output_type": "execute_result"
    }
   ],
   "source": [
    "t2 = (1,2,3,4,5,6)\n",
    "t2[-2]\n",
    "\n",
    "t3 = (\"string\",1,5.0,True,(1,2,3),[1,2,3])\n",
    "t3[-1][:]"
   ]
  },
  {
   "cell_type": "code",
   "execution_count": 31,
   "id": "ea88b48b-50c9-486d-8674-f915370cacc0",
   "metadata": {},
   "outputs": [
    {
     "data": {
      "text/plain": [
       "(1, 5.0, True, (1, 2, 3), [1, 2, 3])"
      ]
     },
     "execution_count": 31,
     "metadata": {},
     "output_type": "execute_result"
    }
   ],
   "source": [
    "t2 = (1,2,3,4,5,6)\n",
    "t2[-2]\n",
    "\n",
    "t3 = (\"string\",1,5.0,True,(1,2,3),[1,2,3])\n",
    "t3[-1][:2]\n",
    "t3[1:]"
   ]
  },
  {
   "cell_type": "markdown",
   "id": "f6b28d92-8d17-4451-9673-f47c154a2043",
   "metadata": {},
   "source": [
    "# EDITING ELMENTS FROM TUPPLE"
   ]
  },
  {
   "cell_type": "code",
   "execution_count": 46,
   "id": "7764f8ea-4ba4-4860-8b77-cc27af9f6a23",
   "metadata": {},
   "outputs": [
    {
     "name": "stdout",
     "output_type": "stream",
     "text": [
      "('string', 1, 5.0, True, (1, 2, 3), [1, 2, 3])\n"
     ]
    },
    {
     "ename": "TypeError",
     "evalue": "'tuple' object does not support item assignment",
     "output_type": "error",
     "traceback": [
      "\u001b[1;31m---------------------------------------------------------------------------\u001b[0m",
      "\u001b[1;31mTypeError\u001b[0m                                 Traceback (most recent call last)",
      "Cell \u001b[1;32mIn[46], line 2\u001b[0m\n\u001b[0;32m      1\u001b[0m \u001b[38;5;28mprint\u001b[39m(t3)\n\u001b[1;32m----> 2\u001b[0m t3[\u001b[38;5;241m1\u001b[39m] \u001b[38;5;241m=\u001b[39m \u001b[38;5;241m100\u001b[39m\n",
      "\u001b[1;31mTypeError\u001b[0m: 'tuple' object does not support item assignment"
     ]
    }
   ],
   "source": [
    "print(t3)\n",
    "t3[1] = 100"
   ]
  },
  {
   "cell_type": "code",
   "execution_count": 57,
   "id": "bee571bd-0243-4d6b-b76c-b1a480384ab0",
   "metadata": {},
   "outputs": [
    {
     "name": "stdout",
     "output_type": "stream",
     "text": [
      "3043901812272\n",
      "3043901813168\n"
     ]
    }
   ],
   "source": [
    "str1 = \"hello world\"\n",
    "print(id(str1))\n",
    "print(id(str1.upper()))"
   ]
  },
  {
   "cell_type": "code",
   "execution_count": 53,
   "id": "a6d58bb6-5e8e-4f06-872e-ce011ff77c80",
   "metadata": {},
   "outputs": [
    {
     "data": {
      "text/plain": [
       "'hello world'"
      ]
     },
     "execution_count": 53,
     "metadata": {},
     "output_type": "execute_result"
    }
   ],
   "source": [
    "str1"
   ]
  },
  {
   "cell_type": "code",
   "execution_count": 61,
   "id": "8b812896-4f86-4c9d-ac7f-fc90c3dc3fbd",
   "metadata": {},
   "outputs": [
    {
     "data": {
      "text/plain": [
       "('string', 1, 5.0, True, (1, 2, 3), [1, 2, 3])"
      ]
     },
     "execution_count": 61,
     "metadata": {},
     "output_type": "execute_result"
    }
   ],
   "source": [
    "t3  # we cannot add elements tupple"
   ]
  },
  {
   "cell_type": "code",
   "execution_count": 63,
   "id": "83f40837-7138-4bbf-ab72-7aa50a83330c",
   "metadata": {},
   "outputs": [
    {
     "data": {
      "text/plain": [
       "('string', 1, 5.0, True, (1, 2, 3), [1, 2, 3])"
      ]
     },
     "execution_count": 63,
     "metadata": {},
     "output_type": "execute_result"
    }
   ],
   "source": [
    "#delet\n",
    "t3"
   ]
  },
  {
   "cell_type": "markdown",
   "id": "69fab788-3a78-4c9d-b6ac-b54b251f4e7c",
   "metadata": {},
   "source": [
    "# OPERATIONS ON TUPPLE\n",
    "1. Arthematical Operation\n",
    "2. Membership operation "
   ]
  },
  {
   "cell_type": "code",
   "execution_count": 74,
   "id": "3c7f5e70-ff1b-4da5-ad68-c6b2be73611f",
   "metadata": {},
   "outputs": [
    {
     "name": "stdout",
     "output_type": "stream",
     "text": [
      "(1, 2, 3, 4, 5, 6)\n",
      "(1, 2, 3, 1, 2, 3, 1, 2, 3)\n"
     ]
    },
    {
     "data": {
      "text/plain": [
       "False"
      ]
     },
     "execution_count": 74,
     "metadata": {},
     "output_type": "execute_result"
    }
   ],
   "source": [
    "t1 = (1,2,3)\n",
    "t2 = (4,5,6)\n",
    "\n",
    "print(t1 + t2)\n",
    "print(t1 * 3)\n",
    "\n",
    "1 not in t1"
   ]
  },
  {
   "cell_type": "code",
   "execution_count": 76,
   "id": "c62f0114-e44a-4744-9950-dcac4174584c",
   "metadata": {},
   "outputs": [
    {
     "name": "stdout",
     "output_type": "stream",
     "text": [
      "1\n",
      "2\n",
      "3\n"
     ]
    }
   ],
   "source": [
    "# loop \n",
    "for i in t1:\n",
    "    print(i)"
   ]
  },
  {
   "cell_type": "markdown",
   "id": "7839d31f-a6b1-4e4e-9194-60d1dd75c086",
   "metadata": {},
   "source": [
    "# TUPPLE FUNCTIONS\n",
    "1. LEN\n",
    "2. MIN\n",
    "3. MAX\n",
    "4. SORTED"
   ]
  },
  {
   "cell_type": "code",
   "execution_count": 86,
   "id": "261d240f-3c07-4e60-b817-a8c16fc65905",
   "metadata": {},
   "outputs": [
    {
     "name": "stdout",
     "output_type": "stream",
     "text": [
      "9\n",
      "1\n",
      "9\n",
      "[1, 2, 3, 4, 5, 6, 7, 8, 9]\n"
     ]
    }
   ],
   "source": [
    "t1 = (1,2,3,4,5,6,7,8,9)\n",
    "print(len(t1))\n",
    "print(min(t1))\n",
    "print(max(t1))\n",
    "print(sorted(t1))"
   ]
  },
  {
   "cell_type": "code",
   "execution_count": 88,
   "id": "45e99ada-c7cc-46a1-8547-173f816b81cb",
   "metadata": {},
   "outputs": [
    {
     "name": "stdout",
     "output_type": "stream",
     "text": [
      "9\n",
      "1\n",
      "9\n",
      "[9, 8, 7, 6, 5, 4, 3, 2, 1]\n"
     ]
    }
   ],
   "source": [
    "t1 = (1,2,3,4,5,6,7,8,9)\n",
    "print(len(t1))\n",
    "print(min(t1))\n",
    "print(max(t1))\n",
    "print(sorted(t1,reverse=True))"
   ]
  },
  {
   "cell_type": "code",
   "execution_count": 94,
   "id": "66c1c781-d77f-4fd1-9726-c4ba560b2553",
   "metadata": {},
   "outputs": [
    {
     "data": {
      "text/plain": [
       "0"
      ]
     },
     "execution_count": 94,
     "metadata": {},
     "output_type": "execute_result"
    }
   ],
   "source": [
    "# count\n",
    "\n",
    "t1.count(50)"
   ]
  },
  {
   "cell_type": "code",
   "execution_count": 92,
   "id": "67a0219f-0a1a-49ee-b8ca-5e621a9c7e80",
   "metadata": {},
   "outputs": [
    {
     "data": {
      "text/plain": [
       "4"
      ]
     },
     "execution_count": 92,
     "metadata": {},
     "output_type": "execute_result"
    }
   ],
   "source": [
    "# index\n",
    "t1.index(5)"
   ]
  },
  {
   "cell_type": "markdown",
   "id": "79fcd394-31c4-4bf8-be96-b575fa644ba4",
   "metadata": {},
   "source": [
    "# SYNTAX"
   ]
  },
  {
   "cell_type": "code",
   "execution_count": 97,
   "id": "411a7601-4d12-40e8-823e-a50b4db95f11",
   "metadata": {},
   "outputs": [],
   "source": [
    "# list []\n",
    "# tupple()\n",
    "# mutability \n",
    "# speed\n",
    "# memory"
   ]
  },
  {
   "cell_type": "code",
   "execution_count": 108,
   "id": "15ce9c61-04fa-45e4-b983-d0b728bde1a2",
   "metadata": {},
   "outputs": [
    {
     "name": "stdout",
     "output_type": "stream",
     "text": [
      "List Time 1.3454720973968506\n",
      "Tuple Time 1.2449085712432861\n"
     ]
    }
   ],
   "source": [
    "import time \n",
    "\n",
    "L = list(range(10000000))\n",
    "T = tuple(range(10000000))\n",
    "\n",
    "start = time.time()\n",
    "for i in L:\n",
    "    i*5\n",
    "print(\"List Time\",time.time()-start)\n",
    "\n",
    "start = time.time()\n",
    "for i in T:\n",
    "    i*5\n",
    "print(\"Tuple Time\",time.time()-start)"
   ]
  },
  {
   "cell_type": "code",
   "execution_count": 114,
   "id": "445c5037-9bfa-4250-b9d6-3475131d4516",
   "metadata": {},
   "outputs": [
    {
     "name": "stdout",
     "output_type": "stream",
     "text": [
      "List size 80000056\n",
      "Tuple size 80000040\n"
     ]
    }
   ],
   "source": [
    "import sys\n",
    "\n",
    "L = list(range(10000000))\n",
    "T = tuple(range(10000000))\n",
    "\n",
    "print(\"List size\",sys.getsizeof(L))\n",
    "print(\"Tuple size\",sys.getsizeof(T))\n",
    "\n"
   ]
  },
  {
   "cell_type": "markdown",
   "id": "4a5a5513-2367-479f-b9a5-c835885d8ad2",
   "metadata": {},
   "source": [
    "# ZIP FUNCTION"
   ]
  },
  {
   "cell_type": "code",
   "execution_count": 119,
   "id": "8b2e413a-dee6-4862-8afb-df223cb4ef7d",
   "metadata": {},
   "outputs": [
    {
     "data": {
      "text/plain": [
       "((1, 4), (2, 5), (3, 6))"
      ]
     },
     "execution_count": 119,
     "metadata": {},
     "output_type": "execute_result"
    }
   ],
   "source": [
    "t1 = (1,2,3)\n",
    "t2 = (4,5,6)\n",
    "\n",
    "tuple(zip(t1,t2))"
   ]
  },
  {
   "cell_type": "markdown",
   "id": "ef48c116-94e4-4a28-a04e-64ae6f1d7287",
   "metadata": {},
   "source": [
    "# SET"
   ]
  },
  {
   "cell_type": "markdown",
   "id": "4aca14c0-2b83-46fd-92a1-b584cc4f35e8",
   "metadata": {},
   "source": [
    "### Set is a unordered collection of elements,Every set elements is unique (no duplicated )and must be immutable(can not be changed )"
   ]
  },
  {
   "cell_type": "markdown",
   "id": "c4d4e92a-4c45-4c64-8a33-29e12854cbc3",
   "metadata": {},
   "source": [
    "#### Characteristic\n",
    "1. Unordered \n",
    "2. Mutable\n",
    "3. No Duplicates\n",
    "4. Can't contain mutable data types"
   ]
  },
  {
   "cell_type": "code",
   "execution_count": 132,
   "id": "44109bf9-c6f8-4a8d-bb77-3628771b4354",
   "metadata": {},
   "outputs": [
    {
     "data": {
      "text/plain": [
       "False"
      ]
     },
     "execution_count": 132,
     "metadata": {},
     "output_type": "execute_result"
    }
   ],
   "source": [
    "#unordered\n",
    "\n",
    "[1,2,3] == [2,3,1]\n",
    "(1,2,3) == (2,3,1)           "
   ]
  },
  {
   "cell_type": "code",
   "execution_count": 134,
   "id": "97cce76a-8a8d-4922-9e25-bc9bc8599b03",
   "metadata": {},
   "outputs": [
    {
     "data": {
      "text/plain": [
       "{1, 2, 3, 4, 5, 6}"
      ]
     },
     "execution_count": 134,
     "metadata": {},
     "output_type": "execute_result"
    }
   ],
   "source": [
    "#no duplicates\n",
    "\n",
    "{1,1,1,2,3,4,3,2,5,6,1}\n"
   ]
  },
  {
   "cell_type": "code",
   "execution_count": 140,
   "id": "4c1f522b-ecc5-4d9d-ae49-a90538cefebe",
   "metadata": {},
   "outputs": [
    {
     "ename": "TypeError",
     "evalue": "unhashable type: 'set'",
     "output_type": "error",
     "traceback": [
      "\u001b[1;31m---------------------------------------------------------------------------\u001b[0m",
      "\u001b[1;31mTypeError\u001b[0m                                 Traceback (most recent call last)",
      "Cell \u001b[1;32mIn[140], line 3\u001b[0m\n\u001b[0;32m      1\u001b[0m \u001b[38;5;66;03m#Can't contain mutable data types\u001b[39;00m\n\u001b[1;32m----> 3\u001b[0m {\u001b[38;5;241m1\u001b[39m,\u001b[38;5;241m2\u001b[39m,\u001b[38;5;241m3\u001b[39m,{\u001b[38;5;241m1\u001b[39m,\u001b[38;5;241m2\u001b[39m,\u001b[38;5;241m3\u001b[39m}}\n",
      "\u001b[1;31mTypeError\u001b[0m: unhashable type: 'set'"
     ]
    }
   ],
   "source": [
    "#Can't contain mutable data types\n",
    "\n",
    "{1,2,3,{1,2,3}}"
   ]
  },
  {
   "cell_type": "code",
   "execution_count": 138,
   "id": "56fbf886-4a59-40db-a67e-ef508c466e78",
   "metadata": {},
   "outputs": [
    {
     "data": {
      "text/plain": [
       "{(1, 2, 3), 1, 2, 3}"
      ]
     },
     "execution_count": 138,
     "metadata": {},
     "output_type": "execute_result"
    }
   ],
   "source": [
    "#mutable\n",
    "\n",
    "{1,2,3,(1,2,3)}"
   ]
  },
  {
   "cell_type": "markdown",
   "id": "f0944269-a126-45c6-92b0-5ebc4b9eaa13",
   "metadata": {},
   "source": [
    "## CREATING SET "
   ]
  },
  {
   "cell_type": "code",
   "execution_count": 145,
   "id": "4d7156c5-f3d9-4998-9133-81a41f739b1f",
   "metadata": {},
   "outputs": [
    {
     "data": {
      "text/plain": [
       "set"
      ]
     },
     "execution_count": 145,
     "metadata": {},
     "output_type": "execute_result"
    }
   ],
   "source": [
    "#empty \n",
    "s = set()\n",
    "type(s)"
   ]
  },
  {
   "cell_type": "code",
   "execution_count": 153,
   "id": "b7b04981-f0fa-444b-882a-7cc0cba7a55e",
   "metadata": {},
   "outputs": [
    {
     "name": "stdout",
     "output_type": "stream",
     "text": [
      "{1, 2, 3, 4}\n"
     ]
    }
   ],
   "source": [
    "# 1D set homo\n",
    "s1 = {1,2,3,4}\n",
    "type(s1)\n",
    "print(s1)"
   ]
  },
  {
   "cell_type": "code",
   "execution_count": 155,
   "id": "3e94463e-5bc4-4815-b214-9731785babeb",
   "metadata": {},
   "outputs": [
    {
     "name": "stdout",
     "output_type": "stream",
     "text": [
      "{1, 2, 'string', 3, (12, 3)}\n"
     ]
    },
    {
     "data": {
      "text/plain": [
       "set"
      ]
     },
     "execution_count": 155,
     "metadata": {},
     "output_type": "execute_result"
    }
   ],
   "source": [
    "# hetro set \n",
    "s2 = {1,2,3,(12,3),\"string\"}\n",
    "print(s2)\n",
    "type(s2)"
   ]
  },
  {
   "cell_type": "code",
   "execution_count": 159,
   "id": "2760a68b-3c75-422d-985f-b35718e4df31",
   "metadata": {},
   "outputs": [
    {
     "name": "stdout",
     "output_type": "stream",
     "text": [
      "{1, 2, 3}\n"
     ]
    },
    {
     "data": {
      "text/plain": [
       "set"
      ]
     },
     "execution_count": 159,
     "metadata": {},
     "output_type": "execute_result"
    }
   ],
   "source": [
    "# using type conversion\n",
    "\n",
    "s3 = set ([1,2,3])\n",
    "print(s3)\n",
    "type(s3)"
   ]
  },
  {
   "cell_type": "markdown",
   "id": "4363144c-2929-4f19-af59-6b1e74bc538c",
   "metadata": {},
   "source": [
    "# ACCESSING ELEMENTS FROM SET "
   ]
  },
  {
   "cell_type": "markdown",
   "id": "d2741caa-477e-4825-abaf-5a3d1ae96b88",
   "metadata": {},
   "source": [
    "### indexing has no value set "
   ]
  },
  {
   "cell_type": "code",
   "execution_count": 165,
   "id": "895fa732-65a7-4045-b4ab-25b70e6f45b1",
   "metadata": {},
   "outputs": [
    {
     "ename": "TypeError",
     "evalue": "'set' object is not subscriptable",
     "output_type": "error",
     "traceback": [
      "\u001b[1;31m---------------------------------------------------------------------------\u001b[0m",
      "\u001b[1;31mTypeError\u001b[0m                                 Traceback (most recent call last)",
      "Cell \u001b[1;32mIn[165], line 2\u001b[0m\n\u001b[0;32m      1\u001b[0m s1 \u001b[38;5;241m=\u001b[39m {\u001b[38;5;241m1\u001b[39m,\u001b[38;5;241m2\u001b[39m,\u001b[38;5;241m3\u001b[39m,\u001b[38;5;241m4\u001b[39m,\u001b[38;5;241m5\u001b[39m}\n\u001b[1;32m----> 2\u001b[0m s1[\u001b[38;5;241m-\u001b[39m\u001b[38;5;241m1\u001b[39m]\n",
      "\u001b[1;31mTypeError\u001b[0m: 'set' object is not subscriptable"
     ]
    }
   ],
   "source": [
    "s1 = {1,2,3,4,5}\n",
    "s1[-1]"
   ]
  },
  {
   "cell_type": "markdown",
   "id": "e622112a-dace-4834-9834-6021a9cb89df",
   "metadata": {},
   "source": [
    "# EDITING SET "
   ]
  },
  {
   "cell_type": "code",
   "execution_count": 6,
   "id": "77d106f3-8c26-4c9f-bdf8-cc89c1969333",
   "metadata": {},
   "outputs": [
    {
     "ename": "TypeError",
     "evalue": "'set' object is not subscriptable",
     "output_type": "error",
     "traceback": [
      "\u001b[1;31m---------------------------------------------------------------------------\u001b[0m",
      "\u001b[1;31mTypeError\u001b[0m                                 Traceback (most recent call last)",
      "Cell \u001b[1;32mIn[6], line 2\u001b[0m\n\u001b[0;32m      1\u001b[0m s1 \u001b[38;5;241m=\u001b[39m {\u001b[38;5;241m1\u001b[39m,\u001b[38;5;241m2\u001b[39m,\u001b[38;5;241m3\u001b[39m,\u001b[38;5;241m4\u001b[39m,\u001b[38;5;241m5\u001b[39m}\n\u001b[1;32m----> 2\u001b[0m s1[\u001b[38;5;241m4\u001b[39m]\n",
      "\u001b[1;31mTypeError\u001b[0m: 'set' object is not subscriptable"
     ]
    }
   ],
   "source": [
    "s1 = {1,2,3,4,5}\n",
    "s1[-1] = 50 "
   ]
  },
  {
   "cell_type": "code",
   "execution_count": 170,
   "id": "47f483f8-0b08-408f-b566-d526dbb56ef1",
   "metadata": {},
   "outputs": [
    {
     "data": {
      "text/plain": [
       "{1, 2, 3, 4, 5, 6}"
      ]
     },
     "execution_count": 170,
     "metadata": {},
     "output_type": "execute_result"
    }
   ],
   "source": [
    "# adding elements in set \n",
    "\n",
    "s = {1,2,3,4,5}\n",
    "\n",
    "s.add(6)\n",
    "s"
   ]
  },
  {
   "cell_type": "code",
   "execution_count": 172,
   "id": "39409842-097d-49f6-8e8b-8406cdeb2b5c",
   "metadata": {},
   "outputs": [
    {
     "data": {
      "text/plain": [
       "{1, 2, 3, 4, 5, 6, 7, 8, 9, 10}"
      ]
     },
     "execution_count": 172,
     "metadata": {},
     "output_type": "execute_result"
    }
   ],
   "source": [
    "# adding multiple elements \n",
    "\n",
    "s.update ([7,8,9,10])\n",
    "s"
   ]
  },
  {
   "cell_type": "code",
   "execution_count": 182,
   "id": "8cdf2ad1-c7e4-46c2-978d-23e0fca4ebca",
   "metadata": {},
   "outputs": [],
   "source": [
    "# deleting elements from set \n",
    "s = {1,2,3,4,5}\n",
    "#del s[-1]\n",
    "#del s"
   ]
  },
  {
   "cell_type": "code",
   "execution_count": 176,
   "id": "a2bf7cdd-f585-49d2-b59c-b103af3624c8",
   "metadata": {},
   "outputs": [
    {
     "data": {
      "text/plain": [
       "{1, 2, 3, 4, 6, 7, 8, 9, 10}"
      ]
     },
     "execution_count": 176,
     "metadata": {},
     "output_type": "execute_result"
    }
   ],
   "source": [
    "#discard\n",
    "s.discard(5)\n",
    "s"
   ]
  },
  {
   "cell_type": "code",
   "execution_count": 180,
   "id": "abc717ed-08ff-4b6a-852f-7967c90e8933",
   "metadata": {},
   "outputs": [
    {
     "data": {
      "text/plain": [
       "{1, 2, 3, 4, 6, 7, 8, 9, 10}"
      ]
     },
     "execution_count": 180,
     "metadata": {},
     "output_type": "execute_result"
    }
   ],
   "source": [
    "#remove \n",
    "#s.remove(5)\n",
    "s"
   ]
  },
  {
   "cell_type": "code",
   "execution_count": 184,
   "id": "49058dda-87aa-438c-aef5-500e015706bd",
   "metadata": {},
   "outputs": [
    {
     "data": {
      "text/plain": [
       "{2, 3, 4, 5}"
      ]
     },
     "execution_count": 184,
     "metadata": {},
     "output_type": "execute_result"
    }
   ],
   "source": [
    "#pop \n",
    "s.pop()\n",
    "s"
   ]
  },
  {
   "cell_type": "code",
   "execution_count": 186,
   "id": "ce34fe54-7038-4074-9932-80e51a997313",
   "metadata": {},
   "outputs": [
    {
     "data": {
      "text/plain": [
       "set()"
      ]
     },
     "execution_count": 186,
     "metadata": {},
     "output_type": "execute_result"
    }
   ],
   "source": [
    "#clear\n",
    "s.clear()\n",
    "s"
   ]
  },
  {
   "cell_type": "markdown",
   "id": "3b4a00a0-44a6-4018-9e0d-de04fd84fa2a",
   "metadata": {},
   "source": [
    "# SET OPERATIONS \n",
    "1.UNION\n",
    "2.INTERSECTION\n",
    "3.DIFFERENCE \n",
    "4.SYMMETRIC DIFFERENCE "
   ]
  },
  {
   "cell_type": "code",
   "execution_count": 189,
   "id": "166bfd43-0e91-42ba-bf68-c0770f752ced",
   "metadata": {},
   "outputs": [
    {
     "data": {
      "text/plain": [
       "{1, 2, 3, 4, 5, 6, 7, 8}"
      ]
     },
     "execution_count": 189,
     "metadata": {},
     "output_type": "execute_result"
    }
   ],
   "source": [
    "s1 = {1,2,3,4,5}\n",
    "s2 = {4,5,6,7,8}\n",
    "\n",
    "#union\n",
    "s1|s2"
   ]
  },
  {
   "cell_type": "code",
   "execution_count": 191,
   "id": "e21fb1f2-a7dc-4807-8506-0ad5eaf508cc",
   "metadata": {},
   "outputs": [
    {
     "data": {
      "text/plain": [
       "{4, 5}"
      ]
     },
     "execution_count": 191,
     "metadata": {},
     "output_type": "execute_result"
    }
   ],
   "source": [
    "#intersection\n",
    "s1 & s2"
   ]
  },
  {
   "cell_type": "code",
   "execution_count": 197,
   "id": "fe3493ed-0b72-4c27-a854-52d51a215f3d",
   "metadata": {},
   "outputs": [
    {
     "data": {
      "text/plain": [
       "{6, 7, 8}"
      ]
     },
     "execution_count": 197,
     "metadata": {},
     "output_type": "execute_result"
    }
   ],
   "source": [
    "# difference\n",
    "s1 - s2\n",
    "s2 - s1"
   ]
  },
  {
   "cell_type": "code",
   "execution_count": 199,
   "id": "71d1f806-218c-4a37-87c1-f03468aedf9a",
   "metadata": {},
   "outputs": [
    {
     "data": {
      "text/plain": [
       "{1, 2, 3, 6, 7, 8}"
      ]
     },
     "execution_count": 199,
     "metadata": {},
     "output_type": "execute_result"
    }
   ],
   "source": [
    "# symmectric difference \n",
    "s1 ^ s2"
   ]
  },
  {
   "cell_type": "code",
   "execution_count": 241,
   "id": "c5e1decc-c1b9-4550-bee0-804c34a7ed15",
   "metadata": {},
   "outputs": [
    {
     "name": "stdout",
     "output_type": "stream",
     "text": [
      "{1, 2, 3, 4, 5}\n",
      "{1, 2, 3, 4, 5}\n",
      "{1, 2, 3, 4, 5}\n",
      "{1, 2, 3, 4, 5}\n",
      "{1, 2, 3, 4, 5}\n"
     ]
    }
   ],
   "source": [
    "# membership\n",
    "12 not in s1\n",
    "\n",
    "#Loop\n",
    "for i in s1:\n",
    "      print(s1)"
   ]
  },
  {
   "cell_type": "code",
   "execution_count": 211,
   "id": "d24b478e-c3e9-4969-b02b-cc5d19deb6a6",
   "metadata": {},
   "outputs": [
    {
     "name": "stdout",
     "output_type": "stream",
     "text": [
      "8\n",
      "1\n",
      "8\n",
      "[8, 7, 6, 5, 4, 3, 2, 1]\n"
     ]
    }
   ],
   "source": [
    "#function on set \n",
    "# len ,min,max,sorted\n",
    "s1 = {1,3,5,6,7,8,4,2}\n",
    "print(len(s1))\n",
    "print(min(s1))\n",
    "print(max(s1))\n",
    "print(sorted(s1,reverse=True))"
   ]
  },
  {
   "cell_type": "code",
   "execution_count": 217,
   "id": "176c22df-f1f8-4707-a5ec-ab2fe09ca8b6",
   "metadata": {},
   "outputs": [
    {
     "name": "stdout",
     "output_type": "stream",
     "text": [
      "{1, 2, 3, 4, 5, 6, 7, 8}\n",
      "{4, 5, 6, 7, 8}\n"
     ]
    }
   ],
   "source": [
    "# union\n",
    "s1 = {1,2,3,4,5}\n",
    "s2 = {4,5,6,7,8}\n",
    "\n",
    "s1 | s2\n",
    "s1.union(s2)\n",
    "\n",
    "s1.update(s2)\n",
    "print(s1)\n",
    "print(s2)"
   ]
  },
  {
   "cell_type": "code",
   "execution_count": 227,
   "id": "ce0fc9c1-33cd-4530-8782-2e2502b375a3",
   "metadata": {},
   "outputs": [
    {
     "name": "stdout",
     "output_type": "stream",
     "text": [
      "{4, 5}\n",
      "{4, 5, 6, 7, 8}\n"
     ]
    }
   ],
   "source": [
    "# intersection \n",
    "s1 = {1,2,3,4,5}\n",
    "s2 = {4,5,6,7,8}\n",
    "\n",
    "# s1 & s2\n",
    "s1.intersection_update(s2)\n",
    "print(s1)\n",
    "print(s2)\n"
   ]
  },
  {
   "cell_type": "code",
   "execution_count": 233,
   "id": "c19e537a-41ef-43a3-9c3b-35d083917934",
   "metadata": {},
   "outputs": [
    {
     "name": "stdout",
     "output_type": "stream",
     "text": [
      "{1, 2, 3}\n",
      "{4, 5, 6, 7, 8}\n"
     ]
    }
   ],
   "source": [
    "# difference \n",
    "s1 = {1,2,3,4,5}\n",
    "s2 = {4,5,6,7,8}\n",
    "\n",
    "s1 - s2\n",
    "s1.difference_update(s2)\n",
    "print(s1)\n",
    "print(s2)"
   ]
  },
  {
   "cell_type": "code",
   "execution_count": 245,
   "id": "dadf7cc6-342b-4a1f-b809-cf1b0afe24ed",
   "metadata": {},
   "outputs": [
    {
     "name": "stdout",
     "output_type": "stream",
     "text": [
      "{1, 2, 3, 6, 7, 8}\n",
      "{4, 5, 6, 7, 8}\n"
     ]
    }
   ],
   "source": [
    "# symmetric difference \n",
    "s1 = {1,2,3,4,5}\n",
    "s2 = {4,5,6,7,8}\n",
    "\n",
    "s1 ^ s2\n",
    "s1.symmetric_difference(s2)\n",
    "\n",
    "s1.symmetric_difference_update(s2)                               \n",
    "print(s1)\n",
    "print(s2)"
   ]
  },
  {
   "cell_type": "code",
   "execution_count": 243,
   "id": "bdc7c403-488d-4ce3-b273-b4c5d37e8414",
   "metadata": {},
   "outputs": [
    {
     "data": {
      "text/plain": [
       "True"
      ]
     },
     "execution_count": 243,
     "metadata": {},
     "output_type": "execute_result"
    }
   ],
   "source": [
    "# isdisjoint/issubset/issuperset\n",
    "\n",
    "s1 = {1,2,3,4}\n",
    "s2 = {5,6,7,8}\n",
    "\n",
    "s1.isdisjoint(s2)"
   ]
  },
  {
   "cell_type": "code",
   "execution_count": 249,
   "id": "aa0d0571-6f87-4bc8-9a26-a32e9149d307",
   "metadata": {},
   "outputs": [
    {
     "data": {
      "text/plain": [
       "True"
      ]
     },
     "execution_count": 249,
     "metadata": {},
     "output_type": "execute_result"
    }
   ],
   "source": [
    "s1 = {1,2,3,4,5,6,7,8,9}\n",
    "s2 = {5,6,7,8}\n",
    "\n",
    "s2.issubset(s1)\n",
    "s1.issuperset(s2)"
   ]
  },
  {
   "cell_type": "markdown",
   "id": "bc38f3eb-9145-4270-8b94-7afeae196025",
   "metadata": {},
   "source": [
    "# Frozone set \n",
    "\n",
    "Frozone is just immutable version of Python set \n"
   ]
  },
  {
   "cell_type": "code",
   "execution_count": 266,
   "id": "3b6c34e4-09ed-4f26-a9ea-82024307c32e",
   "metadata": {},
   "outputs": [
    {
     "name": "stdout",
     "output_type": "stream",
     "text": [
      "frozenset({1, 2, 3, 4})\n"
     ]
    },
    {
     "data": {
      "text/plain": [
       "frozenset"
      ]
     },
     "execution_count": 266,
     "metadata": {},
     "output_type": "execute_result"
    }
   ],
   "source": [
    "s1 = frozenset([1,2,3,4,])\n",
    "print(s1)\n",
    "type(s1)"
   ]
  },
  {
   "cell_type": "code",
   "execution_count": 268,
   "id": "30831447-769f-43d2-8f26-e3ca5a026dfa",
   "metadata": {},
   "outputs": [
    {
     "data": {
      "text/plain": [
       "{1, 2, 3, frozenset({1, 2, 3})}"
      ]
     },
     "execution_count": 268,
     "metadata": {},
     "output_type": "execute_result"
    }
   ],
   "source": [
    "set1 = {1,2,3,frozenset([1,2,3])}\n",
    "set1"
   ]
  },
  {
   "cell_type": "code",
   "execution_count": null,
   "id": "05bea977-6965-4a85-ad04-0c2980c1f009",
   "metadata": {},
   "outputs": [],
   "source": []
  }
 ],
 "metadata": {
  "kernelspec": {
   "display_name": "Python 3 (ipykernel)",
   "language": "python",
   "name": "python3"
  },
  "language_info": {
   "codemirror_mode": {
    "name": "ipython",
    "version": 3
   },
   "file_extension": ".py",
   "mimetype": "text/x-python",
   "name": "python",
   "nbconvert_exporter": "python",
   "pygments_lexer": "ipython3",
   "version": "3.11.7"
  }
 },
 "nbformat": 4,
 "nbformat_minor": 5
}
