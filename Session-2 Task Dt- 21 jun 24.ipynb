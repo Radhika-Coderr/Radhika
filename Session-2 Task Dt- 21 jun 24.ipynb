{
 "cells": [
  {
   "cell_type": "markdown",
   "id": "45d6a087-9e06-4ae1-bc86-9a1afe364c11",
   "metadata": {},
   "source": [
    "##### Problem 1: Write a program that will give you in hand monthly salary after deduction on CTC - HRA(10%), DA(5%), PF(3%) and taxes deduction as below:\n",
    "\n",
    "    Salary(Lakhs) : Tax(%)\n",
    "\n",
    "    Below 5 : 0%\n",
    "    5-10 : 10%\n",
    "    10-20 : 20%\n",
    "    aboove 20 : 30%\n"
   ]
  },
  {
   "cell_type": "code",
   "execution_count": 3,
   "id": "05a56f6f-cc1a-4bd9-92fb-335b53e8d419",
   "metadata": {},
   "outputs": [
    {
     "name": "stdin",
     "output_type": "stream",
     "text": [
      "Enter your CTC (in Lakhs):  100000\n"
     ]
    },
    {
     "name": "stdout",
     "output_type": "stream",
     "text": [
      "Your monthly salary after deductions and taxes is: ₹ 4783.33\n"
     ]
    }
   ],
   "source": [
    "def calculate_monthly_salary(ctc):\n",
    "    # Deductions percentages\n",
    "    hra_percentage = 10\n",
    "    da_percentage = 5\n",
    "    pf_percentage = 3\n",
    "\n",
    "    # Tax slabs\n",
    "    tax_slabs = [\n",
    "        (5, 0),     # Salary below 5 Lakhs, 0% tax\n",
    "        (10, 10),   # Salary between 5 Lakhs (inclusive) and 10 Lakhs (exclusive), 10% tax\n",
    "        (20, 20),   # Salary between 10 Lakhs (inclusive) and 20 Lakhs (exclusive), 20% tax\n",
    "        (float('inf'), 30)  # Salary 20 Lakhs and above, 30% tax\n",
    "    ]\n",
    "\n",
    "    # Calculate deductions\n",
    "    hra_deduction = (hra_percentage / 100) * ctc\n",
    "    da_deduction = (da_percentage / 100) * ctc\n",
    "    pf_deduction = (pf_percentage / 100) * ctc\n",
    "    total_deduction = hra_deduction + da_deduction + pf_deduction\n",
    "\n",
    "    # Calculate taxable income\n",
    "    taxable_income = ctc - total_deduction\n",
    "\n",
    "    # Calculate tax based on tax slabs\n",
    "    tax = 0\n",
    "    for slab, tax_percentage in tax_slabs:\n",
    "        if taxable_income < slab:\n",
    "            tax = (taxable_income * tax_percentage) / 100\n",
    "            break\n",
    "\n",
    "    # Calculate monthly salary after tax deduction\n",
    "    monthly_salary = (ctc - total_deduction - tax) / 12\n",
    "\n",
    "    return monthly_salary\n",
    "\n",
    "# Example usage:\n",
    "ctc = float(input(\"Enter your CTC (in Lakhs): \"))\n",
    "monthly_salary = calculate_monthly_salary(ctc)\n",
    "\n",
    "print(f\"Your monthly salary after deductions and taxes is: ₹ {monthly_salary:.2f}\")"
   ]
  },
  {
   "cell_type": "markdown",
   "id": "e9a0916c-666c-4c7e-b81d-637a1f9009f3",
   "metadata": {},
   "source": [
    "### Problem 2: Write a program that take a user input of three angles and will find out whether it can form a triangle or not."
   ]
  },
  {
   "cell_type": "code",
   "execution_count": 9,
   "id": "bdac30ba-21fb-49ba-8e98-c049b84019c0",
   "metadata": {},
   "outputs": [
    {
     "name": "stdin",
     "output_type": "stream",
     "text": [
      "Enter the first angle:  45\n",
      "Enter the second angle:  90\n",
      "Enter the third angle:  45\n"
     ]
    },
    {
     "name": "stdout",
     "output_type": "stream",
     "text": [
      "Yes, these angles can form a triangle.\n"
     ]
    }
   ],
   "source": [
    "def can_form_triangle(angle1, angle2, angle3):\n",
    "    # Check if the sum of angles is 180 degrees (which is necessary for a triangle)\n",
    "    if angle1 + angle2 + angle3 == 180:\n",
    "        return True\n",
    "    else:\n",
    "        return False\n",
    "\n",
    "# Input angles from the user\n",
    "angle1 = int(input(\"Enter the first angle: \"))\n",
    "angle2 = int(input(\"Enter the second angle: \"))\n",
    "angle3 = int(input(\"Enter the third angle: \"))\n",
    "\n",
    "# Check if they can form a triangle\n",
    "if can_form_triangle(angle1, angle2, angle3):\n",
    "    print(\"Yes, these angles can form a triangle.\")\n",
    "else:\n",
    "    print(\"No, these angles cannot form a triangle.\")"
   ]
  },
  {
   "cell_type": "markdown",
   "id": "f2d3d400-ad77-4e88-96cf-1e47d3e6cf23",
   "metadata": {},
   "source": [
    "### Problem 3: Write a program that will take user input of cost price and selling price and determines whether its a loss or a profit."
   ]
  },
  {
   "cell_type": "code",
   "execution_count": 15,
   "id": "3ef35533-066d-41da-b177-70f45659791b",
   "metadata": {},
   "outputs": [
    {
     "name": "stdin",
     "output_type": "stream",
     "text": [
      "Enter the cost price: ₹  80\n",
      "Enter the selling price: ₹  80\n"
     ]
    },
    {
     "name": "stdout",
     "output_type": "stream",
     "text": [
      "No profit, no loss\n"
     ]
    }
   ],
   "source": [
    "def calculate_profit_or_loss(cost_price, selling_price):\n",
    "    if selling_price > cost_price:\n",
    "        profit = selling_price - cost_price\n",
    "        return f\"Profit of ₹ {profit:.2f}\"\n",
    "    elif selling_price < cost_price:\n",
    "        loss = cost_price - selling_price\n",
    "        return f\"Loss of ₹ {loss:.2f}\"\n",
    "    else:\n",
    "        return \"No profit, no loss\"\n",
    "\n",
    "# Input cost price and selling price from the user\n",
    "cost_price = float(input(\"Enter the cost price: ₹ \"))\n",
    "selling_price = float(input(\"Enter the selling price: ₹ \"))\n",
    "\n",
    "# Calculate and print profit or loss\n",
    "result = calculate_profit_or_loss(cost_price, selling_price)\n",
    "print(result)"
   ]
  },
  {
   "cell_type": "markdown",
   "id": "15cac3be-fb66-4ba8-9faa-22402fb7608d",
   "metadata": {},
   "source": [
    "### Problem 4: Write a menu-driven program -\n",
    "\n",
    "    cm to ft\n",
    "    km to miles\n",
    "    USD to INR\n",
    "    exit\n"
   ]
  },
  {
   "cell_type": "code",
   "execution_count": 18,
   "id": "52d7c2dc-2342-4496-af12-092ea91c625b",
   "metadata": {},
   "outputs": [
    {
     "name": "stdout",
     "output_type": "stream",
     "text": [
      "\n",
      "Menu:\n",
      "1. cm to ft\n",
      "2. km to miles\n",
      "3. USD to INR\n",
      "4. Exit\n"
     ]
    },
    {
     "name": "stdin",
     "output_type": "stream",
     "text": [
      "Enter your choice (1/2/3/4):  3\n",
      "Enter amount in USD:  75\n"
     ]
    },
    {
     "name": "stdout",
     "output_type": "stream",
     "text": [
      "$75.0 = ₹ 5587.50\n",
      "\n",
      "Menu:\n",
      "1. cm to ft\n",
      "2. km to miles\n",
      "3. USD to INR\n",
      "4. Exit\n"
     ]
    },
    {
     "name": "stdin",
     "output_type": "stream",
     "text": [
      "Enter your choice (1/2/3/4):  4\n"
     ]
    },
    {
     "name": "stdout",
     "output_type": "stream",
     "text": [
      "Exiting program...\n"
     ]
    }
   ],
   "source": [
    "def cm_to_ft(cm):\n",
    "    return cm / 30.48\n",
    "\n",
    "def km_to_miles(km):\n",
    "    return km * 0.621371\n",
    "\n",
    "def usd_to_inr(usd):\n",
    "    return usd * 74.5  # Assuming 1 USD = 74.5 INR\n",
    "\n",
    "while True:\n",
    "    print(\"\\nMenu:\")\n",
    "    print(\"1. cm to ft\")\n",
    "    print(\"2. km to miles\")\n",
    "    print(\"3. USD to INR\")\n",
    "    print(\"4. Exit\")\n",
    "\n",
    "    choice = input(\"Enter your choice (1/2/3/4): \")\n",
    "\n",
    "    if choice == '1':\n",
    "        cm = float(input(\"Enter length in centimeters: \"))\n",
    "        print(f\"{cm} cm = {cm_to_ft(cm):.2f} ft\")\n",
    "    elif choice == '2':\n",
    "        km = float(input(\"Enter distance in kilometers: \"))\n",
    "        print(f\"{km} km = {km_to_miles(km):.2f} miles\")\n",
    "    elif choice == '3':\n",
    "        usd = float(input(\"Enter amount in USD: \"))\n",
    "        print(f\"${usd} = ₹ {usd_to_inr(usd):.2f}\")\n",
    "    elif choice == '4':\n",
    "        print(\"Exiting program...\")\n",
    "        break\n",
    "    else:\n",
    "        print(\"Invalid choice! Please enter a valid option (1/2/3/4).\")\n"
   ]
  },
  {
   "cell_type": "markdown",
   "id": "98383294-e90f-4373-a0d3-b42f135ef9a1",
   "metadata": {},
   "source": [
    "### Problem 5 - Exercise 12: Display Fibonacci series up to 10 terms.\n",
    "\n",
    "Note: The Fibonacci Sequence is a series of numbers. The next number is found by adding up the two numbers before it. The first two numbers are 0 and 1. For example, 0, 1, 1, 2, 3, 5, 8, 13, 21. The next number in this series above is 13+21 = 34"
   ]
  },
  {
   "cell_type": "code",
   "execution_count": 21,
   "id": "1e57b5c5-caa6-414b-9c16-500d8aa88bcf",
   "metadata": {},
   "outputs": [
    {
     "name": "stdout",
     "output_type": "stream",
     "text": [
      "0 1 1 2 3 5 8 13 21 34 "
     ]
    }
   ],
   "source": [
    "# Initialize the first two terms of the Fibonacci sequence\n",
    "a, b = 0, 1\n",
    "\n",
    "# Print the first two terms (0 and 1)\n",
    "print(a, end=' ')\n",
    "print(b, end=' ')\n",
    "\n",
    "# Loop to generate the Fibonacci sequence up to 10 terms\n",
    "for _ in range(8):  # We have already printed the first two terms, so we need 8 more terms\n",
    "    c = a + b  # Calculate the next term in the sequence\n",
    "    print(c, end=' ')\n",
    "    a = b  # Update the first term to be the second term\n",
    "    b = c  # Update the second term to be the new term\n"
   ]
  },
  {
   "cell_type": "markdown",
   "id": "f81ae953-c0a5-411c-9869-4ff091041456",
   "metadata": {},
   "source": [
    "### Problem 6 - Find the factorial of a given number.\n",
    "Write a program to use the loop to find the factorial of a given number.\n",
    "The factorial (symbol: !) means to multiply all whole numbers from the chosen number down to 1.\n",
    "For example: calculate the factorial of 5\n",
    "\n",
    "5! = 5 × 4 × 3 × 2 × 1 = 120"
   ]
  },
  {
   "cell_type": "code",
   "execution_count": 25,
   "id": "6faf83d3-d4b0-4c55-81ed-34e9a8a1f59e",
   "metadata": {},
   "outputs": [
    {
     "name": "stdout",
     "output_type": "stream",
     "text": [
      "The factorial of 5 is: 120\n"
     ]
    }
   ],
   "source": [
    "def factorial(n):\n",
    "    result = 1\n",
    "    for i in range(1, n + 1):\n",
    "        result *= i\n",
    "    return result\n",
    "\n",
    "# Example usage:\n",
    "number = 5\n",
    "print(f\"The factorial of {number} is: {factorial(number)}\")\n"
   ]
  },
  {
   "cell_type": "markdown",
   "id": "ab63095a-fbb7-4d97-8490-f1714719c77b",
   "metadata": {},
   "source": [
    "### Problem 7 - Reverse a given integer number.\n",
    "Example:\n",
    "Input:\n",
    "76542"
   ]
  },
  {
   "cell_type": "code",
   "execution_count": 28,
   "id": "9b2d81fa-1454-46ae-a575-85d0fe1cee31",
   "metadata": {},
   "outputs": [
    {
     "name": "stdout",
     "output_type": "stream",
     "text": [
      "The reversed number of 76542 is: 24567\n"
     ]
    }
   ],
   "source": [
    "def reverse_integer(number):\n",
    "    # Convert number to string to facilitate reversal\n",
    "    number_str = str(number)\n",
    "    \n",
    "    # Reverse the string\n",
    "    reversed_str = number_str[::-1]\n",
    "    \n",
    "    # Convert the reversed string back to an integer\n",
    "    reversed_number = int(reversed_str)\n",
    "    \n",
    "    return reversed_number\n",
    "\n",
    "# Example usage:\n",
    "number = 76542\n",
    "print(f\"The reversed number of {number} is: {reverse_integer(number)}\")\n"
   ]
  },
  {
   "cell_type": "markdown",
   "id": "0a9ddfdf-5472-4c2c-97e2-d45f1ef58561",
   "metadata": {},
   "source": [
    "### Problem 8: Take a user input as integer N. Find out the sum from 1 to N. If any number if divisible by 5, then skip that number. And if the sum is greater than 300, don't need to calculate the sum further more. Print the final result. And don't use for loop to solve this problem.\n",
    "Example 1:\n",
    "Input:\n",
    "30"
   ]
  },
  {
   "cell_type": "code",
   "execution_count": 32,
   "id": "517f9711-25de-40d3-bc75-e39493c4383a",
   "metadata": {},
   "outputs": [
    {
     "name": "stdout",
     "output_type": "stream",
     "text": [
      "The sum from 1 to 30 (excluding numbers divisible by 5 and sum <= 300) is: 309\n"
     ]
    }
   ],
   "source": [
    "def sum_up_to_n_with_conditions(n, current_sum=0):\n",
    "    # Base case: if n is 0 or sum exceeds 300, return current_sum\n",
    "    if n == 0 or current_sum > 300:\n",
    "        return current_sum\n",
    "    \n",
    "    # Check if the current number (n) is divisible by 5\n",
    "    if n % 5 == 0:\n",
    "        # Skip this number and move to the next one\n",
    "        return sum_up_to_n_with_conditions(n - 1, current_sum)\n",
    "    else:\n",
    "        # Add the current number to the sum and move to the next number\n",
    "        return sum_up_to_n_with_conditions(n - 1, current_sum + n)\n",
    "\n",
    "# Example usage:\n",
    "N = 30\n",
    "result = sum_up_to_n_with_conditions(N)\n",
    "print(f\"The sum from 1 to {N} (excluding numbers divisible by 5 and sum <= 300) is: {result}\")\n"
   ]
  },
  {
   "cell_type": "markdown",
   "id": "e6a1b31c-594a-49e0-a7ba-773e430eae5d",
   "metadata": {},
   "source": [
    "### Problem 9: Write a program that keeps on accepting a number from the user until the user enters Zero. Display the sum and average of all the numbers."
   ]
  },
  {
   "cell_type": "code",
   "execution_count": 35,
   "id": "4302f002-9cfa-4131-8fc9-85a04816b72a",
   "metadata": {},
   "outputs": [
    {
     "name": "stdin",
     "output_type": "stream",
     "text": [
      "Enter a number (enter 0 to stop):  0\n"
     ]
    },
    {
     "name": "stdout",
     "output_type": "stream",
     "text": [
      "No numbers were entered.\n"
     ]
    }
   ],
   "source": [
    "def calculate_sum_and_average():\n",
    "    numbers = []\n",
    "    while True:\n",
    "        try:\n",
    "            number = float(input(\"Enter a number (enter 0 to stop): \"))\n",
    "            if number == 0:\n",
    "                break\n",
    "            numbers.append(number)\n",
    "        except ValueError:\n",
    "            print(\"Invalid input. Please enter a valid number.\")\n",
    "\n",
    "    if not numbers:\n",
    "        print(\"No numbers were entered.\")\n",
    "    else:\n",
    "        total_sum = sum(numbers)\n",
    "        average = total_sum / len(numbers)\n",
    "        print(f\"Sum of all numbers: {total_sum}\")\n",
    "        print(f\"Average of all numbers: {average}\")\n",
    "\n",
    "# Call the function to start accepting input and calculating sum/average\n",
    "calculate_sum_and_average()\n"
   ]
  },
  {
   "cell_type": "markdown",
   "id": "15c6781a-1262-4e85-9282-e15f7f401ef4",
   "metadata": {},
   "source": [
    "### Problem 9: Write a program which will find all such numbers which are divisible by 7 but are not a multiple of 5, between 2000 and 3200 (both included). The numbers obtained should be printed in a comma-separated sequence on a single line."
   ]
  },
  {
   "cell_type": "code",
   "execution_count": 38,
   "id": "e3c94d28-f174-4f7a-a8c6-fd84bfcc9174",
   "metadata": {},
   "outputs": [
    {
     "name": "stdout",
     "output_type": "stream",
     "text": [
      "2002,2009,2016,2023,2037,2044,2051,2058,2072,2079,2086,2093,2107,2114,2121,2128,2142,2149,2156,2163,2177,2184,2191,2198,2212,2219,2226,2233,2247,2254,2261,2268,2282,2289,2296,2303,2317,2324,2331,2338,2352,2359,2366,2373,2387,2394,2401,2408,2422,2429,2436,2443,2457,2464,2471,2478,2492,2499,2506,2513,2527,2534,2541,2548,2562,2569,2576,2583,2597,2604,2611,2618,2632,2639,2646,2653,2667,2674,2681,2688,2702,2709,2716,2723,2737,2744,2751,2758,2772,2779,2786,2793,2807,2814,2821,2828,2842,2849,2856,2863,2877,2884,2891,2898,2912,2919,2926,2933,2947,2954,2961,2968,2982,2989,2996,3003,3017,3024,3031,3038,3052,3059,3066,3073,3087,3094,3101,3108,3122,3129,3136,3143,3157,3164,3171,3178,3192,3199\n"
     ]
    }
   ],
   "source": [
    "# List comprehension to find numbers divisible by 7 but not multiples of 5\n",
    "numbers = [num for num in range(2000, 3201) if num % 7 == 0 and num % 5 != 0]\n",
    "\n",
    "# Print the numbers as a comma-separated sequence on a single line\n",
    "print(\",\".join(map(str, numbers)))\n"
   ]
  },
  {
   "cell_type": "markdown",
   "id": "6af304e9-06c7-47e2-88ee-ecbd848eb06d",
   "metadata": {},
   "source": [
    "### Problem 10: Write a program, which will find all such numbers between 1000 and 3000 (both included) such that each digit of the number is an even number. The numbers obtained should be printed in a space-separated sequence on a single line."
   ]
  },
  {
   "cell_type": "code",
   "execution_count": 41,
   "id": "569a2e30-6171-48b2-b769-095444c7084c",
   "metadata": {},
   "outputs": [
    {
     "name": "stdout",
     "output_type": "stream",
     "text": [
      "2000 2002 2004 2006 2008 2020 2022 2024 2026 2028 2040 2042 2044 2046 2048 2060 2062 2064 2066 2068 2080 2082 2084 2086 2088 2200 2202 2204 2206 2208 2220 2222 2224 2226 2228 2240 2242 2244 2246 2248 2260 2262 2264 2266 2268 2280 2282 2284 2286 2288 2400 2402 2404 2406 2408 2420 2422 2424 2426 2428 2440 2442 2444 2446 2448 2460 2462 2464 2466 2468 2480 2482 2484 2486 2488 2600 2602 2604 2606 2608 2620 2622 2624 2626 2628 2640 2642 2644 2646 2648 2660 2662 2664 2666 2668 2680 2682 2684 2686 2688 2800 2802 2804 2806 2808 2820 2822 2824 2826 2828 2840 2842 2844 2846 2848 2860 2862 2864 2866 2868 2880 2882 2884 2886 2888\n"
     ]
    }
   ],
   "source": [
    "# Function to check if all digits of a number are even\n",
    "def all_digits_even(number):\n",
    "    digits = str(number)\n",
    "    for digit in digits:\n",
    "        if int(digit) % 2 != 0:\n",
    "            return False\n",
    "    return True\n",
    "\n",
    "# List comprehension to find numbers where all digits are even\n",
    "numbers = [num for num in range(1000, 3001) if all_digits_even(num)]\n",
    "\n",
    "# Print the numbers as a space-separated sequence on a single line\n",
    "print(\" \".join(map(str, numbers)))\n"
   ]
  },
  {
   "cell_type": "markdown",
   "id": "6ce0b321-28f1-4cf5-8902-03259e72e3cd",
   "metadata": {},
   "source": [
    "## Problem 11: A robot moves in a plane starting from the original point (0,0). The robot can move toward UP, DOWN, LEFT and RIGHT with a given steps.\n",
    "The trace of robot movement is shown as the following:\n",
    "UP 5\n",
    "DOWN 3\n",
    "LEFT 3\n",
    "RIGHT 2\n",
    "!\n",
    "    The numbers after the direction are steps.\n",
    "    ! means robot stop there.\n",
    "Please write a program to compute the distance from current position after a sequence of movement and original point.\n",
    "If the distance is a float, then just print the nearest integer.\n",
    "Example:\n",
    "Input:\n",
    "UP 5\n",
    "DOWN 3\n",
    "LEFT 3\n",
    "RIGHT 2\n",
    "!"
   ]
  },
  {
   "cell_type": "code",
   "execution_count": 46,
   "id": "16e270ec-9170-455c-b514-39e67be0f808",
   "metadata": {},
   "outputs": [
    {
     "ename": "ValueError",
     "evalue": "not enough values to unpack (expected 2, got 1)",
     "output_type": "error",
     "traceback": [
      "\u001b[1;31m---------------------------------------------------------------------------\u001b[0m",
      "\u001b[1;31mValueError\u001b[0m                                Traceback (most recent call last)",
      "Cell \u001b[1;32mIn[46], line 38\u001b[0m\n\u001b[0;32m     29\u001b[0m \u001b[38;5;66;03m# Example usage:\u001b[39;00m\n\u001b[0;32m     30\u001b[0m movements \u001b[38;5;241m=\u001b[39m [\n\u001b[0;32m     31\u001b[0m     \u001b[38;5;124m\"\u001b[39m\u001b[38;5;124mUP 5\u001b[39m\u001b[38;5;124m\"\u001b[39m,\n\u001b[0;32m     32\u001b[0m     \u001b[38;5;124m\"\u001b[39m\u001b[38;5;124mDOWN 3\u001b[39m\u001b[38;5;124m\"\u001b[39m,\n\u001b[1;32m   (...)\u001b[0m\n\u001b[0;32m     35\u001b[0m     \u001b[38;5;124m\"\u001b[39m\u001b[38;5;124m!\u001b[39m\u001b[38;5;124m\"\u001b[39m\n\u001b[0;32m     36\u001b[0m ]\n\u001b[1;32m---> 38\u001b[0m result \u001b[38;5;241m=\u001b[39m calculate_distance(movements)\n\u001b[0;32m     39\u001b[0m \u001b[38;5;28mprint\u001b[39m(result)\n",
      "Cell \u001b[1;32mIn[46], line 7\u001b[0m, in \u001b[0;36mcalculate_distance\u001b[1;34m(movements)\u001b[0m\n\u001b[0;32m      4\u001b[0m x, y \u001b[38;5;241m=\u001b[39m \u001b[38;5;241m0\u001b[39m, \u001b[38;5;241m0\u001b[39m\n\u001b[0;32m      6\u001b[0m \u001b[38;5;28;01mfor\u001b[39;00m move \u001b[38;5;129;01min\u001b[39;00m movements:\n\u001b[1;32m----> 7\u001b[0m     direction, steps \u001b[38;5;241m=\u001b[39m move\u001b[38;5;241m.\u001b[39msplit()\n\u001b[0;32m      8\u001b[0m     steps \u001b[38;5;241m=\u001b[39m \u001b[38;5;28mint\u001b[39m(steps)\n\u001b[0;32m     10\u001b[0m     \u001b[38;5;28;01mif\u001b[39;00m direction \u001b[38;5;241m==\u001b[39m \u001b[38;5;124m'\u001b[39m\u001b[38;5;124mUP\u001b[39m\u001b[38;5;124m'\u001b[39m:\n",
      "\u001b[1;31mValueError\u001b[0m: not enough values to unpack (expected 2, got 1)"
     ]
    }
   ],
   "source": [
    "import math\n",
    "\n",
    "def calculate_distance(movements):\n",
    "    x, y = 0, 0\n",
    "    \n",
    "    for move in movements:\n",
    "        direction, steps = move.split()\n",
    "        steps = int(steps)\n",
    "        \n",
    "        if direction == 'UP':\n",
    "            y += steps\n",
    "        elif direction == 'DOWN':\n",
    "            y -= steps\n",
    "        elif direction == 'LEFT':\n",
    "            x -= steps\n",
    "        elif direction == 'RIGHT':\n",
    "            x += steps\n",
    "        elif direction == '!':\n",
    "            break\n",
    "    \n",
    "    # Calculate distance from origin\n",
    "    distance = math.sqrt(x**2 + y**2)\n",
    "    \n",
    "    # Round the distance to the nearest integer\n",
    "    distance = round(distance)\n",
    "    \n",
    "    return distance\n",
    "\n",
    "# Example usage:\n",
    "movements = [\n",
    "    \"UP 5\",\n",
    "    \"DOWN 3\",\n",
    "    \"LEFT 3\",\n",
    "    \"RIGHT 2\",\n",
    "    \"!\"\n",
    "]\n",
    "\n",
    "result = calculate_distance(movements)\n",
    "print(result)\n"
   ]
  },
  {
   "cell_type": "markdown",
   "id": "5d910c61-e9ef-4ff2-89c6-62c0f9b4ccac",
   "metadata": {},
   "source": [
    "### Problem 12:Write a program to print whether a given number is a prime number or not"
   ]
  },
  {
   "cell_type": "code",
   "execution_count": 49,
   "id": "dcc2fa83-21f4-4f40-b0db-069e0d28f3c8",
   "metadata": {},
   "outputs": [
    {
     "name": "stdout",
     "output_type": "stream",
     "text": [
      "17 is a prime number\n"
     ]
    }
   ],
   "source": [
    "def is_prime(num):\n",
    "    # Prime numbers are greater than 1\n",
    "    if num <= 1:\n",
    "        return False\n",
    "    \n",
    "    # Check for factors from 2 to sqrt(num)\n",
    "    # Optimization: iterate up to square root of num\n",
    "    for i in range(2, int(num**0.5) + 1):\n",
    "        if num % i == 0:\n",
    "            return False\n",
    "    \n",
    "    return True\n",
    "\n",
    "# Example usage:\n",
    "num = 17  # Change this number to check different numbers\n",
    "if is_prime(num):\n",
    "    print(f\"{num} is a prime number\")\n",
    "else:\n",
    "    print(f\"{num} is not a prime number\")\n"
   ]
  },
  {
   "cell_type": "markdown",
   "id": "403ca1ba-e29f-4201-8d6f-0facb9465f8d",
   "metadata": {},
   "source": [
    "### Problem 13:Print all the Armstrong numbers in a given range.\n",
    "\n",
    "### Range will be provided by the user\n",
    "### Armstrong number is a number that is equal to the sum of cubes of its digits. For example 0, 1, 153, 370, 371 and 407 are the Armstrong numbers."
   ]
  },
  {
   "cell_type": "code",
   "execution_count": 52,
   "id": "f250fe56-965a-40d5-948b-4e1b2d1b74ad",
   "metadata": {},
   "outputs": [
    {
     "name": "stdin",
     "output_type": "stream",
     "text": [
      "Enter the start of the range:  1\n",
      "Enter the end of the range:  1\n"
     ]
    },
    {
     "name": "stdout",
     "output_type": "stream",
     "text": [
      "Armstrong numbers in the range: [1]\n"
     ]
    }
   ],
   "source": [
    "def is_armstrong_number(num):\n",
    "    # Convert number to string to iterate over digits\n",
    "    str_num = str(num)\n",
    "    num_digits = len(str_num)\n",
    "    \n",
    "    # Calculate sum of cubes of each digit\n",
    "    sum_of_cubes = sum(int(digit)**num_digits for digit in str_num)\n",
    "    \n",
    "    # Check if the number is Armstrong\n",
    "    return sum_of_cubes == num\n",
    "\n",
    "def find_armstrong_numbers(start, end):\n",
    "    armstrong_numbers = []\n",
    "    for num in range(start, end + 1):\n",
    "        if is_armstrong_number(num):\n",
    "            armstrong_numbers.append(num)\n",
    "    return armstrong_numbers\n",
    "\n",
    "# Example usage:\n",
    "start_range = int(input(\"Enter the start of the range: \"))\n",
    "end_range = int(input(\"Enter the end of the range: \"))\n",
    "\n",
    "armstrong_numbers = find_armstrong_numbers(start_range, end_range)\n",
    "print(\"Armstrong numbers in the range:\", armstrong_numbers)\n"
   ]
  },
  {
   "cell_type": "markdown",
   "id": "3362230a-fb9a-438b-8512-cd67c4ba0108",
   "metadata": {},
   "source": [
    "### Problem 14:Calculate the angle between the hour hand and minute hand.\n",
    "\n",
    "Note: There can be two angles between hands; we need to print a minimum of two. Also, we need to print the floor of the final result angle. For example, if the final angle is 10.61, we need to print 10.\n",
    "\n",
    "Input:\n",
    "H = 9 , M = 0\n",
    "Output:\n",
    "90\n",
    "Explanation:\n",
    "The minimum angle between hour and minute hand when the time is 9 is 90 degress"
   ]
  },
  {
   "cell_type": "code",
   "execution_count": 55,
   "id": "e4f31905-9ebe-4c3e-90af-4cab160c1890",
   "metadata": {},
   "outputs": [
    {
     "name": "stdout",
     "output_type": "stream",
     "text": [
      "90\n"
     ]
    }
   ],
   "source": [
    "import math\n",
    "\n",
    "def calculate_clock_angle(H, M):\n",
    "    # Calculate angles for hour and minute hands\n",
    "    minute_angle = M * 6\n",
    "    hour_angle = (H % 12) * 30 + M * 0.5\n",
    "    \n",
    "    # Calculate the absolute difference between the angles\n",
    "    angle = abs(minute_angle - hour_angle)\n",
    "    \n",
    "    # Calculate the minimum angle (considering the two possible angles)\n",
    "    angle = min(angle, 360 - angle)\n",
    "    \n",
    "    # Return the floor of the angle\n",
    "    return math.floor(angle)\n",
    "\n",
    "# Example usage:\n",
    "H = 9\n",
    "M = 0\n",
    "result = calculate_clock_angle(H, M)\n",
    "print(result)\n"
   ]
  },
  {
   "cell_type": "markdown",
   "id": "0f848aab-59b6-4f91-95b4-4cb041caf24b",
   "metadata": {},
   "source": [
    "### Problem 15:Given two rectangles, find if the given two rectangles overlap or not. A rectangle is denoted by providing the x and y coordinates of two points: the left top corner and the right bottom corner of the rectangle. Two rectangles sharing a side are considered overlapping. (L1 and R1 are the extreme points of the first rectangle and L2 and R2 are the extreme points of the second rectangle).\n",
    "\n",
    "Note: It may be assumed that the rectangles are parallel to the coordinate axis.\n",
    "\n"
   ]
  },
  {
   "cell_type": "code",
   "execution_count": 58,
   "id": "d896f516-d5e0-490f-a795-dc6e1dcd2734",
   "metadata": {},
   "outputs": [
    {
     "name": "stdout",
     "output_type": "stream",
     "text": [
      "Rectangles overlap\n"
     ]
    }
   ],
   "source": [
    "def do_rectangles_overlap(L1x, L1y, R1x, R1y, L2x, L2y, R2x, R2y):\n",
    "    # Check if either rectangle is to the left of the other\n",
    "    if L1x >= R2x or L2x >= R1x:\n",
    "        return False\n",
    "    \n",
    "    # Check if either rectangle is above the other\n",
    "    if R1y >= L2y or R2y >= L1y:\n",
    "        return False\n",
    "    \n",
    "    return True\n",
    "\n",
    "# Example usage:\n",
    "L1x, L1y = 0, 10\n",
    "R1x, R1y = 10, 0\n",
    "L2x, L2y = 5, 5\n",
    "R2x, R2y = 15, -5\n",
    "\n",
    "if do_rectangles_overlap(L1x, L1y, R1x, R1y, L2x, L2y, R2x, R2y):\n",
    "    print(\"Rectangles overlap\")\n",
    "else:\n",
    "    print(\"Rectangles do not overlap\")\n"
   ]
  },
  {
   "cell_type": "code",
   "execution_count": null,
   "id": "6f0df079-1681-4b86-83bd-75787c794dc7",
   "metadata": {},
   "outputs": [],
   "source": []
  }
 ],
 "metadata": {
  "kernelspec": {
   "display_name": "Python 3 (ipykernel)",
   "language": "python",
   "name": "python3"
  },
  "language_info": {
   "codemirror_mode": {
    "name": "ipython",
    "version": 3
   },
   "file_extension": ".py",
   "mimetype": "text/x-python",
   "name": "python",
   "nbconvert_exporter": "python",
   "pygments_lexer": "ipython3",
   "version": "3.11.7"
  }
 },
 "nbformat": 4,
 "nbformat_minor": 5
}
