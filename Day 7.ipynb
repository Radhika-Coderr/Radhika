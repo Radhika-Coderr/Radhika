{
 "cells": [
  {
   "cell_type": "markdown",
   "id": "6f54c8ab-a9a4-43ed-a4d5-9b2f3d67b3b1",
   "metadata": {},
   "source": [
    "# EDITING A LIST"
   ]
  },
  {
   "cell_type": "code",
   "execution_count": 8,
   "id": "125c60f0-8cd1-4f99-844d-f3cd2057ae71",
   "metadata": {},
   "outputs": [
    {
     "data": {
      "text/plain": [
       "[100, 200, 300, 400, 500]"
      ]
     },
     "execution_count": 8,
     "metadata": {},
     "output_type": "execute_result"
    }
   ],
   "source": [
    "L = [1,2,3,4,5]\n",
    "L[-1] = 500\n",
    "L\n",
    "\n",
    "L[:4] = 100,200,300,400\n",
    "L"
   ]
  },
  {
   "cell_type": "markdown",
   "id": "20a77344-cd47-48e1-866b-90216b9a6245",
   "metadata": {},
   "source": [
    "# DELETING A LIST"
   ]
  },
  {
   "cell_type": "code",
   "execution_count": 10,
   "id": "7425145b-6b3e-401a-94d8-44b4f284cea5",
   "metadata": {},
   "outputs": [
    {
     "data": {
      "text/plain": [
       "[1, 4]"
      ]
     },
     "execution_count": 10,
     "metadata": {},
     "output_type": "execute_result"
    }
   ],
   "source": [
    "L = [1,2,3,4,5]\n",
    "# index\n",
    "\n",
    "del L[-1]\n",
    "L\n",
    "\n",
    "#SLICING \n",
    "del L[1:3]\n",
    "L\n",
    "\n",
    "# del L\n",
    "L"
   ]
  },
  {
   "cell_type": "markdown",
   "id": "0ed41282-3688-44d6-ae9a-61313bd1ce96",
   "metadata": {},
   "source": [
    "# REMOVE "
   ]
  },
  {
   "cell_type": "code",
   "execution_count": 12,
   "id": "88976ff4-0afa-40e0-8b8b-7626d4f3e182",
   "metadata": {},
   "outputs": [
    {
     "data": {
      "text/plain": [
       "[2, 3, 4, 5]"
      ]
     },
     "execution_count": 12,
     "metadata": {},
     "output_type": "execute_result"
    }
   ],
   "source": [
    "L = [1,2,3,4,5]\n",
    "\n",
    "L.remove(1)\n",
    "L"
   ]
  },
  {
   "cell_type": "markdown",
   "id": "4574691f-ac56-4ffb-89ec-29ca9a71e122",
   "metadata": {},
   "source": [
    "# POP"
   ]
  },
  {
   "cell_type": "code",
   "execution_count": 15,
   "id": "35a00b06-1b3e-4218-9bbd-aa5a764789ec",
   "metadata": {},
   "outputs": [
    {
     "data": {
      "text/plain": [
       "[1, 2, 3, 4]"
      ]
     },
     "execution_count": 15,
     "metadata": {},
     "output_type": "execute_result"
    }
   ],
   "source": [
    "L = [1,2,3,4,5]\n",
    "\n",
    "L.pop()\n",
    "L"
   ]
  },
  {
   "cell_type": "markdown",
   "id": "80ba474a-4ad5-41cd-917b-a859f5940a7f",
   "metadata": {},
   "source": [
    "# CLEAR :- It will remove all function"
   ]
  },
  {
   "cell_type": "code",
   "execution_count": 18,
   "id": "9e1a821b-6938-4e58-ae78-24d4eb93d6dd",
   "metadata": {},
   "outputs": [
    {
     "data": {
      "text/plain": [
       "[]"
      ]
     },
     "execution_count": 18,
     "metadata": {},
     "output_type": "execute_result"
    }
   ],
   "source": [
    "L = [1,2,3,4,5]\n",
    "\n",
    "L.clear()\n",
    "L"
   ]
  },
  {
   "cell_type": "markdown",
   "id": "d0c50481-0a56-4db2-9611-75553e7e597c",
   "metadata": {},
   "source": [
    "# Operations on list\n",
    " 1. Arthemtical Operation\n",
    " 2. Membership Operation\n",
    " 3. Loop of list\n"
   ]
  },
  {
   "cell_type": "code",
   "execution_count": 4,
   "id": "0aa1a18b-e0c8-4ecd-97a3-5d9515d637fe",
   "metadata": {},
   "outputs": [
    {
     "name": "stdout",
     "output_type": "stream",
     "text": [
      "[1, 2, 3, 4, 5, 6, 7, 8, 9, 10]\n",
      "[1, 2, 3, 4, 5, 1, 2, 3, 4, 5, 1, 2, 3, 4, 5]\n"
     ]
    }
   ],
   "source": [
    "L = [1,2,3,4,5]                      \n",
    "L1 = [6,7,8,9,10]\n",
    "\n",
    "print (L + L1)\n",
    "print (L * 3)"
   ]
  },
  {
   "cell_type": "code",
   "execution_count": 8,
   "id": "438743fd-461f-46df-b93c-620c5a2bbe4e",
   "metadata": {},
   "outputs": [
    {
     "name": "stdout",
     "output_type": "stream",
     "text": [
      "False\n",
      "True\n"
     ]
    }
   ],
   "source": [
    "L = [1,2,3,4,5]        \n",
    "print(6 in L)\n",
    "print(6 not in L)"
   ]
  },
  {
   "cell_type": "code",
   "execution_count": 10,
   "id": "4258fb71-d976-4b29-b62b-496f49dcc413",
   "metadata": {},
   "outputs": [
    {
     "name": "stdout",
     "output_type": "stream",
     "text": [
      "1\n",
      "2\n",
      "3\n",
      "4\n",
      "[5, 6]\n"
     ]
    }
   ],
   "source": [
    "L1 = [1,2,3,4,5]         \n",
    "L2 = [1,2,3,4,[5,6]]\n",
    "L3 = [[[1,2],[3,4]],[[5,6],[7,8]]]\n",
    "\n",
    "for i in L2:\n",
    "    print(i)"
   ]
  },
  {
   "cell_type": "markdown",
   "id": "51a18735-e7a9-44fc-bc59-b469d2751ddb",
   "metadata": {},
   "source": [
    "# Functions on List\n",
    "1. len()\n",
    "2. max()\n",
    "3. min()\n",
    "4. sorted()"
   ]
  },
  {
   "cell_type": "code",
   "execution_count": 14,
   "id": "76462c85-6768-4b35-98be-85826338f8ff",
   "metadata": {},
   "outputs": [
    {
     "name": "stdout",
     "output_type": "stream",
     "text": [
      "6\n",
      "1\n",
      "6\n",
      "[1, 2, 3, 4, 5, 6]\n"
     ]
    }
   ],
   "source": [
    "L = [1,2,3,4,5,6]\n",
    "\n",
    "print(len(L))\n",
    "print(min(L))\n",
    "print(max(L))\n",
    "print(sorted(L))"
   ]
  },
  {
   "cell_type": "markdown",
   "id": "10ef86f5-82bb-4366-b7b8-e807a0ebb135",
   "metadata": {},
   "source": [
    "# Count"
   ]
  },
  {
   "cell_type": "code",
   "execution_count": 18,
   "id": "2558a8cc-57d9-44ea-96b2-64a2c84f4b51",
   "metadata": {},
   "outputs": [
    {
     "data": {
      "text/plain": [
       "4"
      ]
     },
     "execution_count": 18,
     "metadata": {},
     "output_type": "execute_result"
    }
   ],
   "source": [
    "L = [1,1,1,1,2,3,4,2,5,6,7,8]\n",
    "L.count(1)"
   ]
  },
  {
   "cell_type": "code",
   "execution_count": null,
   "id": "02a8536a-75b0-4112-b8fc-9bb847923c91",
   "metadata": {},
   "outputs": [],
   "source": [
    "# Index"
   ]
  },
  {
   "cell_type": "code",
   "execution_count": 27,
   "id": "08fd9206-52be-4141-b37f-2a31dacd9118",
   "metadata": {},
   "outputs": [
    {
     "data": {
      "text/plain": [
       "0"
      ]
     },
     "execution_count": 27,
     "metadata": {},
     "output_type": "execute_result"
    }
   ],
   "source": [
    "L = [1,2,3,4,5]\n",
    "L.index(1)"
   ]
  },
  {
   "cell_type": "code",
   "execution_count": 22,
   "id": "710d4d26-273b-496a-a362-9f2a3716ce03",
   "metadata": {},
   "outputs": [],
   "source": [
    "# Reverse"
   ]
  },
  {
   "cell_type": "code",
   "execution_count": 29,
   "id": "01982185-7b75-48e5-bbce-e7d6cdc917ef",
   "metadata": {},
   "outputs": [
    {
     "data": {
      "text/plain": [
       "[5, 4, 3, 2, 1]"
      ]
     },
     "execution_count": 29,
     "metadata": {},
     "output_type": "execute_result"
    }
   ],
   "source": [
    "L = [1,2,3,4,5]\n",
    "L.reverse()      #permanent change in list\n",
    "L"
   ]
  },
  {
   "cell_type": "code",
   "execution_count": 25,
   "id": "3f1cac1d-8c67-4800-83bf-145ef734a43c",
   "metadata": {},
   "outputs": [],
   "source": [
    "# Sort"
   ]
  },
  {
   "cell_type": "code",
   "execution_count": 31,
   "id": "43d62f9e-b8fc-47be-8393-18ff9cb8edbd",
   "metadata": {},
   "outputs": [
    {
     "data": {
      "text/plain": [
       "[0, 1, 2, 3, 4, 5, 6, 7, 8, 9]"
      ]
     },
     "execution_count": 31,
     "metadata": {},
     "output_type": "execute_result"
    }
   ],
   "source": [
    "L = [5,7,8,6,9,4,3,2]\n",
    "L = [1,0,2,9,3,8,4,7,5,6]\n",
    "L.sort()\n",
    "L"
   ]
  },
  {
   "cell_type": "code",
   "execution_count": 33,
   "id": "11ae5082-6109-4b27-adf2-e56892508d0f",
   "metadata": {},
   "outputs": [
    {
     "data": {
      "text/plain": [
       "[1, 0, 2, 9, 3, 8, 4, 7, 5, 6]"
      ]
     },
     "execution_count": 33,
     "metadata": {},
     "output_type": "execute_result"
    }
   ],
   "source": [
    "L = [1,0,2,9,3,8,4,7,5,6]\n",
    "sorted(L)\n",
    "L"
   ]
  },
  {
   "cell_type": "code",
   "execution_count": 35,
   "id": "6132fb79-d8cd-499e-89a7-a63e58e20dc1",
   "metadata": {},
   "outputs": [],
   "source": [
    "# Examples"
   ]
  },
  {
   "cell_type": "code",
   "execution_count": 37,
   "id": "3005b3b7-825b-4be6-80c1-af4f83d11746",
   "metadata": {},
   "outputs": [
    {
     "data": {
      "text/plain": [
       "[23, 45, 67, 89, 87, 80]"
      ]
     },
     "execution_count": 37,
     "metadata": {},
     "output_type": "execute_result"
    }
   ],
   "source": [
    "L = [20,40,50,60,70,80]\n",
    "L[4] = 87\n",
    "L\n",
    "\n",
    "L[:4] = 23,45,67,89\n",
    "L"
   ]
  },
  {
   "cell_type": "code",
   "execution_count": 39,
   "id": "88e4e250-b7c9-4641-8fa6-6029660490bb",
   "metadata": {},
   "outputs": [
    {
     "data": {
      "text/plain": [
       "[40, 30]"
      ]
     },
     "execution_count": 39,
     "metadata": {},
     "output_type": "execute_result"
    }
   ],
   "source": [
    "# DELETING \n",
    "\n",
    "L = [40,50,60,70,30]\n",
    "# index\n",
    "\n",
    "del L[-3]\n",
    "L\n",
    "\n",
    "#SLICING \n",
    "del L[1:3]\n",
    "L\n",
    "\n",
    "# del L\n",
    "L"
   ]
  },
  {
   "cell_type": "code",
   "execution_count": 41,
   "id": "26291ea7-4917-4294-a230-139a1d990000",
   "metadata": {},
   "outputs": [
    {
     "data": {
      "text/plain": [
       "[1, 2, 3, 5]"
      ]
     },
     "execution_count": 41,
     "metadata": {},
     "output_type": "execute_result"
    }
   ],
   "source": [
    "# remove\n",
    "\n",
    "L = [1,2,3,4,5]\n",
    "\n",
    "L.remove(4)\n",
    "L"
   ]
  },
  {
   "cell_type": "code",
   "execution_count": 43,
   "id": "d485506f-fa12-41ee-b6c8-7f72368bc89a",
   "metadata": {},
   "outputs": [
    {
     "data": {
      "text/plain": [
       "[1, 2, 3, 4, 5, 7, 8, 9]"
      ]
     },
     "execution_count": 43,
     "metadata": {},
     "output_type": "execute_result"
    }
   ],
   "source": [
    "# pop\n",
    "L = [1,2,3,4,5,7,8,9,10]\n",
    "\n",
    "L.pop()\n",
    "L"
   ]
  },
  {
   "cell_type": "code",
   "execution_count": 45,
   "id": "1e26ac1e-206a-4e4f-bdbc-65f9c85913c1",
   "metadata": {},
   "outputs": [
    {
     "data": {
      "text/plain": [
       "[]"
      ]
     },
     "execution_count": 45,
     "metadata": {},
     "output_type": "execute_result"
    }
   ],
   "source": [
    "# clear\n",
    "L = [1,2,3,4,5]\n",
    "\n",
    "L.clear()\n",
    "L"
   ]
  },
  {
   "cell_type": "code",
   "execution_count": 47,
   "id": "79b50cdb-234a-4434-90f6-ab68ab10ed94",
   "metadata": {},
   "outputs": [
    {
     "name": "stdout",
     "output_type": "stream",
     "text": [
      "[45, 78, 90, 20, 20, 30, 40, 50]\n",
      "[45, 78, 90, 20, 45, 78, 90, 20, 45, 78, 90, 20, 45, 78, 90, 20]\n"
     ]
    }
   ],
   "source": [
    "# arthematical\n",
    "\n",
    "L = [45,78,90,20]                 \n",
    "L1 = [20,30,40,50]\n",
    "\n",
    "print (L + L1)\n",
    "print (L * 4)"
   ]
  },
  {
   "cell_type": "code",
   "execution_count": 49,
   "id": "45f5aacf-3f81-4048-9c30-9137d5085729",
   "metadata": {},
   "outputs": [
    {
     "name": "stdout",
     "output_type": "stream",
     "text": [
      "False\n",
      "True\n"
     ]
    }
   ],
   "source": [
    "# membership\n",
    "L = [1,2,3,4,5]\n",
    "\n",
    "print(8 in L)\n",
    "print(8 not in L)"
   ]
  },
  {
   "cell_type": "code",
   "execution_count": 51,
   "id": "244abb9d-8b49-4982-aae0-0a66f65d666e",
   "metadata": {},
   "outputs": [
    {
     "name": "stdout",
     "output_type": "stream",
     "text": [
      "10\n",
      "20\n",
      "30\n",
      "40\n",
      "[50, 60]\n"
     ]
    }
   ],
   "source": [
    "# Loop in list \n",
    "L1 = [10,20,30,40,50] \n",
    "L2 = [10,20,30,40,[50,60]]\n",
    "L3 = [[[10,20],[30,40]],[[50,60],[70,80]]]\n",
    "\n",
    "for i in L2:\n",
    "    print(i)"
   ]
  },
  {
   "cell_type": "code",
   "execution_count": 53,
   "id": "f281e6cf-9a45-4a18-8bb7-5307a260472b",
   "metadata": {},
   "outputs": [
    {
     "name": "stdout",
     "output_type": "stream",
     "text": [
      "6\n",
      "Black\n",
      "Yellow\n",
      "['Black', 'Blue', 'Green', 'Red', 'White', 'Yellow']\n"
     ]
    }
   ],
   "source": [
    "# Function on list\n",
    "\n",
    "L = [\"Red\",\"Yellow\",\"Blue\",\"Green\",\"White\",\"Black\"]\n",
    "\n",
    "print(len(L))\n",
    "print(min(L))\n",
    "print(max(L))\n",
    "print(sorted(L))"
   ]
  },
  {
   "cell_type": "code",
   "execution_count": 55,
   "id": "e0d5771c-343c-49a1-ad38-414d2cfea5c6",
   "metadata": {},
   "outputs": [
    {
     "data": {
      "text/plain": [
       "3"
      ]
     },
     "execution_count": 55,
     "metadata": {},
     "output_type": "execute_result"
    }
   ],
   "source": [
    "# count\n",
    "L=[\"Apple\",\"Apple\",\"Mango\",\"Grapes\",\"Cherry\", \"Apple\"]\n",
    "L.count(\"Apple\")"
   ]
  },
  {
   "cell_type": "code",
   "execution_count": 57,
   "id": "bd7e7163-d3e7-42ba-986d-8c2c2cc7a241",
   "metadata": {},
   "outputs": [
    {
     "data": {
      "text/plain": [
       "5"
      ]
     },
     "execution_count": 57,
     "metadata": {},
     "output_type": "execute_result"
    }
   ],
   "source": [
    "# Index\n",
    "L =[2,4,6,8,10,12,14,16,18,20]\n",
    "L.index(12)"
   ]
  },
  {
   "cell_type": "code",
   "execution_count": 59,
   "id": "9a228e89-ddb1-448c-bcc2-49204cdf37e9",
   "metadata": {},
   "outputs": [
    {
     "data": {
      "text/plain": [
       "['S', 'A', 'M', 'I', 'K', 'S', 'H', 'A']"
      ]
     },
     "execution_count": 59,
     "metadata": {},
     "output_type": "execute_result"
    }
   ],
   "source": [
    "# Reverse\n",
    "L = ['A','H','S','K','I','M','A','S']\n",
    "L.reverse()     \n",
    "L"
   ]
  },
  {
   "cell_type": "code",
   "execution_count": 61,
   "id": "6dff47a0-16b5-4f64-94fe-e82099ff3d19",
   "metadata": {},
   "outputs": [
    {
     "data": {
      "text/plain": [
       "[0, 1, 1, 1, 2, 5, 6, 8, 8, 10]"
      ]
     },
     "execution_count": 61,
     "metadata": {},
     "output_type": "execute_result"
    }
   ],
   "source": [
    "# sort\n",
    "L = [5,7,8,6,9,4,3,2]\n",
    "L = [2,5,8,1,6,8,0,10,1,1]\n",
    "L.sort()\n",
    "L"
   ]
  },
  {
   "cell_type": "code",
   "execution_count": 63,
   "id": "2696b7d7-d7f2-45a5-a544-70b162839f79",
   "metadata": {},
   "outputs": [
    {
     "data": {
      "text/plain": [
       "[1, 0, 2, 9, 3, 8, 4, 7, 5, 6]"
      ]
     },
     "execution_count": 63,
     "metadata": {},
     "output_type": "execute_result"
    }
   ],
   "source": [
    "# sorted\n",
    "L = [1,0,2,9,3,8,4,7,5,6]\n",
    "sorted(L)\n",
    "L"
   ]
  },
  {
   "cell_type": "code",
   "execution_count": 65,
   "id": "6e0bb21f-dcdd-4ba8-b6eb-e2ea912fc23f",
   "metadata": {},
   "outputs": [
    {
     "name": "stdout",
     "output_type": "stream",
     "text": [
      "[1, 2, 3, 4, 5, 6, 7, 8, 9, 10]\n"
     ]
    }
   ],
   "source": [
    "L=[]\n",
    "for i in range(1,11):\n",
    "    L.append(i)\n",
    "print(L)"
   ]
  },
  {
   "cell_type": "markdown",
   "id": "e25bdbc6-b3ae-4c20-83b9-3d8c96a094d1",
   "metadata": {},
   "source": [
    "# List Comprehension\n",
    "### new_list= [Expression for varialble name in sequence if condition= True]\n"
   ]
  },
  {
   "cell_type": "code",
   "execution_count": 70,
   "id": "0e6c9d48-4e24-46a9-81d9-fc49f3b4276b",
   "metadata": {},
   "outputs": [
    {
     "data": {
      "text/plain": [
       "[1, 2, 3, 4, 5, 6, 7, 8, 9, 10]"
      ]
     },
     "execution_count": 70,
     "metadata": {},
     "output_type": "execute_result"
    }
   ],
   "source": [
    "l=[i for i in range(1,11)]\n",
    "l"
   ]
  },
  {
   "cell_type": "code",
   "execution_count": 72,
   "id": "b143e7fa-adb2-4524-ad4b-d303371e4e76",
   "metadata": {},
   "outputs": [
    {
     "name": "stdout",
     "output_type": "stream",
     "text": [
      "[1, 4, 9, 16, 25]\n"
     ]
    }
   ],
   "source": [
    "L=[1,2,3,4,5]\n",
    "L1= []\n",
    "\n",
    "for i in L:\n",
    "    L1. append(i**2)\n",
    "print(L1)"
   ]
  },
  {
   "cell_type": "code",
   "execution_count": 74,
   "id": "901c1c8b-ae5b-40d0-89b7-bdef0daa1180",
   "metadata": {},
   "outputs": [
    {
     "name": "stdout",
     "output_type": "stream",
     "text": [
      "[1, 32, 243, 1024, 3125]\n"
     ]
    }
   ],
   "source": [
    "L= [1,2,3,4,5]\n",
    "L1= []\n",
    "\n",
    "for i in L:\n",
    "    L1. append(i**5)\n",
    "print(L1)"
   ]
  },
  {
   "cell_type": "code",
   "execution_count": 76,
   "id": "4a8de098-abfa-44b2-9590-1c8ca5320fa1",
   "metadata": {},
   "outputs": [
    {
     "data": {
      "text/plain": [
       "[1, 4, 9, 16, 25]"
      ]
     },
     "execution_count": 76,
     "metadata": {},
     "output_type": "execute_result"
    }
   ],
   "source": [
    "L=[1,2,3,4,5]\n",
    "[i**2 for i in L]"
   ]
  },
  {
   "cell_type": "code",
   "execution_count": 78,
   "id": "2ebdc948-62de-46c2-a16b-d118753aea2a",
   "metadata": {},
   "outputs": [
    {
     "data": {
      "text/plain": [
       "[5, 10, 15, 20, 25, 30, 35, 40, 45, 50]"
      ]
     },
     "execution_count": 78,
     "metadata": {},
     "output_type": "execute_result"
    }
   ],
   "source": [
    "# print all numbers divible by 5 in the range of 1 to 50\n",
    "\n",
    "L=[1,2,3,4,5]\n",
    "[i for i in range(1,51) if i%5==0]"
   ]
  },
  {
   "cell_type": "code",
   "execution_count": 80,
   "id": "66d76e82-3004-4366-a7ab-a6352ce78ad1",
   "metadata": {},
   "outputs": [
    {
     "data": {
      "text/plain": [
       "[-6, -9, -12]"
      ]
     },
     "execution_count": 80,
     "metadata": {},
     "output_type": "execute_result"
    }
   ],
   "source": [
    "# Scalor multipliaction on vector\n",
    "V= [2,3,4]\n",
    "S=-3\n",
    "# [-6,-9,-12]\n",
    "\n",
    "[i*S for i in V]"
   ]
  },
  {
   "cell_type": "code",
   "execution_count": 82,
   "id": "e8876945-74cd-4531-adcb-adb76b527159",
   "metadata": {},
   "outputs": [
    {
     "data": {
      "text/plain": [
       "['python', 'pyspark', 'php']"
      ]
     },
     "execution_count": 82,
     "metadata": {},
     "output_type": "execute_result"
    }
   ],
   "source": [
    "# Find the Languages starts with \"p\" \n",
    "\n",
    "Languages= [\"Java\",\"C\",\"python\",\"pyspark\",\"scala\", \"php\"]\n",
    "[i for i in Languages if i. startswith(\"p\")]"
   ]
  },
  {
   "cell_type": "code",
   "execution_count": 84,
   "id": "fe7ad26d-7fd8-4cdc-9b03-a7a30bdb7771",
   "metadata": {},
   "outputs": [
    {
     "data": {
      "text/plain": [
       "['apple']"
      ]
     },
     "execution_count": 84,
     "metadata": {},
     "output_type": "execute_result"
    }
   ],
   "source": [
    "Basket=[\"apple\", \"cherry\",\"guava\",\"banana\",\"avacado\"]\n",
    "my_fruits=[\"apple\",\"kiwi\",\"grapes\",\"banana\"]\n",
    "\n",
    "[i for i in my_fruits if i in Basket if  i.startswith (\"a\")]"
   ]
  },
  {
   "cell_type": "code",
   "execution_count": 86,
   "id": "d5f37acd-4bb9-444d-a07c-cde803ebac44",
   "metadata": {},
   "outputs": [
    {
     "data": {
      "text/plain": [
       "[5, 6, 7, 8, 10, 12, 14, 16, 15, 18, 21, 24, 20, 24, 28, 32]"
      ]
     },
     "execution_count": 86,
     "metadata": {},
     "output_type": "execute_result"
    }
   ],
   "source": [
    "# Find the cartesion product of given two list \n",
    "\n",
    "L1=[1,2,3,4]\n",
    "L2=[5,6,7,8]\n",
    "\n",
    "[i*j for i in L1 for j in L2]"
   ]
  },
  {
   "cell_type": "markdown",
   "id": "0d91d6bb-3b79-4b05-9fbf-79815f3adc3c",
   "metadata": {},
   "source": [
    "# ZIP"
   ]
  },
  {
   "cell_type": "code",
   "execution_count": 89,
   "id": "0b9be3b4-19d5-4871-8250-a0a5a0164b67",
   "metadata": {},
   "outputs": [
    {
     "data": {
      "text/plain": [
       "[0, 0, 0, 0]"
      ]
     },
     "execution_count": 89,
     "metadata": {},
     "output_type": "execute_result"
    }
   ],
   "source": [
    "L1= [1,2,3,4]\n",
    "L2= [-1,-2,-3,-4]\n",
    "\n",
    "# [0,0,0,0]\n",
    "list(zip(L1,L2))\n",
    "\n",
    "[i+j for i,j in zip (L1,L2)]"
   ]
  },
  {
   "cell_type": "code",
   "execution_count": 91,
   "id": "d7ab5cfa-ec62-4f9f-a081-f44ea877e36f",
   "metadata": {},
   "outputs": [
    {
     "name": "stdout",
     "output_type": "stream",
     "text": [
      "5\n",
      "6\n",
      "7\n",
      "8\n",
      "9\n",
      "2\n",
      "3\n"
     ]
    }
   ],
   "source": [
    "# Two Ways to travels in list \n",
    "\n",
    "# first Way\n",
    "L= [5,6,7,8,9,2,3]\n",
    "# for i in L:\n",
    "    # print (i)\n",
    "\n",
    "# second way\n",
    "for i in range (0,len (L)):\n",
    "    print (L[i])"
   ]
  },
  {
   "cell_type": "code",
   "execution_count": null,
   "id": "47a677c8-c219-4ff3-b62d-2a441bf92c61",
   "metadata": {},
   "outputs": [],
   "source": []
  }
 ],
 "metadata": {
  "kernelspec": {
   "display_name": "Python 3 (ipykernel)",
   "language": "python",
   "name": "python3"
  },
  "language_info": {
   "codemirror_mode": {
    "name": "ipython",
    "version": 3
   },
   "file_extension": ".py",
   "mimetype": "text/x-python",
   "name": "python",
   "nbconvert_exporter": "python",
   "pygments_lexer": "ipython3",
   "version": "3.11.7"
  }
 },
 "nbformat": 4,
 "nbformat_minor": 5
}
