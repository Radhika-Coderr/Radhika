{
 "cells": [
  {
   "cell_type": "markdown",
   "id": "af4f1cf8-d4da-4345-981f-74cfcda498f9",
   "metadata": {},
   "source": [
    "# Find the length of given string (given by user)\n",
    "### without using len() function"
   ]
  },
  {
   "cell_type": "code",
   "execution_count": 2,
   "id": "2051e29a-b809-4126-8fd6-e2acb46c7f08",
   "metadata": {},
   "outputs": [
    {
     "name": "stdin",
     "output_type": "stream",
     "text": [
      "Taking string from user radha krishna\n"
     ]
    },
    {
     "name": "stdout",
     "output_type": "stream",
     "text": [
      "length of string is 13\n"
     ]
    }
   ],
   "source": [
    "str1 = (input(\"Taking string from user\"))\n",
    "\n",
    "count=0\n",
    "for i in str1:\n",
    "    count +=1\n",
    "print (\"length of string is\",count)"
   ]
  },
  {
   "cell_type": "markdown",
   "id": "83ccf4ca-de72-4061-8d72-23c242681e4a",
   "metadata": {},
   "source": [
    "# Extract user id from given mail i'd\n",
    "### example :- if the mail is radhikarathod2010@gmail.com\n",
    "### then user name should be \"radhikarathod2010\""
   ]
  },
  {
   "cell_type": "code",
   "execution_count": 5,
   "id": "e931b078-8410-4c3e-923e-7e5e2294527a",
   "metadata": {},
   "outputs": [
    {
     "name": "stdin",
     "output_type": "stream",
     "text": [
      "enter your mail_id radhikarathod2010@gmail.com\n"
     ]
    },
    {
     "name": "stdout",
     "output_type": "stream",
     "text": [
      "radhikarathod2\n"
     ]
    }
   ],
   "source": [
    "mail_id = input (\"enter your mail_id\")\n",
    "poss = mail_id.index(\"0\")\n",
    "print(mail_id[0:poss])"
   ]
  },
  {
   "cell_type": "markdown",
   "id": "9560d0eb-7a2a-452b-a59d-d25ec207ae8c",
   "metadata": {},
   "source": [
    "### Example:- \"how are you\",is the string ,the frequency of\"h\" in this string is 2 without using count function"
   ]
  },
  {
   "cell_type": "code",
   "execution_count": 9,
   "id": "2904a464-7e40-47f7-bcb5-5c669f391490",
   "metadata": {},
   "outputs": [
    {
     "name": "stdin",
     "output_type": "stream",
     "text": [
      "Enter your string hey,what's app \n",
      "what would you like to search  after long meetsup\n"
     ]
    },
    {
     "name": "stdout",
     "output_type": "stream",
     "text": [
      "frequency of your char is  0\n"
     ]
    }
   ],
   "source": [
    "s = input(\"Enter your string\")\n",
    "term = input(\"what would you like to search \")\n",
    "\n",
    "counter = 0\n",
    "for i in s :\n",
    "    if i == term:\n",
    "        counter +=1\n",
    "print(\"frequency of your char is \",counter)"
   ]
  },
  {
   "cell_type": "markdown",
   "id": "040cd0a8-25dc-4695-9a4d-57dafd264434",
   "metadata": {},
   "source": [
    "# Write a program which can remove a particular character from string "
   ]
  },
  {
   "cell_type": "code",
   "execution_count": 4,
   "id": "6dfff337-7ea3-461b-ab56-ab521f175680",
   "metadata": {},
   "outputs": [
    {
     "name": "stdin",
     "output_type": "stream",
     "text": [
      "enter you string radhee radhee\n",
      "what you want to remove e\n"
     ]
    },
    {
     "name": "stdout",
     "output_type": "stream",
     "text": [
      "radh radh\n"
     ]
    }
   ],
   "source": [
    "s = input(\"enter you string\")\n",
    "term = input (\"what you want to remove\")\n",
    "\n",
    "result = \"\"\n",
    "\n",
    "for i in s:\n",
    "    if i != term:\n",
    "        result = result + i \n",
    "print(result)"
   ]
  },
  {
   "cell_type": "markdown",
   "id": "deb5cf4e-825e-4af8-b694-9e55d34db997",
   "metadata": {},
   "source": [
    "# Write a program that can check wherther 4 a given string is palindrome or not---- #adda, #malayam"
   ]
  },
  {
   "cell_type": "code",
   "execution_count": 9,
   "id": "b7764fb4-f177-4c5f-bfa6-f10e7f998c39",
   "metadata": {},
   "outputs": [
    {
     "name": "stdout",
     "output_type": "stream",
     "text": [
      " 'abba' is a palidrome.\n",
      " 'malayam'is not a palidrome.\n"
     ]
    }
   ],
   "source": [
    "def is_palindrome(s):\n",
    "    s=s.replace(\" \",\" \").lower()\n",
    "    return s ==s[::-1]\n",
    "\n",
    "test_strings=[\"abba\",\"malayam\"]\n",
    "for s in test_strings:\n",
    "    if is_palindrome(s):\n",
    "        print(f\" '{s}' is a palidrome.\")\n",
    "    else:\n",
    "        print(f\" '{s}'is not a palidrome.\")"
   ]
  },
  {
   "cell_type": "markdown",
   "id": "9045981e-fae6-4021-bc34-99360412b02a",
   "metadata": {},
   "source": [
    "# Write a program to count the number of words in a string without split()"
   ]
  },
  {
   "cell_type": "code",
   "execution_count": 2,
   "id": "d6c7e500-b17b-4ee1-8028-2e0788aa0f20",
   "metadata": {},
   "outputs": [
    {
     "ename": "SyntaxError",
     "evalue": "'return' outside function (2747643581.py, line 12)",
     "output_type": "error",
     "traceback": [
      "\u001b[1;36m  Cell \u001b[1;32mIn[2], line 12\u001b[1;36m\u001b[0m\n\u001b[1;33m    return count\u001b[0m\n\u001b[1;37m    ^\u001b[0m\n\u001b[1;31mSyntaxError\u001b[0m\u001b[1;31m:\u001b[0m 'return' outside function\n"
     ]
    }
   ],
   "source": [
    "def count_words(s):\n",
    "    count=0\n",
    "    in_word= False\n",
    "\n",
    "for char in s:\n",
    "    if char.isalnum():\n",
    "        if not in_words:\n",
    "            count +=1\n",
    "            in_word= True\n",
    "        else:\n",
    "            in_word= False\n",
    "    return count\n",
    "test_strings =[\"Hello\", \"How have you been?\", \"Good to see you\"]\n",
    "for s in test_strings:\n",
    "        print(f\" '{s}'has {count_words(s)}words.\")"
   ]
  },
  {
   "cell_type": "markdown",
   "id": "35d45900-6482-4ddc-a8c2-1ce835e70978",
   "metadata": {},
   "source": [
    "# write a python program to convert a string to title case without using the title()"
   ]
  },
  {
   "cell_type": "code",
   "execution_count": 5,
   "id": "18cd55a1-df6d-4979-adfd-54d039941b4e",
   "metadata": {},
   "outputs": [
    {
     "ename": "IndentationError",
     "evalue": "unexpected indent (3936962860.py, line 17)",
     "output_type": "error",
     "traceback": [
      "\u001b[1;36m  Cell \u001b[1;32mIn[5], line 17\u001b[1;36m\u001b[0m\n\u001b[1;33m    test_strings=[\"Good Morning\", \"hello\", \"how are you\"]\u001b[0m\n\u001b[1;37m    ^\u001b[0m\n\u001b[1;31mIndentationError\u001b[0m\u001b[1;31m:\u001b[0m unexpected indent\n"
     ]
    }
   ],
   "source": [
    "def title(s):\n",
    "    result=[]\n",
    "    new_word= True\n",
    "    for char in s :\n",
    "        if char.isalpha():\n",
    "            if new_word:\n",
    "                result .append(char.upper())\n",
    "                new_word=False\n",
    "            else:\n",
    "                result.append (char.lower())\n",
    "        else:\n",
    "            result.append(char)\n",
    "        if char.isspace():\n",
    "            new_word=True\n",
    "        else:new_word=False\n",
    "return ' '.join(reslut)\n",
    "      test_strings=[\"Good Morning\", \"hello\", \"how are you\"]\n",
    "for s in test-strings:\n",
    "    print(f\"Original:{s}'\")\n",
    "print(f\"Title Case:'{to_title_case(s)}'\\n\")"
   ]
  },
  {
   "cell_type": "code",
   "execution_count": null,
   "id": "0acc00ef-b96d-4ecc-8339-7e4ba8ff264c",
   "metadata": {},
   "outputs": [],
   "source": []
  }
 ],
 "metadata": {
  "kernelspec": {
   "display_name": "Python 3 (ipykernel)",
   "language": "python",
   "name": "python3"
  },
  "language_info": {
   "codemirror_mode": {
    "name": "ipython",
    "version": 3
   },
   "file_extension": ".py",
   "mimetype": "text/x-python",
   "name": "python",
   "nbconvert_exporter": "python",
   "pygments_lexer": "ipython3",
   "version": "3.11.7"
  }
 },
 "nbformat": 4,
 "nbformat_minor": 5
}
