{
 "cells": [
  {
   "cell_type": "code",
   "execution_count": 1,
   "id": "ac55efef-3419-4f26-825e-ac0a49291c1d",
   "metadata": {},
   "outputs": [
    {
     "name": "stdout",
     "output_type": "stream",
     "text": [
      "4\n"
     ]
    },
    {
     "data": {
      "text/plain": [
       "str"
      ]
     },
     "execution_count": 1,
     "metadata": {},
     "output_type": "execute_result"
    }
   ],
   "source": [
    "s1 = \" string hello world\"\n",
    "s2 = \"i dom't like it\"\n",
    "s3 = \"\"\"hi select one option\"\n",
    "1.cms to fit\n",
    "2.km in miles\n",
    "3.usd to inr\n",
    "4.exit\n",
    "\"\"\"\n",
    "\n",
    "s4=str(4)\n",
    "print(s4)\n",
    "type(s4)"
   ]
  },
  {
   "cell_type": "markdown",
   "id": "a2a66d09-5072-4630-b530-7119faa17768",
   "metadata": {},
   "source": [
    "# Positive (+) indexing -----Starts with 0 from Left to Right "
   ]
  },
  {
   "cell_type": "code",
   "execution_count": 4,
   "id": "22268c1d-6475-4196-84f8-f884270eaa8f",
   "metadata": {},
   "outputs": [
    {
     "data": {
      "text/plain": [
       "'H'"
      ]
     },
     "execution_count": 4,
     "metadata": {},
     "output_type": "execute_result"
    }
   ],
   "source": [
    "str1= \"Hello World\"\n",
    "str1[0]"
   ]
  },
  {
   "cell_type": "markdown",
   "id": "67ba7cb6-b18c-4466-a622-d3bfb59c04ed",
   "metadata": {},
   "source": [
    "# Negative (-) indexing --------Starts with -1 from right to left"
   ]
  },
  {
   "cell_type": "code",
   "execution_count": null,
   "id": "ef8dcd30-ced7-438d-9b0e-0f218890629a",
   "metadata": {},
   "outputs": [],
   "source": [
    "str[10]"
   ]
  },
  {
   "cell_type": "markdown",
   "id": "00cb4111-db7c-436d-9f9a-9e3a24fe3eea",
   "metadata": {},
   "source": [
    "# Slicing"
   ]
  },
  {
   "cell_type": "code",
   "execution_count": 12,
   "id": "e853c53b-3f56-48d1-8692-8f7c5aba6cfd",
   "metadata": {},
   "outputs": [
    {
     "data": {
      "text/plain": [
       "'Hello'"
      ]
     },
     "execution_count": 12,
     "metadata": {},
     "output_type": "execute_result"
    }
   ],
   "source": [
    "str2= \"My name is Chetan\"\n",
    "str2[11:17:2]\n",
    "\n",
    "str3=\"Hello World\"\n",
    "str3[0:]\n",
    "str3[::-1]\n",
    "str3[-11:-6]"
   ]
  },
  {
   "cell_type": "markdown",
   "id": "2e9aa032-aa46-42de-a84f-dcc3021f9485",
   "metadata": {},
   "source": [
    "# Operation On String"
   ]
  },
  {
   "cell_type": "markdown",
   "id": "103fbbbf-a5df-4284-96ba-6d1846795bcf",
   "metadata": {},
   "source": [
    "## Arithmetic Operation +,-,*,/ Logical Operation <,>,=,!="
   ]
  },
  {
   "cell_type": "code",
   "execution_count": 18,
   "id": "b6985b79-cf1e-4652-88be-4bb6e586c8f7",
   "metadata": {},
   "outputs": [
    {
     "name": "stdout",
     "output_type": "stream",
     "text": [
      "DelhiMumbai\n",
      "AAAAAAAAAAAAAAAAAAAAAAAAAAAAAAAAAAAAAAAA\n",
      "******************************\n"
     ]
    }
   ],
   "source": [
    "# arithmetic operator\n",
    "print(\"Delhi\" + \"Mumbai\")\n",
    "print(\"A\"*40)\n",
    "print(\"*\"*30)"
   ]
  },
  {
   "cell_type": "code",
   "execution_count": 22,
   "id": "9d80f6f4-af63-4bd9-a0a3-e2340dc5d30d",
   "metadata": {},
   "outputs": [
    {
     "name": "stdout",
     "output_type": "stream",
     "text": [
      "11\n",
      "r\n",
      " \n",
      "[' ', 'H', 'W', 'd', 'e', 'l', 'l', 'l', 'o', 'o', 'r']\n"
     ]
    }
   ],
   "source": [
    "s= \"Hello World\"\n",
    "print(len(s))\n",
    "print(max(s))\n",
    "print(min(s))\n",
    "print(sorted(s))"
   ]
  },
  {
   "cell_type": "code",
   "execution_count": 26,
   "id": "5ac374f0-6074-4cda-9bf0-1e10596cb6a7",
   "metadata": {},
   "outputs": [
    {
     "name": "stdout",
     "output_type": "stream",
     "text": [
      "Hello world\n",
      "Hello World\n",
      "HELLO WORLD\n",
      "hello world\n",
      "HEllO WOrLd\n"
     ]
    }
   ],
   "source": [
    "# captialize, title, upper, lower, swapcase\n",
    "\n",
    "s=\"heLLo woRlD\"\n",
    "print(s.capitalize())\n",
    "print(s.title())\n",
    "print(s.upper())\n",
    "print(s.lower())\n",
    "print(s.swapcase())"
   ]
  },
  {
   "cell_type": "code",
   "execution_count": 28,
   "id": "3271353b-7141-4712-b208-a96c37c72fc8",
   "metadata": {},
   "outputs": [
    {
     "name": "stdout",
     "output_type": "stream",
     "text": [
      "0\n",
      "0\n",
      "1\n"
     ]
    }
   ],
   "source": [
    "#count, find,index\n",
    "\n",
    "s= \"hello world \"\n",
    "\n",
    "print(s.count(\"1\"))\n",
    "print(s.count(\"0\"))\n",
    "print(s.count(\"w\"))"
   ]
  },
  {
   "cell_type": "code",
   "execution_count": 30,
   "id": "7f94d892-657b-45cf-a558-0b1dafce859f",
   "metadata": {},
   "outputs": [
    {
     "data": {
      "text/plain": [
       "True"
      ]
     },
     "execution_count": 30,
     "metadata": {},
     "output_type": "execute_result"
    }
   ],
   "source": [
    "# startswith, endswith\n",
    "\n",
    "s=\"hello world\"\n",
    "\n",
    "s.startswith(\"0\")\n",
    "s.endswith(\"d\")"
   ]
  },
  {
   "cell_type": "code",
   "execution_count": 34,
   "id": "92779fba-2a30-4c8d-9947-fe85b7bfa133",
   "metadata": {},
   "outputs": [
    {
     "ename": "AttributeError",
     "evalue": "'str' object has no attribute 'isidentifer'",
     "output_type": "error",
     "traceback": [
      "\u001b[1;31m---------------------------------------------------------------------------\u001b[0m",
      "\u001b[1;31mAttributeError\u001b[0m                            Traceback (most recent call last)",
      "Cell \u001b[1;32mIn[34], line 9\u001b[0m\n\u001b[0;32m      5\u001b[0m \u001b[38;5;124m\"\u001b[39m\u001b[38;5;124mhello\u001b[39m\u001b[38;5;124m\"\u001b[39m\u001b[38;5;241m.\u001b[39misalpha()\n\u001b[0;32m      7\u001b[0m \u001b[38;5;124m\"\u001b[39m\u001b[38;5;124m123456789\u001b[39m\u001b[38;5;124m\"\u001b[39m\u001b[38;5;241m.\u001b[39misdigit()\n\u001b[1;32m----> 9\u001b[0m \u001b[38;5;124m\"\u001b[39m\u001b[38;5;124m2num\u001b[39m\u001b[38;5;124m\"\u001b[39m\u001b[38;5;241m.\u001b[39misidentifer()\n",
      "\u001b[1;31mAttributeError\u001b[0m: 'str' object has no attribute 'isidentifer'"
     ]
    }
   ],
   "source": [
    "#isalnum ,isalpha , isdigit , isidentifer\n",
    "\n",
    "\"ABC123\".isalnum()\n",
    "\n",
    "\"hello\".isalpha()\n",
    "\n",
    "\"123456789\".isdigit()\n",
    "\n",
    "\"2num\".isidentifer()"
   ]
  },
  {
   "cell_type": "code",
   "execution_count": 36,
   "id": "9fc38a9b-8570-46f0-bfc6-99b9cc6a5d49",
   "metadata": {},
   "outputs": [
    {
     "data": {
      "text/plain": [
       "['My', 'name', 'is', 'Radhika']"
      ]
     },
     "execution_count": 36,
     "metadata": {},
     "output_type": "execute_result"
    }
   ],
   "source": [
    "#Split , join\n",
    "\n",
    "\"My name is Radhika\".split()"
   ]
  },
  {
   "cell_type": "code",
   "execution_count": 38,
   "id": "11113980-7d0d-4e7b-ac8e-8bc1e1de8235",
   "metadata": {},
   "outputs": [
    {
     "data": {
      "text/plain": [
       "'My Name is Radhika'"
      ]
     },
     "execution_count": 38,
     "metadata": {},
     "output_type": "execute_result"
    }
   ],
   "source": [
    "\" \".join (['My','Name','is','Radhika'])"
   ]
  },
  {
   "cell_type": "code",
   "execution_count": 40,
   "id": "7fb33db1-a36d-4eee-be0f-a39e0e6ecb47",
   "metadata": {},
   "outputs": [
    {
     "data": {
      "text/plain": [
       "'My Name is Janhavi'"
      ]
     },
     "execution_count": 40,
     "metadata": {},
     "output_type": "execute_result"
    }
   ],
   "source": [
    "#replace\n",
    "\n",
    "\"My Name is Radhika\".replace(\"Radhika\",\"Janhavi\")"
   ]
  },
  {
   "cell_type": "code",
   "execution_count": 42,
   "id": "da46a1b3-5100-49c1-8ef7-7193834a6899",
   "metadata": {},
   "outputs": [
    {
     "data": {
      "text/plain": [
       "'Radhika'"
      ]
     },
     "execution_count": 42,
     "metadata": {},
     "output_type": "execute_result"
    }
   ],
   "source": [
    "# strip\n",
    "\n",
    "\"Radhika            \".strip()"
   ]
  },
  {
   "cell_type": "code",
   "execution_count": 44,
   "id": "47370361-4e3e-4efc-ac4e-2f7e54e3c4a3",
   "metadata": {},
   "outputs": [
    {
     "data": {
      "text/plain": [
       "'Radhika'"
      ]
     },
     "execution_count": 44,
     "metadata": {},
     "output_type": "execute_result"
    }
   ],
   "source": [
    "\"         Radhika\".lstrip()"
   ]
  },
  {
   "cell_type": "code",
   "execution_count": 46,
   "id": "1d42a283-98a8-44c7-ac05-4e04158f61d2",
   "metadata": {},
   "outputs": [
    {
     "name": "stdout",
     "output_type": "stream",
     "text": [
      "13\n",
      "y\n",
      " \n",
      "[' ', ' ', 'T', 'e', 'e', 'i', 'i', 'm', 'm', 'n', 'o', 's', 'y']\n"
     ]
    }
   ],
   "source": [
    "s = \"Time is money\"\n",
    "print (len(s))\n",
    "print (max(s))\n",
    "print (min(s))\n",
    "print (sorted(s))"
   ]
  },
  {
   "cell_type": "code",
   "execution_count": 3,
   "id": "0e26a456-9798-45e8-b3d9-9ecadb487922",
   "metadata": {},
   "outputs": [
    {
     "name": "stdout",
     "output_type": "stream",
     "text": [
      "Sharing is caring\n",
      "Sharing Is Caring\n",
      "SHARING IS CARING\n",
      "sharing is caring\n",
      "SHARING IS CARING\n"
     ]
    }
   ],
   "source": [
    "s = \"sharing is caring\"\n",
    "print(s.capitalize())\n",
    "print(s.title())\n",
    "print(s.upper())\n",
    "print(s.lower())\n",
    "print(s.swapcase())"
   ]
  },
  {
   "cell_type": "code",
   "execution_count": 5,
   "id": "e7cf702e-7fd1-4caa-8a5c-6fe54cfd402c",
   "metadata": {},
   "outputs": [
    {
     "name": "stdout",
     "output_type": "stream",
     "text": [
      "3\n",
      "6\n",
      "1\n"
     ]
    }
   ],
   "source": [
    "s= \"And Them There where none\"\n",
    "\n",
    "print(s.count(\"h\"))\n",
    "print(s.find(\"e\"))\n",
    "print(s.index(\"n\"))"
   ]
  },
  {
   "cell_type": "code",
   "execution_count": 7,
   "id": "581d79ae-e89e-4652-984e-025eb5d4239b",
   "metadata": {},
   "outputs": [
    {
     "data": {
      "text/plain": [
       "True"
      ]
     },
     "execution_count": 7,
     "metadata": {},
     "output_type": "execute_result"
    }
   ],
   "source": [
    "s=\"AAtale of two cities\"\n",
    "\n",
    "s.startswith(\"0\")\n",
    "s.endswith(\"d\")\n",
    "s.startswith(\"A\")\n",
    "s.endswith(\"es\")"
   ]
  },
  {
   "cell_type": "code",
   "execution_count": null,
   "id": "9bb47624-007a-4493-946b-9543669c2aa8",
   "metadata": {},
   "outputs": [],
   "source": []
  }
 ],
 "metadata": {
  "kernelspec": {
   "display_name": "Python 3 (ipykernel)",
   "language": "python",
   "name": "python3"
  },
  "language_info": {
   "codemirror_mode": {
    "name": "ipython",
    "version": 3
   },
   "file_extension": ".py",
   "mimetype": "text/x-python",
   "name": "python",
   "nbconvert_exporter": "python",
   "pygments_lexer": "ipython3",
   "version": "3.11.7"
  }
 },
 "nbformat": 4,
 "nbformat_minor": 5
}
